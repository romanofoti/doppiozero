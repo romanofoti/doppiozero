{
 "cells": [
  {
   "cell_type": "code",
   "execution_count": 1,
   "id": "523518db-07c7-47ce-84b7-161f4b8fb487",
   "metadata": {},
   "outputs": [
    {
     "data": {
      "text/plain": [
       "True"
      ]
     },
     "execution_count": 1,
     "metadata": {},
     "output_type": "execute_result"
    }
   ],
   "source": [
    "from dotenv import load_dotenv\n",
    "from doppiozero.clients.llm import LLMClient\n",
    "\n",
    "load_dotenv()"
   ]
  },
  {
   "cell_type": "code",
   "execution_count": 2,
   "id": "aefef4b9-9737-48fe-ac73-eb096acf0445",
   "metadata": {},
   "outputs": [
    {
     "name": "stderr",
     "output_type": "stream",
     "text": [
      "2025-09-02 18:17:30,228 - doppiozero.clients.llm - llm.py             - _call_openai_api - INFO     - -------------------------------------\n",
      "2025-09-02 18:17:30,228 - doppiozero.clients.llm - llm.py             - _call_openai_api - INFO     - Submitting the request to the LLM (chat)...\n",
      "2025-09-02 18:17:30,229 - doppiozero.clients.llm - llm.py             - _call_openai_api - INFO     - -------------------------------------\n",
      "2025-09-02 18:17:41,744 - httpx      - _client.py         - _send_single_request - INFO     - HTTP Request: POST https://spamurai-eastus2.openai.azure.com/openai/deployments/gpt-5-mini/chat/completions?api-version=2024-12-01-preview \"HTTP/1.1 200 OK\"\n",
      "2025-09-02 18:17:41,763 - doppiozero.clients.llm - llm.py             - generate     - INFO     - **********************************\n",
      "2025-09-02 18:17:41,764 - doppiozero.clients.llm - llm.py             - generate     - INFO     - Returning the following output:\n",
      "2025-09-02 18:17:41,765 - doppiozero.clients.llm - llm.py             - generate     - INFO     - {\n",
      "  \"assistant\": {\n",
      "    \"name\": \"ChatGPT\",\n",
      "    \"description\": \"I am an AI assistant \\u2014 a GPT-style large language model created by OpenAI, accessed via an API.\",\n",
      "    \"model\": \"GPT-style large language model (OpenAI)\",\n",
      "    \"knowledge_cutoff\": \"2024-06\",\n",
      "    \"current_date\": \"2025-09-02\",\n",
      "    \"primary_language\": \"English (can communicate in many other languages)\",\n",
      "    \"capabilities\": [\n",
      "      \"Answer questions and explain concepts\",\n",
      "      \"Summarize and analyze text\",\n",
      "      \"Write and review code in multiple languages\",\n",
      "      \"Generate creative and technical writing\",\n",
      "      \"Translate and format text\",\n",
      "      \"Brainstorm ideas and plan projects\"\n",
      "    ],\n",
      "    \"limitations\": [\n",
      "      \"May produce incorrect or outdated information\",\n",
      "      \"No real-time internet access or ability to fetch live data\",\n",
      "      \"Cannot perform physical-world actions or access private data unless provided\",\n",
      "      \"Not a licensed professional; not a substitute for legal, medical, financial, or other professional advice\",\n",
      "      \"Will refuse or safe-complete requests that are illegal, unsafe, or violate usage policies\"\n",
      "    ],\n",
      "    \"interaction_style\": [\n",
      "      \"Helpful, concise, and safety-conscious\",\n",
      "      \"Can adapt tone and detail level on request\"\n",
      "    ],\n",
      "    \"how_to_use\": [\n",
      "      \"Ask clear questions or provide context for better answers\",\n",
      "      \"Include examples, data, or desired format when relevant\",\n",
      "      \"Request follow-ups or clarifications if needed\"\n",
      "    ]\n",
      "  }\n",
      "}\n",
      "2025-09-02 18:17:41,765 - doppiozero.clients.llm - llm.py             - generate     - INFO     - **********************************\n"
     ]
    }
   ],
   "source": [
    "llm_client = LLMClient(verbose=True)\n",
    "response_dc, raw_output = llm_client.generate(\"Who are you? Please reply in yaml format\")"
   ]
  },
  {
   "cell_type": "code",
   "execution_count": null,
   "id": "7d0ed327-9af8-4672-9321-3ac9c6e56328",
   "metadata": {},
   "outputs": [],
   "source": []
  }
 ],
 "metadata": {
  "kernelspec": {
   "display_name": "Python 3 (ipykernel)",
   "language": "python",
   "name": "python3"
  },
  "language_info": {
   "codemirror_mode": {
    "name": "ipython",
    "version": 3
   },
   "file_extension": ".py",
   "mimetype": "text/x-python",
   "name": "python",
   "nbconvert_exporter": "python",
   "pygments_lexer": "ipython3",
   "version": "3.12.2"
  }
 },
 "nbformat": 4,
 "nbformat_minor": 5
}
