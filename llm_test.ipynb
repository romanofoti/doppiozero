{
 "cells": [
  {
   "cell_type": "code",
   "execution_count": 1,
   "id": "523518db-07c7-47ce-84b7-161f4b8fb487",
   "metadata": {},
   "outputs": [
    {
     "data": {
      "text/plain": [
       "True"
      ]
     },
     "execution_count": 1,
     "metadata": {},
     "output_type": "execute_result"
    }
   ],
   "source": [
    "from dotenv import load_dotenv\n",
    "from doppiozero.clients.llm import LLMClient\n",
    "\n",
    "load_dotenv()"
   ]
  },
  {
   "cell_type": "code",
   "execution_count": null,
   "id": "aefef4b9-9737-48fe-ac73-eb096acf0445",
   "metadata": {},
   "outputs": [
    {
     "name": "stderr",
     "output_type": "stream",
     "text": [
      "2025-09-02 17:57:13,397 - doppiozero.clients.llm - llm.py             - _call_openai_api - INFO     - -------------------------------------\n",
      "2025-09-02 17:57:13,398 - doppiozero.clients.llm - llm.py             - _call_openai_api - INFO     - Submitting the request to the LLM...\n",
      "2025-09-02 17:57:13,399 - doppiozero.clients.llm - llm.py             - _call_openai_api - INFO     - -------------------------------------\n"
     ]
    }
   ],
   "source": [
    "llm_client = LLMClient(verbose=True)\n",
    "response_dc, raw_output = llm_client.generate(\"Who are you? Please reply in yaml format\")"
   ]
  },
  {
   "cell_type": "code",
   "execution_count": null,
   "id": "7d0ed327-9af8-4672-9321-3ac9c6e56328",
   "metadata": {},
   "outputs": [],
   "source": []
  }
 ],
 "metadata": {
  "kernelspec": {
   "display_name": "Python 3 (ipykernel)",
   "language": "python",
   "name": "python3"
  },
  "language_info": {
   "codemirror_mode": {
    "name": "ipython",
    "version": 3
   },
   "file_extension": ".py",
   "mimetype": "text/x-python",
   "name": "python",
   "nbconvert_exporter": "python",
   "pygments_lexer": "ipython3",
   "version": "3.12.2"
  }
 },
 "nbformat": 4,
 "nbformat_minor": 5
}
