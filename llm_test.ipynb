{
 "cells": [
  {
   "cell_type": "code",
   "execution_count": 5,
   "id": "523518db-07c7-47ce-84b7-161f4b8fb487",
   "metadata": {},
   "outputs": [],
   "source": [
    "from dotenv import load_dotenv\n",
    "from doppiozero.clients.llm import LLMClient"
   ]
  },
  {
   "cell_type": "code",
   "execution_count": 6,
   "id": "d755f643-9073-48fa-8510-b243c3e9ff58",
   "metadata": {},
   "outputs": [
    {
     "data": {
      "text/plain": [
       "True"
      ]
     },
     "execution_count": 6,
     "metadata": {},
     "output_type": "execute_result"
    }
   ],
   "source": [
    "load_dotenv()"
   ]
  },
  {
   "cell_type": "code",
   "execution_count": 7,
   "id": "9ae455ca-7497-4ef9-8f56-9dd7ca5913ad",
   "metadata": {},
   "outputs": [],
   "source": [
    "llm_client = LLMClient()"
   ]
  }
 ],
 "metadata": {
  "kernelspec": {
   "display_name": "Python 3 (ipykernel)",
   "language": "python",
   "name": "python3"
  },
  "language_info": {
   "codemirror_mode": {
    "name": "ipython",
    "version": 3
   },
   "file_extension": ".py",
   "mimetype": "text/x-python",
   "name": "python",
   "nbconvert_exporter": "python",
   "pygments_lexer": "ipython3",
   "version": "3.12.2"
  }
 },
 "nbformat": 4,
 "nbformat_minor": 5
}
