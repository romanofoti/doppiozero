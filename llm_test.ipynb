{
 "cells": [
  {
   "cell_type": "code",
   "execution_count": 1,
   "id": "523518db-07c7-47ce-84b7-161f4b8fb487",
   "metadata": {},
   "outputs": [
    {
     "data": {
      "text/plain": [
       "True"
      ]
     },
     "execution_count": 1,
     "metadata": {},
     "output_type": "execute_result"
    }
   ],
   "source": [
    "from dotenv import load_dotenv\n",
    "from doppiozero.clients.llm import LLMClient\n",
    "\n",
    "load_dotenv()"
   ]
  },
  {
   "cell_type": "code",
   "execution_count": 2,
   "id": "aefef4b9-9737-48fe-ac73-eb096acf0445",
   "metadata": {},
   "outputs": [
    {
     "name": "stderr",
     "output_type": "stream",
     "text": [
      "2025-09-02 17:57:13,397 - doppiozero.clients.llm - llm.py             - _call_openai_api - INFO     - -------------------------------------\n",
      "2025-09-02 17:57:13,398 - doppiozero.clients.llm - llm.py             - _call_openai_api - INFO     - Submitting the request to the LLM...\n",
      "2025-09-02 17:57:13,399 - doppiozero.clients.llm - llm.py             - _call_openai_api - INFO     - -------------------------------------\n",
      "2025-09-02 17:57:21,649 - httpx      - _client.py         - _send_single_request - INFO     - HTTP Request: POST https://spamurai-eastus2.openai.azure.com/openai/deployments/gpt-5-mini/chat/completions?api-version=2024-12-01-preview \"HTTP/1.1 200 OK\"\n",
      "2025-09-02 17:57:21,665 - doppiozero.clients.llm - llm.py             - generate     - INFO     - **********************************\n",
      "2025-09-02 17:57:21,666 - doppiozero.clients.llm - llm.py             - generate     - INFO     - Returning the following output:\n",
      "2025-09-02 17:57:21,673 - doppiozero.clients.llm - llm.py             - generate     - INFO     - {\n",
      "  \"name\": \"ChatGPT\",\n",
      "  \"type\": \"AI assistant\",\n",
      "  \"developer\": \"OpenAI\",\n",
      "  \"purpose\": \"Provide helpful, honest, and safe information and assistance in response to user requests.\",\n",
      "  \"languages\": [\n",
      "    \"English\"\n",
      "  ],\n",
      "  \"capabilities\": [\n",
      "    \"Answer questions and explain concepts\",\n",
      "    \"Generate, edit, and summarize text\",\n",
      "    \"Translate text between languages\",\n",
      "    \"Write, review, and debug code\",\n",
      "    \"Help with planning, brainstorming, and problem solving\"\n",
      "  ],\n",
      "  \"limitations\": [\n",
      "    \"May produce incorrect or outdated information\",\n",
      "    \"Does not have real-time access to the web or personal data unless provided in the conversation\",\n",
      "    \"Cannot perform actions in the real world or access private systems\",\n",
      "    \"Not a substitute for professional legal, medical, or financial advice\"\n",
      "  ],\n",
      "  \"knowledge_cutoff\": \"2024-06\",\n",
      "  \"current_date\": \"2025-09-02\"\n",
      "}\n",
      "2025-09-02 17:57:21,679 - doppiozero.clients.llm - llm.py             - generate     - INFO     - **********************************\n"
     ]
    }
   ],
   "source": [
    "llm_client = LLMClient(verbose=True)\n",
    "response_dc, raw_output = llm_client.generate(\"Who are you? Please reply in yaml format\")"
   ]
  },
  {
   "cell_type": "code",
   "execution_count": null,
   "id": "7d0ed327-9af8-4672-9321-3ac9c6e56328",
   "metadata": {},
   "outputs": [],
   "source": []
  }
 ],
 "metadata": {
  "kernelspec": {
   "display_name": "Python 3 (ipykernel)",
   "language": "python",
   "name": "python3"
  },
  "language_info": {
   "codemirror_mode": {
    "name": "ipython",
    "version": 3
   },
   "file_extension": ".py",
   "mimetype": "text/x-python",
   "name": "python",
   "nbconvert_exporter": "python",
   "pygments_lexer": "ipython3",
   "version": "3.12.2"
  }
 },
 "nbformat": 4,
 "nbformat_minor": 5
}
