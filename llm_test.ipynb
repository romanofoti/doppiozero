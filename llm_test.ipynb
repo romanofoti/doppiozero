{
 "cells": [
  {
   "cell_type": "code",
   "execution_count": 1,
   "id": "523518db-07c7-47ce-84b7-161f4b8fb487",
   "metadata": {},
   "outputs": [
    {
     "data": {
      "text/plain": [
       "True"
      ]
     },
     "execution_count": 1,
     "metadata": {},
     "output_type": "execute_result"
    }
   ],
   "source": [
    "from dotenv import load_dotenv\n",
    "from doppiozero.clients.llm import LLMClient\n",
    "\n",
    "load_dotenv()"
   ]
  },
  {
   "cell_type": "code",
   "execution_count": 2,
   "id": "aefef4b9-9737-48fe-ac73-eb096acf0445",
   "metadata": {},
   "outputs": [
    {
     "name": "stderr",
     "output_type": "stream",
     "text": [
      "2025-09-02 12:49:22,076 - doppiozero.clients.llm - llm.py             - _call_openai_api - INFO     - -------------------------------------\n",
      "2025-09-02 12:49:22,077 - doppiozero.clients.llm - llm.py             - _call_openai_api - INFO     - Submitting the request to the LLM...\n",
      "2025-09-02 12:49:22,079 - doppiozero.clients.llm - llm.py             - _call_openai_api - INFO     - -------------------------------------\n",
      "2025-09-02 12:49:22,079 - doppiozero.clients.llm - llm.py             - _call_openai_api - INFO     - Using auth header: Authorization: Bearer; key=AFdc...YnSY\n",
      "2025-09-02 12:49:22,857 - doppiozero.clients.llm - llm.py             - _call_openai_api - INFO     - -------------------------------------\n",
      "2025-09-02 12:49:22,859 - doppiozero.clients.llm - llm.py             - _call_openai_api - ERROR    - The urllib request failed with status code: 401\n",
      "2025-09-02 12:49:22,860 - doppiozero.clients.llm - llm.py             - _call_openai_api - ERROR    - content-type: text/plain\n",
      "content-length: 218\n",
      "date: Tue, 02 Sep 2025 10:49:22 GMT\n",
      "server: azureml-frontdoor\n",
      "x-request-id: 9a3a882a-b1c5-45c2-981d-a77622a40d4f\n",
      "connection: close\n",
      "\n",
      "\n",
      "2025-09-02 12:49:22,873 - doppiozero.clients.llm - llm.py             - _call_openai_api - ERROR    - key_auth_access_denied\n",
      "Please check this guide to understand why this error code might have been returned \n",
      "https://docs.microsoft.com/en-us/azure/machine-learning/how-to-troubleshoot-online-endpoints#http-status-codes\n",
      "\n",
      "2025-09-02 12:49:22,874 - doppiozero.clients.llm - llm.py             - _call_openai_api - INFO     - -------------------------------------\n",
      "2025-09-02 12:49:22,876 - doppiozero.clients.llm - llm.py             - _call_openai_api - INFO     - Using auth header: api-key; key=AFdc...YnSY\n",
      "2025-09-02 12:49:23,333 - doppiozero.clients.llm - llm.py             - _call_openai_api - INFO     - -------------------------------------\n",
      "2025-09-02 12:49:23,334 - doppiozero.clients.llm - llm.py             - _call_openai_api - ERROR    - The urllib request failed with status code: 403\n",
      "2025-09-02 12:49:23,335 - doppiozero.clients.llm - llm.py             - _call_openai_api - ERROR    - content-type: text/plain\n",
      "content-length: 225\n",
      "date: Tue, 02 Sep 2025 10:49:23 GMT\n",
      "server: azureml-frontdoor\n",
      "x-request-id: 7b2f2ebf-9e92-4ded-a631-e8349aa27101\n",
      "connection: close\n",
      "\n",
      "\n",
      "2025-09-02 12:49:23,341 - doppiozero.clients.llm - llm.py             - _call_openai_api - ERROR    - key_auth_bad_header_forbidden\n",
      "Please check this guide to understand why this error code might have been returned \n",
      "https://docs.microsoft.com/en-us/azure/machine-learning/how-to-troubleshoot-online-endpoints#http-status-codes\n",
      "\n",
      "2025-09-02 12:49:23,342 - doppiozero.clients.llm - llm.py             - _call_openai_api - INFO     - -------------------------------------\n",
      "2025-09-02 12:49:23,343 - doppiozero.clients.llm - llm.py             - _call_openai_api - INFO     - **********************************\n",
      "2025-09-02 12:49:23,344 - doppiozero.clients.llm - llm.py             - _call_openai_api - INFO     - Returning the following output:\n",
      "2025-09-02 12:49:23,346 - doppiozero.clients.llm - llm.py             - _call_openai_api - INFO     - {}\n",
      "2025-09-02 12:49:23,346 - doppiozero.clients.llm - llm.py             - _call_openai_api - INFO     - **********************************\n"
     ]
    },
    {
     "data": {
      "text/plain": [
       "''"
      ]
     },
     "execution_count": 2,
     "metadata": {},
     "output_type": "execute_result"
    }
   ],
   "source": [
    "llm_client = LLMClient(verbose=True)\n",
    "llm_client.generate(\"Who are you? Please reply in yaml format\")"
   ]
  },
  {
   "cell_type": "code",
   "execution_count": null,
   "id": "01372cf5-0108-4e35-b9e5-619d9deeee58",
   "metadata": {},
   "outputs": [],
   "source": []
  }
 ],
 "metadata": {
  "kernelspec": {
   "display_name": "Python 3 (ipykernel)",
   "language": "python",
   "name": "python3"
  },
  "language_info": {
   "codemirror_mode": {
    "name": "ipython",
    "version": 3
   },
   "file_extension": ".py",
   "mimetype": "text/x-python",
   "name": "python",
   "nbconvert_exporter": "python",
   "pygments_lexer": "ipython3",
   "version": "3.12.2"
  }
 },
 "nbformat": 4,
 "nbformat_minor": 5
}
