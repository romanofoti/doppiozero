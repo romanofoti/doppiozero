{
 "cells": [
  {
   "cell_type": "code",
   "execution_count": 4,
   "id": "523518db-07c7-47ce-84b7-161f4b8fb487",
   "metadata": {},
   "outputs": [],
   "source": [
    "from doppiozero.clients.llm import LLMClient"
   ]
  },
  {
   "cell_type": "code",
   "execution_count": null,
   "id": "9ae455ca-7497-4ef9-8f56-9dd7ca5913ad",
   "metadata": {},
   "outputs": [],
   "source": []
  }
 ],
 "metadata": {
  "kernelspec": {
   "display_name": "Python 3 (ipykernel)",
   "language": "python",
   "name": "python3"
  },
  "language_info": {
   "codemirror_mode": {
    "name": "ipython",
    "version": 3
   },
   "file_extension": ".py",
   "mimetype": "text/x-python",
   "name": "python",
   "nbconvert_exporter": "python",
   "pygments_lexer": "ipython3",
   "version": "3.12.2"
  }
 },
 "nbformat": 4,
 "nbformat_minor": 5
}
