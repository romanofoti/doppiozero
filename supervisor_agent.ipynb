{
 "cells": [
  {
   "cell_type": "markdown",
   "id": "76b4e4dc",
   "metadata": {},
   "source": [
    "# GitHubAgent runtime test\n",
    "\n",
    "This notebook performs a runtime test of `doppiozero.agents.gh_deep_search.GitHubAgent`.\n",
    "By default the notebook will use your real LLM and content layer when available. To force deterministic offline behavior set `USE_MOCKS = True` in the mocking cell.\n",
    "\n",
    "Run the cells in order. The notebook saves a single `agent_test_output.json` artifact when complete."
   ]
  },
  {
   "cell_type": "code",
   "execution_count": 1,
   "id": "a096751a",
   "metadata": {},
   "outputs": [],
   "source": [
    "import json\n",
    "from dotenv import load_dotenv\n",
    "from pprint import pprint\n",
    "load_dotenv()\n",
    "from doppiozero.agents.supervisor import SupervisorAgent"
   ]
  },
  {
   "cell_type": "markdown",
   "id": "15e01e4a",
   "metadata": {},
   "source": [
    "## Run the agent"
   ]
  },
  {
   "cell_type": "code",
   "execution_count": 2,
   "id": "ee6f785f",
   "metadata": {},
   "outputs": [
    {
     "name": "stderr",
     "output_type": "stream",
     "text": [
      "2025-09-11 10:59:56,322 - doppiozero.nodes.supervisor.decider - decider.py         - exec         - INFO     - 🤔 Agent deciding what to do next...\n",
      "2025-09-11 10:59:56,323 - doppiozero.nodes.supervisor.decider - decider.py         - exec         - INFO     - Carrying out LLM call to decide...\n",
      "2025-09-11 11:00:02,856 - httpx      - _client.py         - _send_single_request - INFO     - HTTP Request: POST https://spamurai-eastus2.openai.azure.com/openai/deployments/gpt-5-mini/chat/completions?api-version=2024-12-01-preview \"HTTP/1.1 200 OK\"\n",
      "2025-09-11 11:00:02,869 - doppiozero.nodes.supervisor.decider - decider.py         - exec         - INFO     - LLM call completed.\n",
      "2025-09-11 11:00:02,870 - doppiozero.nodes.supervisor.decider - decider.py         - exec         - INFO     - Generated the following result: {\n",
      "  \"fallback\": \"empty_response\"\n",
      "}\n",
      "2025-09-11 11:00:02,871 - doppiozero.nodes.supervisor.decider - decider.py         - post         - INFO     - 💡 Agent decided to answer the question!\n",
      "2025-09-11 11:00:07,479 - httpx      - _client.py         - _send_single_request - INFO     - HTTP Request: POST https://spamurai-eastus2.openai.azure.com/openai/deployments/gpt-5-mini/chat/completions?api-version=2024-12-01-preview \"HTTP/1.1 200 OK\"\n",
      "2025-09-11 11:00:07,487 - doppiozero.nodes.supervisor.answerer - answerer.py        - _call_llm    - INFO     - Stage=initial finish_reason=stop answer_len=196 max_tokens=1024\n",
      "2025-09-11 11:00:07,489 - doppiozero.nodes.supervisor.answerer - answerer.py        - post         - INFO     - ✅ Answer generated successfully!\n",
      "2025-09-11 11:00:07,497 - doppiozero.nodes.supervisor.supervisor - supervisor.py      - exec         - INFO     - 🔍 Supervisor checking answer quality...\n",
      "2025-09-11 11:00:12,878 - httpx      - _client.py         - _send_single_request - INFO     - HTTP Request: POST https://spamurai-eastus2.openai.azure.com/openai/deployments/gpt-5-mini/chat/completions?api-version=2024-12-01-preview \"HTTP/1.1 200 OK\"\n",
      "2025-09-11 11:00:12,881 - doppiozero.nodes.supervisor.supervisor - supervisor.py      - exec         - INFO     - LLM call completed.\n",
      "2025-09-11 11:00:12,883 - doppiozero.nodes.supervisor.supervisor - supervisor.py      - exec         - INFO     - Generated the following result: {\n",
      "  \"fallback\": \"```yaml\\nvalid: false\\nreason: The assistant's reply is not acceptable. The user asked a straightforward question that can be answered from general knowledge; refusing to answer due to \\\"no research\\\" is unnecessary and unhelpful. The assistant should have listed frameworks (for example: LangChain, Rasa, and Ray RLlib) and a brief note on their typical use cases rather than asking for external research first.\\n```\"\n",
      "}\n",
      "2025-09-11 11:00:12,889 - doppiozero.nodes.supervisor.supervisor - supervisor.py      - post         - INFO     - ❌ Supervisor rejected answer: No reason provided.\n",
      "2025-09-11 11:00:12,891 - doppiozero.nodes.supervisor.decider - decider.py         - exec         - INFO     - 🤔 Agent deciding what to do next...\n",
      "2025-09-11 11:00:12,892 - doppiozero.nodes.supervisor.decider - decider.py         - exec         - INFO     - Carrying out LLM call to decide...\n",
      "2025-09-11 11:00:18,795 - httpx      - _client.py         - _send_single_request - INFO     - HTTP Request: POST https://spamurai-eastus2.openai.azure.com/openai/deployments/gpt-5-mini/chat/completions?api-version=2024-12-01-preview \"HTTP/1.1 200 OK\"\n",
      "2025-09-11 11:00:18,798 - doppiozero.nodes.supervisor.decider - decider.py         - exec         - INFO     - LLM call completed.\n",
      "2025-09-11 11:00:18,799 - doppiozero.nodes.supervisor.decider - decider.py         - exec         - INFO     - Generated the following result: {\n",
      "  \"fallback\": \"empty_response\"\n",
      "}\n",
      "2025-09-11 11:00:18,801 - doppiozero.nodes.supervisor.decider - decider.py         - post         - INFO     - 💡 Agent decided to answer the question!\n",
      "2025-09-11 11:00:24,029 - httpx      - _client.py         - _send_single_request - INFO     - HTTP Request: POST https://spamurai-eastus2.openai.azure.com/openai/deployments/gpt-5-mini/chat/completions?api-version=2024-12-01-preview \"HTTP/1.1 200 OK\"\n",
      "2025-09-11 11:00:24,038 - doppiozero.nodes.supervisor.answerer - answerer.py        - _call_llm    - INFO     - Stage=initial finish_reason=stop answer_len=334 max_tokens=1024\n",
      "2025-09-11 11:00:24,039 - doppiozero.nodes.supervisor.answerer - answerer.py        - post         - INFO     - ✅ Answer generated successfully!\n",
      "2025-09-11 11:00:24,040 - doppiozero.nodes.supervisor.supervisor - supervisor.py      - exec         - INFO     - 🔍 Supervisor checking answer quality...\n",
      "2025-09-11 11:00:28,413 - httpx      - _client.py         - _send_single_request - INFO     - HTTP Request: POST https://spamurai-eastus2.openai.azure.com/openai/deployments/gpt-5-mini/chat/completions?api-version=2024-12-01-preview \"HTTP/1.1 200 OK\"\n",
      "2025-09-11 11:00:28,417 - doppiozero.nodes.supervisor.supervisor - supervisor.py      - exec         - INFO     - LLM call completed.\n",
      "2025-09-11 11:00:28,419 - doppiozero.nodes.supervisor.supervisor - supervisor.py      - exec         - INFO     - Generated the following result: {\n",
      "  \"valid\": false,\n",
      "  \"reason\": \"The assistant's reply unnecessarily refused to answer because no external \\\"research\\\" was attached. The user asked a general question that can be answered from common knowledge; requiring source documents was not needed. A reasonable response would simply list three widely used Python frameworks for building AI agents (for example LangChain, Rasa, and Ray/RLlib or Haystack) rather than declining to answer.\"\n",
      "}\n",
      "2025-09-11 11:00:28,421 - doppiozero.nodes.supervisor.supervisor - supervisor.py      - post         - INFO     - ❌ Supervisor rejected answer: The assistant's reply unnecessarily refused to answer because no external \"research\" was attached. The user asked a general question that can be answered from common knowledge; requiring source documents was not needed. A reasonable response would simply list three widely used Python frameworks for building AI agents (for example LangChain, Rasa, and Ray/RLlib or Haystack) rather than declining to answer.\n",
      "2025-09-11 11:00:28,425 - doppiozero.nodes.supervisor.decider - decider.py         - exec         - INFO     - 🤔 Agent deciding what to do next...\n",
      "2025-09-11 11:00:28,426 - doppiozero.nodes.supervisor.decider - decider.py         - exec         - INFO     - Carrying out LLM call to decide...\n",
      "2025-09-11 11:00:33,300 - httpx      - _client.py         - _send_single_request - INFO     - HTTP Request: POST https://spamurai-eastus2.openai.azure.com/openai/deployments/gpt-5-mini/chat/completions?api-version=2024-12-01-preview \"HTTP/1.1 200 OK\"\n",
      "2025-09-11 11:00:33,306 - doppiozero.nodes.supervisor.decider - decider.py         - exec         - INFO     - LLM call completed.\n",
      "2025-09-11 11:00:33,308 - doppiozero.nodes.supervisor.decider - decider.py         - exec         - INFO     - Generated the following result: {\n",
      "  \"fallback\": \"empty_response\"\n",
      "}\n",
      "2025-09-11 11:00:33,308 - doppiozero.nodes.supervisor.decider - decider.py         - post         - INFO     - 💡 Agent decided to answer the question!\n",
      "2025-09-11 11:00:40,439 - httpx      - _client.py         - _send_single_request - INFO     - HTTP Request: POST https://spamurai-eastus2.openai.azure.com/openai/deployments/gpt-5-mini/chat/completions?api-version=2024-12-01-preview \"HTTP/1.1 200 OK\"\n",
      "2025-09-11 11:00:40,444 - doppiozero.nodes.supervisor.answerer - answerer.py        - _call_llm    - INFO     - Stage=initial finish_reason=stop answer_len=349 max_tokens=1024\n",
      "2025-09-11 11:00:40,446 - doppiozero.nodes.supervisor.answerer - answerer.py        - post         - INFO     - ✅ Answer generated successfully!\n",
      "2025-09-11 11:00:40,448 - doppiozero.nodes.supervisor.supervisor - supervisor.py      - exec         - INFO     - 🔍 Supervisor checking answer quality...\n",
      "2025-09-11 11:00:43,306 - httpx      - _client.py         - _send_single_request - INFO     - HTTP Request: POST https://spamurai-eastus2.openai.azure.com/openai/deployments/gpt-5-mini/chat/completions?api-version=2024-12-01-preview \"HTTP/1.1 200 OK\"\n",
      "2025-09-11 11:00:43,315 - doppiozero.nodes.supervisor.supervisor - supervisor.py      - exec         - INFO     - LLM call completed.\n",
      "2025-09-11 11:00:43,317 - doppiozero.nodes.supervisor.supervisor - supervisor.py      - exec         - INFO     - Generated the following result: {\n",
      "  \"valid\": true,\n",
      "  \"reason\": \"The response concisely lists three well-known Python frameworks (LangChain, Rasa, and Ray/RLlib) that are commonly used to build different types of AI agents (LLM-based agents, conversational/dialogue agents, and scalable reinforcement-learning agents). The answer is relevant, accurate, and reasonable for the user's request.\"\n",
      "}\n",
      "2025-09-11 11:00:43,319 - doppiozero.nodes.supervisor.supervisor - supervisor.py      - post         - INFO     - ✅ Supervisor approved answer: The response concisely lists three well-known Python frameworks (LangChain, Rasa, and Ray/RLlib) that are commonly used to build different types of AI agents (LLM-based agents, conversational/dialogue agents, and scalable reinforcement-learning agents). The answer is relevant, accurate, and reasonable for the user's request.\n"
     ]
    },
    {
     "name": "stdout",
     "output_type": "stream",
     "text": [
      "=== AGENT RUN RESULT ===\n",
      "Three good Python frameworks are: 1) LangChain — for building LLM-powered agents, chains, and prompt orchestration; 2) Rasa — an open-source framework focused on conversational/goal-oriented chatbots and dialogue management; 3) Ray (with RLlib) — a distributed computing framework whose RLlib library supports scalable reinforcement-learning agents.\n",
      "=== SHARED STATE ===\n",
      "('{\\n'\n",
      " '  \"question\": \"Please tell me 3 good frameworks for building AI Agents in '\n",
      " 'python.\",\\n'\n",
      " '  \"verbose\": true,\\n'\n",
      " '  \"answer\": \"Three good Python frameworks are: 1) LangChain \\\\u2014 for '\n",
      " 'building LLM-powered agents, chains, and prompt orchestration; 2) Rasa '\n",
      " '\\\\u2014 an open-source framework focused on conversational/goal-oriented '\n",
      " 'chatbots and dialogue management; 3) Ray (with RLlib) \\\\u2014 a distributed '\n",
      " 'computing framework whose RLlib library supports scalable '\n",
      " 'reinforcement-learning agents.\",\\n'\n",
      " '  \"context\": \"\\\\n\\\\nNOTE: Previous answer attempt was rejected by supervisor '\n",
      " 'with thefollowing reason: No reason provided.\\\\n\\\\nNOTE: Previous answer '\n",
      " \"attempt was rejected by supervisor with thefollowing reason: The assistant's \"\n",
      " 'reply unnecessarily refused to answer because no external \\\\\"research\\\\\" was '\n",
      " 'attached. The user asked a general question that can be answered from common '\n",
      " 'knowledge; requiring source documents was not needed. A reasonable response '\n",
      " 'would simply list three widely used Python frameworks for building AI agents '\n",
      " '(for example LangChain, Rasa, and Ray/RLlib or Haystack) rather than '\n",
      " 'declining to answer.\"\\n'\n",
      " '}')\n"
     ]
    },
    {
     "name": "stderr",
     "output_type": "stream",
     "text": [
      "/Users/romanofoti/romanofoti/doppiozero/doppiozero/pocketflow/pocketflow.py:95: UserWarning: Flow ends: 'None' not found in ['retry']\n",
      "  warnings.warn(f\"Flow ends: '{action}' not found in {list(curr.successors)}\")\n"
     ]
    },
    {
     "name": "stderr",
     "output_type": "stream",
     "text": [
      "2025-09-04 15:46:20,239 - doppiozero.nodes.researcher - researcher.py      - prep         - INFO     - === INITIAL RESEARCH PHASE ===\n"
     ]
    },
    {
     "name": "stderr",
     "output_type": "stream",
     "text": [
      "2025-09-04 15:46:20,240 - doppiozero.nodes.researcher - researcher.py      - prep         - INFO     - Starting initial semantic search for: What are the recent discussions about authentication failures?\n"
     ]
    },
    {
     "name": "stderr",
     "output_type": "stream",
     "text": [
      "2025-09-04 15:46:20,240 - doppiozero.nodes.researcher - researcher.py      - exec         - INFO     - Executing initial semantic search and enriching results...\n"
     ]
    },
    {
     "name": "stderr",
     "output_type": "stream",
     "text": [
      "2025-09-04 15:46:20,240 - doppiozero.nodes.researcher - researcher.py      - exec         - INFO     - Searching (pass 1): What are the recent discussions about authentication failures? (pass 1)\n"
     ]
    },
    {
     "name": "stderr",
     "output_type": "stream",
     "text": [
      "2025-09-04 15:46:20,240 - doppiozero.nodes.researcher - researcher.py      - exec         - INFO     - Fetching conversation: https://example.com/convo/0\n"
     ]
    },
    {
     "name": "stderr",
     "output_type": "stream",
     "text": [
      "2025-09-04 15:46:20,241 - doppiozero.nodes.researcher - researcher.py      - exec         - INFO     - Fetching conversation: https://example.com/convo/1\n"
     ]
    },
    {
     "name": "stderr",
     "output_type": "stream",
     "text": [
      "2025-09-04 15:46:20,241 - doppiozero.nodes.researcher - researcher.py      - exec         - INFO     - Fetching conversation: https://example.com/convo/2\n"
     ]
    },
    {
     "name": "stderr",
     "output_type": "stream",
     "text": [
      "2025-09-04 15:46:20,241 - doppiozero.nodes.researcher - researcher.py      - exec         - INFO     - ✓ Initial research complete: 3 conversations collected\n"
     ]
    },
    {
     "name": "stderr",
     "output_type": "stream",
     "text": [
      "2025-09-04 15:46:20,241 - doppiozero.nodes.researcher - researcher.py      - post         - INFO     - ✓ Initial research complete: 3 conversations collected\n"
     ]
    },
    {
     "name": "stderr",
     "output_type": "stream",
     "text": [
      "2025-09-04 15:46:20,241 - doppiozero.nodes.clarifier - clarifier.py       - prep         - INFO     - === CLARIFYING QUESTIONS PHASE ===\n"
     ]
    },
    {
     "name": "stderr",
     "output_type": "stream",
     "text": [
      "2025-09-04 15:46:20,242 - doppiozero.nodes.clarifier - clarifier.py       - exec         - INFO     - Presenting clarifying questions to user...\n"
     ]
    },
    {
     "name": "stderr",
     "output_type": "stream",
     "text": [
      "2025-09-04 15:46:20,242 - doppiozero.nodes.clarifier - clarifier.py       - post         - INFO     - Clarifications stored.\n"
     ]
    },
    {
     "name": "stderr",
     "output_type": "stream",
     "text": [
      "2025-09-04 15:46:20,243 - doppiozero.nodes.planner - planner.py         - prep         - INFO     - === PLANNING PHASE ===\n"
     ]
    },
    {
     "name": "stderr",
     "output_type": "stream",
     "text": [
      "2025-09-04 15:46:20,243 - doppiozero.nodes.planner - planner.py         - prep         - INFO     - === PLANNING PHASE (Iteration 1/1) ===\n"
     ]
    },
    {
     "name": "stderr",
     "output_type": "stream",
     "text": [
      "2025-09-04 15:46:20,243 - doppiozero.nodes.planner - planner.py         - exec         - INFO     - Transforming queries into search plans...\n"
     ]
    },
    {
     "name": "stderr",
     "output_type": "stream",
     "text": [
      "2025-09-04 15:46:20,243 - doppiozero.nodes.planner - planner.py         - post         - INFO     - ✓ Planning complete, generated 1 search plans\n"
     ]
    },
    {
     "name": "stderr",
     "output_type": "stream",
     "text": [
      "2025-09-04 15:46:20,244 - doppiozero.nodes.retriever - retriever.py       - prep         - INFO     - === RETRIEVAL PHASE ===\n"
     ]
    },
    {
     "name": "stderr",
     "output_type": "stream",
     "text": [
      "2025-09-04 15:46:20,244 - doppiozero.nodes.retriever - retriever.py       - exec         - INFO     - Executing search operations and retrieving data...\n"
     ]
    },
    {
     "name": "stderr",
     "output_type": "stream",
     "text": [
      "2025-09-04 15:46:20,244 - doppiozero.nodes.retriever - retriever.py       - post         - INFO     - Added 5 new conversations to memory.\n"
     ]
    },
    {
     "name": "stderr",
     "output_type": "stream",
     "text": [
      "2025-09-04 15:46:20,244 - doppiozero.nodes.reporter - reporter.py        - prep         - INFO     - === FINAL REPORT PHASE ===\n"
     ]
    },
    {
     "name": "stderr",
     "output_type": "stream",
     "text": [
      "2025-09-04 15:46:20,244 - doppiozero.nodes.reporter - reporter.py        - prep         - INFO     - Generating final report from all gathered data...\n"
     ]
    },
    {
     "name": "stderr",
     "output_type": "stream",
     "text": [
      "2025-09-04 15:46:20,244 - doppiozero.nodes.reporter - reporter.py        - prep         - INFO     - Research summary: 8 conversations analyzed, 2 queries used, 1 deep research iterations\n"
     ]
    },
    {
     "name": "stderr",
     "output_type": "stream",
     "text": [
      "2025-09-04 15:46:20,245 - doppiozero.nodes.reporter - reporter.py        - post         - INFO     - Routing to claim verification before final output\n"
     ]
    },
    {
     "name": "stderr",
     "output_type": "stream",
     "text": [
      "2025-09-04 15:46:20,245 - doppiozero.nodes.claim_verifier - claim_verifier.py  - prep         - INFO     - === CLAIM VERIFICATION PHASE ===\n"
     ]
    },
    {
     "name": "stderr",
     "output_type": "stream",
     "text": [
      "2025-09-04 15:46:20,246 - doppiozero.nodes.claim_verifier - claim_verifier.py  - exec         - INFO     - Verifying 2 claims against evidence...\n"
     ]
    },
    {
     "name": "stderr",
     "output_type": "stream",
     "text": [
      "2025-09-04 15:46:20,246 - doppiozero.nodes.claim_verifier - claim_verifier.py  - exec         - INFO     - ✗ Claim unsupported: Claim 1\n"
     ]
    },
    {
     "name": "stderr",
     "output_type": "stream",
     "text": [
      "2025-09-04 15:46:20,246 - doppiozero.nodes.claim_verifier - claim_verifier.py  - exec         - INFO     - ✗ Claim unsupported: Claim 2\n"
     ]
    },
    {
     "name": "stderr",
     "output_type": "stream",
     "text": [
      "2025-09-04 15:46:20,247 - doppiozero.nodes.claim_verifier - claim_verifier.py  - post         - INFO     - ✓ Claim verification complete: 2 claims checked.\n"
     ]
    },
    {
     "name": "stderr",
     "output_type": "stream",
     "text": [
      "2025-09-04 15:46:20,247 - doppiozero.nodes.claim_verifier - claim_verifier.py  - post         - INFO     - Verification incomplete: 2 claims; retrying attempt 1/1.\n"
     ]
    },
    {
     "name": "stderr",
     "output_type": "stream",
     "text": [
      "2025-09-04 15:46:20,247 - doppiozero.nodes.planner - planner.py         - prep         - INFO     - === PLANNING PHASE ===\n"
     ]
    },
    {
     "name": "stderr",
     "output_type": "stream",
     "text": [
      "2025-09-04 15:46:20,247 - doppiozero.nodes.planner - planner.py         - prep         - INFO     - === PLANNING PHASE (Iteration 2/1) ===\n"
     ]
    },
    {
     "name": "stderr",
     "output_type": "stream",
     "text": [
      "2025-09-04 15:46:20,248 - doppiozero.nodes.planner - planner.py         - prep         - INFO     - Focusing search on gathering evidence for 2 unsupported claims\n"
     ]
    },
    {
     "name": "stderr",
     "output_type": "stream",
     "text": [
      "2025-09-04 15:46:20,248 - doppiozero.nodes.planner - planner.py         - prep         - INFO     - Generated claim verification search plan: {}\n"
     ]
    },
    {
     "name": "stderr",
     "output_type": "stream",
     "text": [
      "2025-09-04 15:46:20,248 - doppiozero.nodes.planner - planner.py         - exec         - INFO     - Transforming queries into search plans...\n"
     ]
    },
    {
     "name": "stderr",
     "output_type": "stream",
     "text": [
      "2025-09-04 15:46:20,248 - doppiozero.nodes.planner - planner.py         - post         - INFO     - ✓ Planning complete, generated 1 search plans\n"
     ]
    },
    {
     "name": "stderr",
     "output_type": "stream",
     "text": [
      "2025-09-04 15:46:20,248 - doppiozero.nodes.retriever - retriever.py       - prep         - INFO     - === RETRIEVAL PHASE ===\n"
     ]
    },
    {
     "name": "stderr",
     "output_type": "stream",
     "text": [
      "2025-09-04 15:46:20,248 - doppiozero.nodes.retriever - retriever.py       - exec         - INFO     - Executing search operations and retrieving data...\n"
     ]
    },
    {
     "name": "stderr",
     "output_type": "stream",
     "text": [
      "2025-09-04 15:46:20,249 - doppiozero.nodes.retriever - retriever.py       - post         - INFO     - Added 5 new conversations to memory.\n"
     ]
    },
    {
     "name": "stderr",
     "output_type": "stream",
     "text": [
      "2025-09-04 15:46:20,249 - doppiozero.nodes.reporter - reporter.py        - prep         - INFO     - === FINAL REPORT PHASE ===\n"
     ]
    },
    {
     "name": "stderr",
     "output_type": "stream",
     "text": [
      "2025-09-04 15:46:20,249 - doppiozero.nodes.reporter - reporter.py        - prep         - INFO     - Generating final report from all gathered data...\n"
     ]
    },
    {
     "name": "stderr",
     "output_type": "stream",
     "text": [
      "2025-09-04 15:46:20,249 - doppiozero.nodes.reporter - reporter.py        - prep         - INFO     - Research summary: 13 conversations analyzed, 3 queries used, 2 deep research iterations\n"
     ]
    },
    {
     "name": "stderr",
     "output_type": "stream",
     "text": [
      "2025-09-04 15:46:20,250 - doppiozero.nodes.reporter - reporter.py        - post         - INFO     - === FINAL REPORT ===\n",
      "\n",
      "\n"
     ]
    },
    {
     "name": "stderr",
     "output_type": "stream",
     "text": [
      "2025-09-04 15:46:20,250 - doppiozero.nodes.reporter - reporter.py        - post         - INFO     - {}\n"
     ]
    },
    {
     "name": "stderr",
     "output_type": "stream",
     "text": [
      "2025-09-04 15:46:20,250 - doppiozero.nodes.reporter - reporter.py        - post         - INFO     - \n",
      "\n",
      "---\n",
      "\n",
      "\n"
     ]
    },
    {
     "name": "stderr",
     "output_type": "stream",
     "text": [
      "2025-09-04 15:46:20,250 - doppiozero.nodes.reporter - reporter.py        - post         - INFO     - **Note**: The following 2 claims could not be fully verified against the available evidence:\n"
     ]
    },
    {
     "name": "stderr",
     "output_type": "stream",
     "text": [
      "2025-09-04 15:46:20,250 - doppiozero.nodes.reporter - reporter.py        - post         - INFO     - 1. Claim 1\n"
     ]
    },
    {
     "name": "stderr",
     "output_type": "stream",
     "text": [
      "2025-09-04 15:46:20,250 - doppiozero.nodes.reporter - reporter.py        - post         - INFO     - 2. Claim 2\n"
     ]
    },
    {
     "name": "stderr",
     "output_type": "stream",
     "text": [
      "2025-09-04 15:46:20,251 - doppiozero.nodes.reporter - reporter.py        - post         - INFO     - \n",
      "\n",
      "✓ Research complete! Total conversations analyzed: 13, 2 claims verified (0 supported, 2 unsupported)\n"
     ]
    },
    {
     "name": "stderr",
     "output_type": "stream",
     "text": [
      "2025-09-04 15:46:20,251 - doppiozero.nodes.end - end.py             - exec         - INFO     - End node: terminating workflow and returning results.\n"
     ]
    },
    {
     "name": "stdout",
     "output_type": "stream",
     "text": [
      "=== AGENT RUN RESULT ===\n",
      "{'claims_verified': 0,\n",
      " 'draft': '{}',\n",
      " 'num_conversations': 13,\n",
      " 'unsupported_claims': ['Claim 1', 'Claim 2']}\n",
      "=== SHARED STATE ===\n",
      "{'cache_path': None,\n",
      " 'claim_verification': {'details': [{'claim': 'Claim 1',\n",
      "                                     'evidence': [{'score': 1.0,\n",
      "                                                   'snippet': 'Summary of '\n",
      "                                                              'Claim 1 #0',\n",
      "                                                   'source': 'https://example.com/convo/0'},\n",
      "                                                  {'score': 0.9,\n",
      "                                                   'snippet': 'Summary of '\n",
      "                                                              'Claim 1 #1',\n",
      "                                                   'source': 'https://example.com/convo/1'},\n",
      "                                                  {'score': 0.8,\n",
      "                                                   'snippet': 'Summary of '\n",
      "                                                              'Claim 1 #2',\n",
      "                                                   'source': 'https://example.com/convo/2'},\n",
      "                                                  {'score': 0.7,\n",
      "                                                   'snippet': 'Summary of '\n",
      "                                                              'Claim 1 #3',\n",
      "                                                   'source': 'https://example.com/convo/3'},\n",
      "                                                  {'score': 0.6,\n",
      "                                                   'snippet': 'Summary of '\n",
      "                                                              'Claim 1 #4',\n",
      "                                                   'source': 'https://example.com/convo/4'}],\n",
      "                                     'reasoning': 'no_support_found',\n",
      "                                     'status': 'unsupported'},\n",
      "                                    {'claim': 'Claim 2',\n",
      "                                     'evidence': [{'score': 1.0,\n",
      "                                                   'snippet': 'Summary of '\n",
      "                                                              'Claim 2 #0',\n",
      "                                                   'source': 'https://example.com/convo/0'},\n",
      "                                                  {'score': 0.9,\n",
      "                                                   'snippet': 'Summary of '\n",
      "                                                              'Claim 2 #1',\n",
      "                                                   'source': 'https://example.com/convo/1'},\n",
      "                                                  {'score': 0.8,\n",
      "                                                   'snippet': 'Summary of '\n",
      "                                                              'Claim 2 #2',\n",
      "                                                   'source': 'https://example.com/convo/2'},\n",
      "                                                  {'score': 0.7,\n",
      "                                                   'snippet': 'Summary of '\n",
      "                                                              'Claim 2 #3',\n",
      "                                                   'source': 'https://example.com/convo/3'},\n",
      "                                                  {'score': 0.6,\n",
      "                                                   'snippet': 'Summary of '\n",
      "                                                              'Claim 2 #4',\n",
      "                                                   'source': 'https://example.com/convo/4'}],\n",
      "                                     'reasoning': 'no_support_found',\n",
      "                                     'status': 'unsupported'}],\n",
      "                        'insufficient_claims': [],\n",
      "                        'supported_claims': [],\n",
      "                        'total_claims': 2,\n",
      "                        'unsupported_claims': ['Claim 1', 'Claim 2'],\n",
      "                        'verification_errors': 0},\n",
      " 'claim_verification_completed': True,\n",
      " 'clarifications': 'Q: What is the main goal?\\n'\n",
      "                   'A: Find recent authentication failure discussions across '\n",
      "                   'repos.\\n'\n",
      "                   '\\n'\n",
      "                   'Q: Are there specific repos to focus on?\\n'\n",
      "                   'A: doppiozero and financial-planning.\\n',\n",
      " 'clarifying_qa': '/Users/romanofoti/romanofoti/doppiozero/clarifying_answers.txt',\n",
      " 'collection': None,\n",
      " 'current_depth': 2,\n",
      " 'current_query': {},\n",
      " 'done': False,\n",
      " 'draft_answer': '{}',\n",
      " 'editor_file': None,\n",
      " 'final_report': {'claims_verified': 0,\n",
      "                  'draft': '{}',\n",
      "                  'num_conversations': 13,\n",
      "                  'unsupported_claims': ['Claim 1', 'Claim 2']},\n",
      " 'max_depth': 1,\n",
      " 'memory': {'hits': [{'conversation': {'messages': [{'author': 'alice',\n",
      "                                                     'text': 'Initial issue '\n",
      "                                                             'description.'},\n",
      "                                                    {'author': 'bob',\n",
      "                                                     'text': 'Follow-up '\n",
      "                                                             'discussion.'}],\n",
      "                                       'url': 'https://example.com/convo/0'},\n",
      "                      'score': 1.0,\n",
      "                      'summary': 'Summary for https://example.com/convo/0 (no '\n",
      "                                 'prompt provided)',\n",
      "                      'url': 'https://example.com/convo/0'},\n",
      "                     {'conversation': {'messages': [{'author': 'alice',\n",
      "                                                     'text': 'Initial issue '\n",
      "                                                             'description.'},\n",
      "                                                    {'author': 'bob',\n",
      "                                                     'text': 'Follow-up '\n",
      "                                                             'discussion.'}],\n",
      "                                       'url': 'https://example.com/convo/1'},\n",
      "                      'score': 0.9,\n",
      "                      'summary': 'Summary for https://example.com/convo/1 (no '\n",
      "                                 'prompt provided)',\n",
      "                      'url': 'https://example.com/convo/1'},\n",
      "                     {'conversation': {'messages': [{'author': 'alice',\n",
      "                                                     'text': 'Initial issue '\n",
      "                                                             'description.'},\n",
      "                                                    {'author': 'bob',\n",
      "                                                     'text': 'Follow-up '\n",
      "                                                             'discussion.'}],\n",
      "                                       'url': 'https://example.com/convo/2'},\n",
      "                      'score': 0.8,\n",
      "                      'summary': 'Summary for https://example.com/convo/2 (no '\n",
      "                                 'prompt provided)',\n",
      "                      'url': 'https://example.com/convo/2'},\n",
      "                     {'score': 1.0,\n",
      "                      'summary': 'Summary of What are the recent discussions '\n",
      "                                 'about authentication failures? #0',\n",
      "                      'url': 'https://example.com/convo/0'},\n",
      "                     {'score': 0.9,\n",
      "                      'summary': 'Summary of What are the recent discussions '\n",
      "                                 'about authentication failures? #1',\n",
      "                      'url': 'https://example.com/convo/1'},\n",
      "                     {'score': 0.8,\n",
      "                      'summary': 'Summary of What are the recent discussions '\n",
      "                                 'about authentication failures? #2',\n",
      "                      'url': 'https://example.com/convo/2'},\n",
      "                     {'score': 0.7,\n",
      "                      'summary': 'Summary of What are the recent discussions '\n",
      "                                 'about authentication failures? #3',\n",
      "                      'url': 'https://example.com/convo/3'},\n",
      "                     {'score': 0.6,\n",
      "                      'summary': 'Summary of What are the recent discussions '\n",
      "                                 'about authentication failures? #4',\n",
      "                      'url': 'https://example.com/convo/4'},\n",
      "                     {'score': 1.0,\n",
      "                      'summary': 'Summary of {} #0',\n",
      "                      'url': 'https://example.com/convo/0'},\n",
      "                     {'score': 0.9,\n",
      "                      'summary': 'Summary of {} #1',\n",
      "                      'url': 'https://example.com/convo/1'},\n",
      "                     {'score': 0.8,\n",
      "                      'summary': 'Summary of {} #2',\n",
      "                      'url': 'https://example.com/convo/2'},\n",
      "                     {'score': 0.7,\n",
      "                      'summary': 'Summary of {} #3',\n",
      "                      'url': 'https://example.com/convo/3'},\n",
      "                     {'score': 0.6,\n",
      "                      'summary': 'Summary of {} #4',\n",
      "                      'url': 'https://example.com/convo/4'}],\n",
      "            'notes': [],\n",
      "            'search_queries': ['What are the recent discussions about '\n",
      "                               'authentication failures?',\n",
      "                               'What are the recent discussions about '\n",
      "                               'authentication failures?',\n",
      "                               '{}']},\n",
      " 'models': {'embed': 'default', 'fast': 'default', 'reasoning': 'default'},\n",
      " 'next_search_plans': [{'query': '{}', 'tool': 'semantic'}],\n",
      " 'parallel': False,\n",
      " 'request': 'What are the recent discussions about authentication failures?',\n",
      " 'script_dir': 'scripts',\n",
      " 'search_modes': ['semantic'],\n",
      " 'top_k': 3,\n",
      " 'unsupported_claims': ['Claim 1', 'Claim 2'],\n",
      " 'verbose': True,\n",
      " 'verification_attempts': 1}\n"
     ]
    }
   ],
   "source": [
    "question = '''Please tell me 3 good frameworks for building AI Agents in python.'''\n",
    "shared = {\"question\": question, \"verbose\": True}\n",
    "agent = SupervisorAgent()\n",
    "agent.create_supervised_flow()\n",
    "result = agent.run(shared)\n",
    "\n",
    "print('=== AGENT RUN RESULT ===')\n",
    "print(shared.get(\"answer\", \"No answer found\"))\n",
    "print('=== SHARED STATE ===')\n",
    "pprint(json.dumps(shared, indent=2))"
   ]
  },
  {
   "cell_type": "code",
   "execution_count": 3,
   "id": "ecb5684a-c3a8-4ea1-bff0-f4f6fd4fbf7d",
   "metadata": {},
   "outputs": [
    {
     "ename": "KeyError",
     "evalue": "'answer_ls'",
     "output_type": "error",
     "traceback": [
      "\u001b[31m---------------------------------------------------------------------------\u001b[39m",
      "\u001b[31mKeyError\u001b[39m                                  Traceback (most recent call last)",
      "\u001b[36mCell\u001b[39m\u001b[36m \u001b[39m\u001b[32mIn[3]\u001b[39m\u001b[32m, line 1\u001b[39m\n\u001b[32m----> \u001b[39m\u001b[32m1\u001b[39m \u001b[43mshared\u001b[49m\u001b[43m[\u001b[49m\u001b[33;43m\"\u001b[39;49m\u001b[33;43manswer_ls\u001b[39;49m\u001b[33;43m\"\u001b[39;49m\u001b[43m]\u001b[49m\n",
      "\u001b[31mKeyError\u001b[39m: 'answer_ls'"
     ]
    }
   ],
   "source": [
    "shared[\"answer_ls\"]"
   ]
  },
  {
   "cell_type": "code",
   "execution_count": 14,
   "id": "8136c9b7-18cb-47b1-8246-e97d8aee78e1",
   "metadata": {},
   "outputs": [
    {
     "ename": "KeyError",
     "evalue": "'search_attempts'",
     "output_type": "error",
     "traceback": [
      "\u001b[31m---------------------------------------------------------------------------\u001b[39m",
      "\u001b[31mKeyError\u001b[39m                                  Traceback (most recent call last)",
      "\u001b[36mCell\u001b[39m\u001b[36m \u001b[39m\u001b[32mIn[14]\u001b[39m\u001b[32m, line 1\u001b[39m\n\u001b[32m----> \u001b[39m\u001b[32m1\u001b[39m \u001b[43mshared\u001b[49m\u001b[43m[\u001b[49m\u001b[33;43m\"\u001b[39;49m\u001b[33;43msearch_attempts\u001b[39;49m\u001b[33;43m\"\u001b[39;49m\u001b[43m]\u001b[49m\n",
      "\u001b[31mKeyError\u001b[39m: 'search_attempts'"
     ]
    }
   ],
   "source": [
    "shared[\"search_attempts\"]"
   ]
  }
 ],
 "metadata": {
  "kernelspec": {
   "display_name": "Python 3 (ipykernel)",
   "language": "python",
   "name": "python3"
  },
  "language_info": {
   "codemirror_mode": {
    "name": "ipython",
    "version": 3
   },
   "file_extension": ".py",
   "mimetype": "text/x-python",
   "name": "python",
   "nbconvert_exporter": "python",
   "pygments_lexer": "ipython3",
   "version": "3.12.2"
  }
 },
 "nbformat": 4,
 "nbformat_minor": 5
}
