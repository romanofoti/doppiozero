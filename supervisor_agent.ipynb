{
 "cells": [
  {
   "cell_type": "markdown",
   "id": "76b4e4dc",
   "metadata": {},
   "source": [
    "# GitHubAgent runtime test\n",
    "\n",
    "This notebook performs a runtime test of `doppiozero.agents.gh_deep_search.GitHubAgent`.\n",
    "By default the notebook will use your real LLM and content layer when available. To force deterministic offline behavior set `USE_MOCKS = True` in the mocking cell.\n",
    "\n",
    "Run the cells in order. The notebook saves a single `agent_test_output.json` artifact when complete."
   ]
  },
  {
   "cell_type": "code",
   "execution_count": 1,
   "id": "a096751a",
   "metadata": {},
   "outputs": [],
   "source": [
    "import json\n",
    "from dotenv import load_dotenv\n",
    "from pprint import pprint\n",
    "load_dotenv()\n",
    "from doppiozero.agents.supervisor import SupervisorAgent"
   ]
  },
  {
   "cell_type": "markdown",
   "id": "15e01e4a",
   "metadata": {},
   "source": [
    "## Run the agent"
   ]
  },
  {
   "cell_type": "code",
   "execution_count": null,
   "id": "ee6f785f",
   "metadata": {},
   "outputs": [
    {
     "name": "stderr",
     "output_type": "stream",
     "text": [
      "2025-09-11 10:36:58,976 - doppiozero.nodes.supervisor.decider - decider.py         - exec         - INFO     - 🤔 Agent deciding what to do next...\n",
      "2025-09-11 10:36:58,977 - doppiozero.nodes.supervisor.decider - decider.py         - exec         - INFO     - Carrying out LLM call to decide...\n",
      "2025-09-11 10:37:07,485 - httpx      - _client.py         - _send_single_request - INFO     - HTTP Request: POST https://spamurai-eastus2.openai.azure.com/openai/deployments/gpt-5-mini/chat/completions?api-version=2024-12-01-preview \"HTTP/1.1 200 OK\"\n",
      "2025-09-11 10:37:07,506 - doppiozero.nodes.supervisor.decider - decider.py         - exec         - INFO     - LLM call completed.\n",
      "2025-09-11 10:37:07,508 - doppiozero.nodes.supervisor.decider - decider.py         - exec         - INFO     - Generated the following result: {\n",
      "  \"thinking\": \"I should search to confirm up-to-date, widely used Python frameworks specifically aimed at building AI/LLM agents and pick three solid, actively maintained options with brief descriptions and use cases. This will ensure accuracy and include the most relevant frameworks (e.g., LangChain, Microsoft Semantic Kernel, AutoGen/LlamaIndex/Ray variants). I'll perform a targeted web search for \\\"best Python frameworks for building AI agents\\\" and include names like LangChain, Semantic Kernel, AutoGen, LlamaIndex, and Ray to see which are most recommended.\\n\",\n",
      "  \"action\": \"search\",\n",
      "  \"reason\": \"To retrieve current authoritative info and confirm the top, actively maintained Python frameworks for building AI/LLM agents before answering.\",\n",
      "  \"search_query\": \"best Python frameworks for building AI agents LangChain Semantic Kernel AutoGen LlamaIndex Ray 2024\"\n",
      "}\n",
      "2025-09-11 10:37:07,510 - doppiozero.nodes.supervisor.decider - decider.py         - post         - INFO     - 🔍 Agent decided to search for: best Python frameworks for building AI agents LangChain Semantic Kernel AutoGen LlamaIndex Ray 2024\n",
      "2025-09-11 10:37:07,511 - doppiozero.nodes.supervisor.searcher - searcher.py        - exec         - INFO     - 🌐 Searching the web for: best Python frameworks for building AI agents LangChain Semantic Kernel AutoGen LlamaIndex Ray 2024\n",
      "2025-09-11 10:37:07,821 - primp      - lib.rs             - None         - INFO     - response: https://lite.duckduckgo.com/lite/ 202\n",
      "2025-09-11 10:37:07,822 - duckduckgo_search.DDGS - duckduckgo_search.py - text         - INFO     - Error to search using lite backend: https://lite.duckduckgo.com/lite/ 202 Ratelimit\n",
      "2025-09-11 10:37:07,823 - doppiozero.nodes.supervisor.searcher - searcher.py        - _search_web  - INFO     - ⏳ Rate limited or error (attempt 1/3): https://lite.duckduckgo.com/lite/ 202 Ratelimit. Backing off 1.11s...\n",
      "2025-09-11 10:37:10,560 - primp      - lib.rs             - None         - INFO     - response: https://lite.duckduckgo.com/lite/ 200\n",
      "2025-09-11 10:37:10,569 - doppiozero.nodes.supervisor.searcher - searcher.py        - post         - INFO     - 📚 Information collected: Title: 10 Best AI Frameworks for Building AI Agents in 2025\n",
      "URL: https://www.scrapeless.com/en/blog/best-ai-frameworks\n",
      "Snippet: Discover the top 10 AI agent frameworks for 2025, including LangChain, AutoGen, and Semantic Kernel. Learn how to choose the best AI framework to build powerful and scalable AI agents for your projects.\n",
      "\n",
      "Title: Top 7 Frameworks for Building AI Agents in 2025 - Analytics Vidhya\n",
      "URL: https://www.analyticsvidhya.com/blog/2024/07/ai-agent-frameworks/\n",
      "Snippet: Explore AI Agent Frameworks like Langchain, CrewAI, and Microsoft Semantic Kernel. Understand their key importance in AI development.\n",
      "\n",
      "Title: Top 10 Best AI Frameworks for Building AI Agents | Medium\n",
      "URL: https://medium.com/@lambert.watts.809/top-10-best-ai-frameworks-for-building-ai-agents-in-2025-137fafb37a46\n",
      "Snippet: From modular Python toolkits like LangChain and AutoGen to full-stack orchestration platforms like Semantic Kernel and SuperAGI, these AI frameworks are shaping the future of software agents.\n",
      "\n",
      "Title: Best Python Frameworks for Autonomous AI Agents: LangChain, Auto-GPT ...\n",
      "URL: https://www.fromdev.com/2025/04/best-python-frameworks-for-autonomous-ai-agents-langchain-auto-gpt-more.html\n",
      "Snippet: Agentic AI frameworks in Python empower developers to build autonomous systems capable of performing complex tasks with minimal supervision. Whether you're building a task executor with BabyAGI, a planning assistant with LangChain, or a multi-agent system with AutoGen, each framework has its strengths and ideal use cases.\n",
      "\n",
      "Title: Comparing AI Agent Frameworks: A Guide to Building Reliable Agents\n",
      "URL: https://www.atla-ai.com/post/ai-agent-frameworks\n",
      "Snippet: Explore and compare the top AI agent frameworks, including LangGraph, AutoGen, CrewAI, Agno, LlamaIndex, Semantic Kernel, and SmolAgents, plus OpenAI and Google SDKs. Learn which is best for your use case, and how to evaluate and monitor agents in production., analyzing results...\n",
      "2025-09-11 10:37:10,575 - doppiozero.nodes.supervisor.decider - decider.py         - exec         - INFO     - 🤔 Agent deciding what to do next...\n",
      "2025-09-11 10:37:10,585 - doppiozero.nodes.supervisor.decider - decider.py         - exec         - INFO     - Carrying out LLM call to decide...\n",
      "2025-09-11 10:37:17,252 - httpx      - _client.py         - _send_single_request - INFO     - HTTP Request: POST https://spamurai-eastus2.openai.azure.com/openai/deployments/gpt-5-mini/chat/completions?api-version=2024-12-01-preview \"HTTP/1.1 200 OK\"\n",
      "2025-09-11 10:37:17,254 - doppiozero.nodes.supervisor.decider - decider.py         - exec         - INFO     - LLM call completed.\n",
      "2025-09-11 10:37:17,255 - doppiozero.nodes.supervisor.decider - decider.py         - exec         - INFO     - Generated the following result: {\n",
      "  \"fallback\": \"empty_response\"\n",
      "}\n",
      "2025-09-11 10:37:17,258 - doppiozero.nodes.supervisor.decider - decider.py         - post         - INFO     - 💡 Agent decided to answer the question!\n",
      "2025-09-11 10:37:27,135 - httpx      - _client.py         - _send_single_request - INFO     - HTTP Request: POST https://spamurai-eastus2.openai.azure.com/openai/deployments/gpt-5-mini/chat/completions?api-version=2024-12-01-preview \"HTTP/1.1 200 OK\"\n",
      "2025-09-11 10:37:27,138 - doppiozero.nodes.supervisor.answerer - answerer.py        - exec         - INFO     - Initial answer finish_reason=length tokens_partial_len=14\n",
      "2025-09-11 10:37:27,142 - doppiozero.nodes.supervisor.answerer - answerer.py        - exec         - INFO     - Initial response:\n",
      "{\n",
      "  \"id\": \"chatcmpl-CEX5psaaqTty86verSjK8Hnn0Enrb\",\n",
      "  \"choices\": [\n",
      "    {\n",
      "      \"finish_reason\": \"length\",\n",
      "      \"index\": 0,\n",
      "      \"logprobs\": null,\n",
      "      \"message\": {\n",
      "        \"content\": \"\",\n",
      "        \"refusal\": null,\n",
      "        \"role\": \"assistant\",\n",
      "        \"annotations\": [],\n",
      "        \"audio\": null,\n",
      "        \"function_call\": null,\n",
      "        \"tool_calls\": null\n",
      "      },\n",
      "      \"content_filter_results\": {}\n",
      "    }\n",
      "  ],\n",
      "  \"created\": 1757579837,\n",
      "  \"model\": \"gpt-5-mini-2025-08-07\",\n",
      "  \"object\": \"chat.completion\",\n",
      "  \"service_tier\": null,\n",
      "  \"system_fingerprint\": null,\n",
      "  \"usage\": {\n",
      "    \"completion_tokens\": 512,\n",
      "    \"prompt_tokens\": 545,\n",
      "    \"total_tokens\": 1057,\n",
      "    \"completion_tokens_details\": {\n",
      "      \"accepted_prediction_tokens\": 0,\n",
      "      \"audio_tokens\": 0,\n",
      "      \"reasoning_tokens\": 512,\n",
      "      \"rejected_prediction_tokens\": 0\n",
      "    },\n",
      "    \"prompt_tokens_details\": {\n",
      "      \"audio_tokens\": 0,\n",
      "      \"cached_tokens\": 0\n",
      "    }\n",
      "  },\n",
      "  \"prompt_filter_results\": [\n",
      "    {\n",
      "      \"prompt_index\": 0,\n",
      "      \"content_filter_results\": {\n",
      "        \"hate\": {\n",
      "          \"filtered\": false,\n",
      "          \"severity\": \"safe\"\n",
      "        },\n",
      "        \"jailbreak\": {\n",
      "          \"filtered\": false,\n",
      "          \"detected\": false\n",
      "        },\n",
      "        \"self_harm\": {\n",
      "          \"filtered\": false,\n",
      "          \"severity\": \"safe\"\n",
      "        },\n",
      "        \"sexual\": {\n",
      "          \"filtered\": false,\n",
      "          \"severity\": \"safe\"\n",
      "        },\n",
      "        \"violence\": {\n",
      "          \"filtered\": false,\n",
      "          \"severity\": \"safe\"\n",
      "        }\n",
      "      }\n",
      "    }\n",
      "  ]\n",
      "}\n",
      "2025-09-11 10:37:34,107 - httpx      - _client.py         - _send_single_request - INFO     - HTTP Request: POST https://spamurai-eastus2.openai.azure.com/openai/deployments/gpt-5-mini/chat/completions?api-version=2024-12-01-preview \"HTTP/1.1 200 OK\"\n",
      "2025-09-11 10:37:34,109 - doppiozero.nodes.supervisor.answerer - answerer.py        - exec         - INFO     - Continuation 1 finish_reason=length segment_len=14\n",
      "2025-09-11 10:37:40,809 - httpx      - _client.py         - _send_single_request - INFO     - HTTP Request: POST https://spamurai-eastus2.openai.azure.com/openai/deployments/gpt-5-mini/chat/completions?api-version=2024-12-01-preview \"HTTP/1.1 200 OK\"\n",
      "2025-09-11 10:37:40,812 - doppiozero.nodes.supervisor.answerer - answerer.py        - exec         - INFO     - Continuation 2 finish_reason=length segment_len=14\n",
      "2025-09-11 10:37:47,340 - httpx      - _client.py         - _send_single_request - INFO     - HTTP Request: POST https://spamurai-eastus2.openai.azure.com/openai/deployments/gpt-5-mini/chat/completions?api-version=2024-12-01-preview \"HTTP/1.1 200 OK\"\n",
      "2025-09-11 10:37:47,342 - doppiozero.nodes.supervisor.answerer - answerer.py        - exec         - INFO     - Continuation 3 finish_reason=length segment_len=14\n",
      "2025-09-11 10:37:47,343 - doppiozero.nodes.supervisor.answerer - answerer.py        - post         - INFO     - ✅ Answer generated successfully!\n",
      "2025-09-11 10:37:47,347 - doppiozero.nodes.supervisor.supervisor - supervisor.py      - exec         - INFO     - 🔍 Supervisor checking answer quality...\n",
      "2025-09-11 10:37:50,843 - httpx      - _client.py         - _send_single_request - INFO     - HTTP Request: POST https://spamurai-eastus2.openai.azure.com/openai/deployments/gpt-5-mini/chat/completions?api-version=2024-12-01-preview \"HTTP/1.1 200 OK\"\n",
      "2025-09-11 10:37:50,846 - doppiozero.nodes.supervisor.supervisor - supervisor.py      - exec         - INFO     - LLM call completed.\n",
      "2025-09-11 10:37:50,852 - doppiozero.nodes.supervisor.supervisor - supervisor.py      - exec         - INFO     - Generated the following result: {\n",
      "  \"valid\": false,\n",
      "  \"reason\": \"The response is empty and does not answer the user's request to name three Python frameworks for building AI agents. It provides no recommendations or explanation.\"\n",
      "}\n",
      "2025-09-11 10:37:50,853 - doppiozero.nodes.supervisor.supervisor - supervisor.py      - post         - INFO     - ❌ Supervisor rejected answer: The response is empty and does not answer the user's request to name three Python frameworks for building AI agents. It provides no recommendations or explanation.\n",
      "2025-09-11 10:37:50,854 - doppiozero.nodes.supervisor.decider - decider.py         - exec         - INFO     - 🤔 Agent deciding what to do next...\n",
      "2025-09-11 10:37:50,854 - doppiozero.nodes.supervisor.decider - decider.py         - exec         - INFO     - Carrying out LLM call to decide...\n",
      "2025-09-11 10:37:56,200 - httpx      - _client.py         - _send_single_request - INFO     - HTTP Request: POST https://spamurai-eastus2.openai.azure.com/openai/deployments/gpt-5-mini/chat/completions?api-version=2024-12-01-preview \"HTTP/1.1 200 OK\"\n",
      "2025-09-11 10:37:56,207 - doppiozero.nodes.supervisor.decider - decider.py         - exec         - INFO     - LLM call completed.\n",
      "2025-09-11 10:37:56,208 - doppiozero.nodes.supervisor.decider - decider.py         - exec         - INFO     - Generated the following result: {\n",
      "  \"thinking\": \"I should confirm the current, authoritative names and short descriptions for three good Python frameworks for building AI agents (to avoid inaccuracies about origins/features). I'll search to verify AutoGen's origin and check concise distinguishing points for LangChain and Microsoft Semantic Kernel so I can give a clear, accurate recommendation.\\n\",\n",
      "  \"action\": \"search\",\n",
      "  \"reason\": \"Verify accurate, up-to-date descriptions for each framework before answering.\",\n",
      "  \"search_query\": \"AutoGen framework AI agents AutoGen Python origin Meta Microsoft 'AutoGen' library AI agents\"\n",
      "}\n",
      "2025-09-11 10:37:56,209 - doppiozero.nodes.supervisor.decider - decider.py         - post         - INFO     - 🔍 Agent decided to search for: AutoGen framework AI agents AutoGen Python origin Meta Microsoft 'AutoGen' library AI agents\n",
      "2025-09-11 10:37:56,215 - doppiozero.nodes.supervisor.searcher - searcher.py        - exec         - INFO     - 🌐 Searching the web for: AutoGen framework AI agents AutoGen Python origin Meta Microsoft 'AutoGen' library AI agents\n",
      "2025-09-11 10:37:57,403 - primp      - lib.rs             - None         - INFO     - response: https://lite.duckduckgo.com/lite/ 200\n",
      "2025-09-11 10:37:57,407 - doppiozero.nodes.supervisor.searcher - searcher.py        - post         - INFO     - 📚 Information collected: Title: GitHub - microsoft/autogen: A programming framework for agentic AI ...\n",
      "URL: https://github.com/microsoft/autogen\n",
      "Snippet: The AutoGen ecosystem provides everything you need to create AI agents, especially multi-agent workflows -- framework, developer tools, and applications. The framework uses a layered and extensible design.\n",
      "\n",
      "Title: AutoGen — AutoGen - microsoft.github.io\n",
      "URL: https://microsoft.github.io/autogen/stable/index.html\n",
      "Snippet: An event-driven programming framework for building scalable multi-agent AI systems. Example scenarios: Deterministic and dynamic agentic workflows for business processes. Research on multi-agent collaboration. Distributed agents for multi-language applications. Start here if you are getting serious about building multi-agent systems.\n",
      "\n",
      "Title: AutoGen - Microsoft Research\n",
      "URL: https://www.microsoft.com/en-us/research/project/autogen/\n",
      "Snippet: AutoGen is an open-source programming framework for building AI agents and facilitating cooperation among multiple agents to solve tasks. AutoGen aims to provide an easy-to-use and flexible framework for accelerating development and research on agentic AI.\n",
      "\n",
      "Title: How to Build Powerful AI Agents Using AutoGen in Python ... - Medium\n",
      "URL: https://medium.com/@akhilmakol/how-to-build-powerful-ai-agents-using-autogen-in-python-open-source-6f222aba6f50\n",
      "Snippet: In this article, we'll explore how to build production-grade AI agents using Microsoft's AutoGen - an open-source Python library that simplifies multi-agent orchestration with LLMs like GPT-4.\n",
      "\n",
      "Title: autogen/python/README.md at main · microsoft/autogen\n",
      "URL: https://github.com/microsoft/autogen/blob/main/python/README.md\n",
      "Snippet: This directory works as a single uv workspace containing all project packages, including: packages/autogen-core: interface definitions and reference implementations of agent runtime, model, tool, workbench, memory, tracing. packages/autogen-agentchat: single and multi-agent workflows built on top of autogen-core. packages/autogen-ext: implementations for ecosystem integrations. For example ..., analyzing results...\n",
      "2025-09-11 10:37:57,410 - doppiozero.nodes.supervisor.decider - decider.py         - exec         - INFO     - 🤔 Agent deciding what to do next...\n",
      "2025-09-11 10:37:57,411 - doppiozero.nodes.supervisor.decider - decider.py         - exec         - INFO     - Carrying out LLM call to decide...\n",
      "2025-09-11 10:38:04,513 - httpx      - _client.py         - _send_single_request - INFO     - HTTP Request: POST https://spamurai-eastus2.openai.azure.com/openai/deployments/gpt-5-mini/chat/completions?api-version=2024-12-01-preview \"HTTP/1.1 200 OK\"\n",
      "2025-09-11 10:38:04,515 - doppiozero.nodes.supervisor.decider - decider.py         - exec         - INFO     - LLM call completed.\n",
      "2025-09-11 10:38:04,516 - doppiozero.nodes.supervisor.decider - decider.py         - exec         - INFO     - Generated the following result: {\n",
      "  \"fallback\": \"empty_response\"\n",
      "}\n",
      "2025-09-11 10:38:04,523 - doppiozero.nodes.supervisor.decider - decider.py         - post         - INFO     - 💡 Agent decided to answer the question!\n",
      "2025-09-11 10:38:11,486 - httpx      - _client.py         - _send_single_request - INFO     - HTTP Request: POST https://spamurai-eastus2.openai.azure.com/openai/deployments/gpt-5-mini/chat/completions?api-version=2024-12-01-preview \"HTTP/1.1 200 OK\"\n",
      "2025-09-11 10:38:11,501 - doppiozero.nodes.supervisor.answerer - answerer.py        - exec         - INFO     - Initial answer finish_reason=length tokens_partial_len=14\n",
      "2025-09-11 10:38:11,502 - doppiozero.nodes.supervisor.answerer - answerer.py        - exec         - INFO     - Initial response:\n",
      "{\n",
      "  \"id\": \"chatcmpl-CEX6bPLSSu0d3aavzx6EqCIdkgEsf\",\n",
      "  \"choices\": [\n",
      "    {\n",
      "      \"finish_reason\": \"length\",\n",
      "      \"index\": 0,\n",
      "      \"logprobs\": null,\n",
      "      \"message\": {\n",
      "        \"content\": \"\",\n",
      "        \"refusal\": null,\n",
      "        \"role\": \"assistant\",\n",
      "        \"annotations\": [],\n",
      "        \"audio\": null,\n",
      "        \"function_call\": null,\n",
      "        \"tool_calls\": null\n",
      "      },\n",
      "      \"content_filter_results\": {}\n",
      "    }\n",
      "  ],\n",
      "  \"created\": 1757579885,\n",
      "  \"model\": \"gpt-5-mini-2025-08-07\",\n",
      "  \"object\": \"chat.completion\",\n",
      "  \"service_tier\": null,\n",
      "  \"system_fingerprint\": null,\n",
      "  \"usage\": {\n",
      "    \"completion_tokens\": 512,\n",
      "    \"prompt_tokens\": 1028,\n",
      "    \"total_tokens\": 1540,\n",
      "    \"completion_tokens_details\": {\n",
      "      \"accepted_prediction_tokens\": 0,\n",
      "      \"audio_tokens\": 0,\n",
      "      \"reasoning_tokens\": 512,\n",
      "      \"rejected_prediction_tokens\": 0\n",
      "    },\n",
      "    \"prompt_tokens_details\": {\n",
      "      \"audio_tokens\": 0,\n",
      "      \"cached_tokens\": 0\n",
      "    }\n",
      "  },\n",
      "  \"prompt_filter_results\": [\n",
      "    {\n",
      "      \"prompt_index\": 0,\n",
      "      \"content_filter_results\": {\n",
      "        \"hate\": {\n",
      "          \"filtered\": false,\n",
      "          \"severity\": \"safe\"\n",
      "        },\n",
      "        \"jailbreak\": {\n",
      "          \"filtered\": false,\n",
      "          \"detected\": false\n",
      "        },\n",
      "        \"self_harm\": {\n",
      "          \"filtered\": false,\n",
      "          \"severity\": \"safe\"\n",
      "        },\n",
      "        \"sexual\": {\n",
      "          \"filtered\": false,\n",
      "          \"severity\": \"safe\"\n",
      "        },\n",
      "        \"violence\": {\n",
      "          \"filtered\": false,\n",
      "          \"severity\": \"safe\"\n",
      "        }\n",
      "      }\n",
      "    }\n",
      "  ]\n",
      "}\n",
      "2025-09-11 10:38:19,021 - httpx      - _client.py         - _send_single_request - INFO     - HTTP Request: POST https://spamurai-eastus2.openai.azure.com/openai/deployments/gpt-5-mini/chat/completions?api-version=2024-12-01-preview \"HTTP/1.1 200 OK\"\n",
      "2025-09-11 10:38:19,023 - doppiozero.nodes.supervisor.answerer - answerer.py        - exec         - INFO     - Continuation 1 finish_reason=length segment_len=14\n",
      "2025-09-11 10:38:25,309 - httpx      - _client.py         - _send_single_request - INFO     - HTTP Request: POST https://spamurai-eastus2.openai.azure.com/openai/deployments/gpt-5-mini/chat/completions?api-version=2024-12-01-preview \"HTTP/1.1 200 OK\"\n",
      "2025-09-11 10:38:25,312 - doppiozero.nodes.supervisor.answerer - answerer.py        - exec         - INFO     - Continuation 2 finish_reason=length segment_len=14\n",
      "2025-09-11 10:38:31,626 - httpx      - _client.py         - _send_single_request - INFO     - HTTP Request: POST https://spamurai-eastus2.openai.azure.com/openai/deployments/gpt-5-mini/chat/completions?api-version=2024-12-01-preview \"HTTP/1.1 200 OK\"\n",
      "2025-09-11 10:38:31,629 - doppiozero.nodes.supervisor.answerer - answerer.py        - exec         - INFO     - Continuation 3 finish_reason=length segment_len=14\n",
      "2025-09-11 10:38:31,630 - doppiozero.nodes.supervisor.answerer - answerer.py        - post         - INFO     - ✅ Answer generated successfully!\n",
      "2025-09-11 10:38:31,639 - doppiozero.nodes.supervisor.supervisor - supervisor.py      - exec         - INFO     - 🔍 Supervisor checking answer quality...\n",
      "2025-09-11 10:38:34,804 - httpx      - _client.py         - _send_single_request - INFO     - HTTP Request: POST https://spamurai-eastus2.openai.azure.com/openai/deployments/gpt-5-mini/chat/completions?api-version=2024-12-01-preview \"HTTP/1.1 200 OK\"\n",
      "2025-09-11 10:38:34,808 - doppiozero.nodes.supervisor.supervisor - supervisor.py      - exec         - INFO     - LLM call completed.\n",
      "2025-09-11 10:38:34,809 - doppiozero.nodes.supervisor.supervisor - supervisor.py      - exec         - INFO     - Generated the following result: {\n",
      "  \"valid\": false,\n",
      "  \"reason\": \"The response is empty and does not answer the user's request to name three Python frameworks for building AI agents. It provides no frameworks, recommendations, or explanations.\"\n",
      "}\n",
      "2025-09-11 10:38:34,810 - doppiozero.nodes.supervisor.supervisor - supervisor.py      - post         - INFO     - ❌ Supervisor rejected answer: The response is empty and does not answer the user's request to name three Python frameworks for building AI agents. It provides no frameworks, recommendations, or explanations.\n",
      "2025-09-11 10:38:34,814 - doppiozero.nodes.supervisor.decider - decider.py         - exec         - INFO     - 🤔 Agent deciding what to do next...\n",
      "2025-09-11 10:38:34,816 - doppiozero.nodes.supervisor.decider - decider.py         - exec         - INFO     - Carrying out LLM call to decide...\n",
      "2025-09-11 10:38:41,489 - httpx      - _client.py         - _send_single_request - INFO     - HTTP Request: POST https://spamurai-eastus2.openai.azure.com/openai/deployments/gpt-5-mini/chat/completions?api-version=2024-12-01-preview \"HTTP/1.1 200 OK\"\n",
      "2025-09-11 10:38:41,491 - doppiozero.nodes.supervisor.decider - decider.py         - exec         - INFO     - LLM call completed.\n",
      "2025-09-11 10:38:41,493 - doppiozero.nodes.supervisor.decider - decider.py         - exec         - INFO     - Generated the following result: {\n",
      "  \"fallback\": \"empty_response\"\n",
      "}\n",
      "2025-09-11 10:38:41,500 - doppiozero.nodes.supervisor.decider - decider.py         - post         - INFO     - 💡 Agent decided to answer the question!\n"
     ]
    },
    {
     "name": "stderr",
     "output_type": "stream",
     "text": [
      "2025-09-04 15:46:20,239 - doppiozero.nodes.researcher - researcher.py      - prep         - INFO     - === INITIAL RESEARCH PHASE ===\n"
     ]
    },
    {
     "name": "stderr",
     "output_type": "stream",
     "text": [
      "2025-09-04 15:46:20,240 - doppiozero.nodes.researcher - researcher.py      - prep         - INFO     - Starting initial semantic search for: What are the recent discussions about authentication failures?\n"
     ]
    },
    {
     "name": "stderr",
     "output_type": "stream",
     "text": [
      "2025-09-04 15:46:20,240 - doppiozero.nodes.researcher - researcher.py      - exec         - INFO     - Executing initial semantic search and enriching results...\n"
     ]
    },
    {
     "name": "stderr",
     "output_type": "stream",
     "text": [
      "2025-09-04 15:46:20,240 - doppiozero.nodes.researcher - researcher.py      - exec         - INFO     - Searching (pass 1): What are the recent discussions about authentication failures? (pass 1)\n"
     ]
    },
    {
     "name": "stderr",
     "output_type": "stream",
     "text": [
      "2025-09-04 15:46:20,240 - doppiozero.nodes.researcher - researcher.py      - exec         - INFO     - Fetching conversation: https://example.com/convo/0\n"
     ]
    },
    {
     "name": "stderr",
     "output_type": "stream",
     "text": [
      "2025-09-04 15:46:20,241 - doppiozero.nodes.researcher - researcher.py      - exec         - INFO     - Fetching conversation: https://example.com/convo/1\n"
     ]
    },
    {
     "name": "stderr",
     "output_type": "stream",
     "text": [
      "2025-09-04 15:46:20,241 - doppiozero.nodes.researcher - researcher.py      - exec         - INFO     - Fetching conversation: https://example.com/convo/2\n"
     ]
    },
    {
     "name": "stderr",
     "output_type": "stream",
     "text": [
      "2025-09-04 15:46:20,241 - doppiozero.nodes.researcher - researcher.py      - exec         - INFO     - ✓ Initial research complete: 3 conversations collected\n"
     ]
    },
    {
     "name": "stderr",
     "output_type": "stream",
     "text": [
      "2025-09-04 15:46:20,241 - doppiozero.nodes.researcher - researcher.py      - post         - INFO     - ✓ Initial research complete: 3 conversations collected\n"
     ]
    },
    {
     "name": "stderr",
     "output_type": "stream",
     "text": [
      "2025-09-04 15:46:20,241 - doppiozero.nodes.clarifier - clarifier.py       - prep         - INFO     - === CLARIFYING QUESTIONS PHASE ===\n"
     ]
    },
    {
     "name": "stderr",
     "output_type": "stream",
     "text": [
      "2025-09-04 15:46:20,242 - doppiozero.nodes.clarifier - clarifier.py       - exec         - INFO     - Presenting clarifying questions to user...\n"
     ]
    },
    {
     "name": "stderr",
     "output_type": "stream",
     "text": [
      "2025-09-04 15:46:20,242 - doppiozero.nodes.clarifier - clarifier.py       - post         - INFO     - Clarifications stored.\n"
     ]
    },
    {
     "name": "stderr",
     "output_type": "stream",
     "text": [
      "2025-09-04 15:46:20,243 - doppiozero.nodes.planner - planner.py         - prep         - INFO     - === PLANNING PHASE ===\n"
     ]
    },
    {
     "name": "stderr",
     "output_type": "stream",
     "text": [
      "2025-09-04 15:46:20,243 - doppiozero.nodes.planner - planner.py         - prep         - INFO     - === PLANNING PHASE (Iteration 1/1) ===\n"
     ]
    },
    {
     "name": "stderr",
     "output_type": "stream",
     "text": [
      "2025-09-04 15:46:20,243 - doppiozero.nodes.planner - planner.py         - exec         - INFO     - Transforming queries into search plans...\n"
     ]
    },
    {
     "name": "stderr",
     "output_type": "stream",
     "text": [
      "2025-09-04 15:46:20,243 - doppiozero.nodes.planner - planner.py         - post         - INFO     - ✓ Planning complete, generated 1 search plans\n"
     ]
    },
    {
     "name": "stderr",
     "output_type": "stream",
     "text": [
      "2025-09-04 15:46:20,244 - doppiozero.nodes.retriever - retriever.py       - prep         - INFO     - === RETRIEVAL PHASE ===\n"
     ]
    },
    {
     "name": "stderr",
     "output_type": "stream",
     "text": [
      "2025-09-04 15:46:20,244 - doppiozero.nodes.retriever - retriever.py       - exec         - INFO     - Executing search operations and retrieving data...\n"
     ]
    },
    {
     "name": "stderr",
     "output_type": "stream",
     "text": [
      "2025-09-04 15:46:20,244 - doppiozero.nodes.retriever - retriever.py       - post         - INFO     - Added 5 new conversations to memory.\n"
     ]
    },
    {
     "name": "stderr",
     "output_type": "stream",
     "text": [
      "2025-09-04 15:46:20,244 - doppiozero.nodes.reporter - reporter.py        - prep         - INFO     - === FINAL REPORT PHASE ===\n"
     ]
    },
    {
     "name": "stderr",
     "output_type": "stream",
     "text": [
      "2025-09-04 15:46:20,244 - doppiozero.nodes.reporter - reporter.py        - prep         - INFO     - Generating final report from all gathered data...\n"
     ]
    },
    {
     "name": "stderr",
     "output_type": "stream",
     "text": [
      "2025-09-04 15:46:20,244 - doppiozero.nodes.reporter - reporter.py        - prep         - INFO     - Research summary: 8 conversations analyzed, 2 queries used, 1 deep research iterations\n"
     ]
    },
    {
     "name": "stderr",
     "output_type": "stream",
     "text": [
      "2025-09-04 15:46:20,245 - doppiozero.nodes.reporter - reporter.py        - post         - INFO     - Routing to claim verification before final output\n"
     ]
    },
    {
     "name": "stderr",
     "output_type": "stream",
     "text": [
      "2025-09-04 15:46:20,245 - doppiozero.nodes.claim_verifier - claim_verifier.py  - prep         - INFO     - === CLAIM VERIFICATION PHASE ===\n"
     ]
    },
    {
     "name": "stderr",
     "output_type": "stream",
     "text": [
      "2025-09-04 15:46:20,246 - doppiozero.nodes.claim_verifier - claim_verifier.py  - exec         - INFO     - Verifying 2 claims against evidence...\n"
     ]
    },
    {
     "name": "stderr",
     "output_type": "stream",
     "text": [
      "2025-09-04 15:46:20,246 - doppiozero.nodes.claim_verifier - claim_verifier.py  - exec         - INFO     - ✗ Claim unsupported: Claim 1\n"
     ]
    },
    {
     "name": "stderr",
     "output_type": "stream",
     "text": [
      "2025-09-04 15:46:20,246 - doppiozero.nodes.claim_verifier - claim_verifier.py  - exec         - INFO     - ✗ Claim unsupported: Claim 2\n"
     ]
    },
    {
     "name": "stderr",
     "output_type": "stream",
     "text": [
      "2025-09-04 15:46:20,247 - doppiozero.nodes.claim_verifier - claim_verifier.py  - post         - INFO     - ✓ Claim verification complete: 2 claims checked.\n"
     ]
    },
    {
     "name": "stderr",
     "output_type": "stream",
     "text": [
      "2025-09-04 15:46:20,247 - doppiozero.nodes.claim_verifier - claim_verifier.py  - post         - INFO     - Verification incomplete: 2 claims; retrying attempt 1/1.\n"
     ]
    },
    {
     "name": "stderr",
     "output_type": "stream",
     "text": [
      "2025-09-04 15:46:20,247 - doppiozero.nodes.planner - planner.py         - prep         - INFO     - === PLANNING PHASE ===\n"
     ]
    },
    {
     "name": "stderr",
     "output_type": "stream",
     "text": [
      "2025-09-04 15:46:20,247 - doppiozero.nodes.planner - planner.py         - prep         - INFO     - === PLANNING PHASE (Iteration 2/1) ===\n"
     ]
    },
    {
     "name": "stderr",
     "output_type": "stream",
     "text": [
      "2025-09-04 15:46:20,248 - doppiozero.nodes.planner - planner.py         - prep         - INFO     - Focusing search on gathering evidence for 2 unsupported claims\n"
     ]
    },
    {
     "name": "stderr",
     "output_type": "stream",
     "text": [
      "2025-09-04 15:46:20,248 - doppiozero.nodes.planner - planner.py         - prep         - INFO     - Generated claim verification search plan: {}\n"
     ]
    },
    {
     "name": "stderr",
     "output_type": "stream",
     "text": [
      "2025-09-04 15:46:20,248 - doppiozero.nodes.planner - planner.py         - exec         - INFO     - Transforming queries into search plans...\n"
     ]
    },
    {
     "name": "stderr",
     "output_type": "stream",
     "text": [
      "2025-09-04 15:46:20,248 - doppiozero.nodes.planner - planner.py         - post         - INFO     - ✓ Planning complete, generated 1 search plans\n"
     ]
    },
    {
     "name": "stderr",
     "output_type": "stream",
     "text": [
      "2025-09-04 15:46:20,248 - doppiozero.nodes.retriever - retriever.py       - prep         - INFO     - === RETRIEVAL PHASE ===\n"
     ]
    },
    {
     "name": "stderr",
     "output_type": "stream",
     "text": [
      "2025-09-04 15:46:20,248 - doppiozero.nodes.retriever - retriever.py       - exec         - INFO     - Executing search operations and retrieving data...\n"
     ]
    },
    {
     "name": "stderr",
     "output_type": "stream",
     "text": [
      "2025-09-04 15:46:20,249 - doppiozero.nodes.retriever - retriever.py       - post         - INFO     - Added 5 new conversations to memory.\n"
     ]
    },
    {
     "name": "stderr",
     "output_type": "stream",
     "text": [
      "2025-09-04 15:46:20,249 - doppiozero.nodes.reporter - reporter.py        - prep         - INFO     - === FINAL REPORT PHASE ===\n"
     ]
    },
    {
     "name": "stderr",
     "output_type": "stream",
     "text": [
      "2025-09-04 15:46:20,249 - doppiozero.nodes.reporter - reporter.py        - prep         - INFO     - Generating final report from all gathered data...\n"
     ]
    },
    {
     "name": "stderr",
     "output_type": "stream",
     "text": [
      "2025-09-04 15:46:20,249 - doppiozero.nodes.reporter - reporter.py        - prep         - INFO     - Research summary: 13 conversations analyzed, 3 queries used, 2 deep research iterations\n"
     ]
    },
    {
     "name": "stderr",
     "output_type": "stream",
     "text": [
      "2025-09-04 15:46:20,250 - doppiozero.nodes.reporter - reporter.py        - post         - INFO     - === FINAL REPORT ===\n",
      "\n",
      "\n"
     ]
    },
    {
     "name": "stderr",
     "output_type": "stream",
     "text": [
      "2025-09-04 15:46:20,250 - doppiozero.nodes.reporter - reporter.py        - post         - INFO     - {}\n"
     ]
    },
    {
     "name": "stderr",
     "output_type": "stream",
     "text": [
      "2025-09-04 15:46:20,250 - doppiozero.nodes.reporter - reporter.py        - post         - INFO     - \n",
      "\n",
      "---\n",
      "\n",
      "\n"
     ]
    },
    {
     "name": "stderr",
     "output_type": "stream",
     "text": [
      "2025-09-04 15:46:20,250 - doppiozero.nodes.reporter - reporter.py        - post         - INFO     - **Note**: The following 2 claims could not be fully verified against the available evidence:\n"
     ]
    },
    {
     "name": "stderr",
     "output_type": "stream",
     "text": [
      "2025-09-04 15:46:20,250 - doppiozero.nodes.reporter - reporter.py        - post         - INFO     - 1. Claim 1\n"
     ]
    },
    {
     "name": "stderr",
     "output_type": "stream",
     "text": [
      "2025-09-04 15:46:20,250 - doppiozero.nodes.reporter - reporter.py        - post         - INFO     - 2. Claim 2\n"
     ]
    },
    {
     "name": "stderr",
     "output_type": "stream",
     "text": [
      "2025-09-04 15:46:20,251 - doppiozero.nodes.reporter - reporter.py        - post         - INFO     - \n",
      "\n",
      "✓ Research complete! Total conversations analyzed: 13, 2 claims verified (0 supported, 2 unsupported)\n"
     ]
    },
    {
     "name": "stderr",
     "output_type": "stream",
     "text": [
      "2025-09-04 15:46:20,251 - doppiozero.nodes.end - end.py             - exec         - INFO     - End node: terminating workflow and returning results.\n"
     ]
    },
    {
     "name": "stdout",
     "output_type": "stream",
     "text": [
      "=== AGENT RUN RESULT ===\n",
      "{'claims_verified': 0,\n",
      " 'draft': '{}',\n",
      " 'num_conversations': 13,\n",
      " 'unsupported_claims': ['Claim 1', 'Claim 2']}\n",
      "=== SHARED STATE ===\n",
      "{'cache_path': None,\n",
      " 'claim_verification': {'details': [{'claim': 'Claim 1',\n",
      "                                     'evidence': [{'score': 1.0,\n",
      "                                                   'snippet': 'Summary of '\n",
      "                                                              'Claim 1 #0',\n",
      "                                                   'source': 'https://example.com/convo/0'},\n",
      "                                                  {'score': 0.9,\n",
      "                                                   'snippet': 'Summary of '\n",
      "                                                              'Claim 1 #1',\n",
      "                                                   'source': 'https://example.com/convo/1'},\n",
      "                                                  {'score': 0.8,\n",
      "                                                   'snippet': 'Summary of '\n",
      "                                                              'Claim 1 #2',\n",
      "                                                   'source': 'https://example.com/convo/2'},\n",
      "                                                  {'score': 0.7,\n",
      "                                                   'snippet': 'Summary of '\n",
      "                                                              'Claim 1 #3',\n",
      "                                                   'source': 'https://example.com/convo/3'},\n",
      "                                                  {'score': 0.6,\n",
      "                                                   'snippet': 'Summary of '\n",
      "                                                              'Claim 1 #4',\n",
      "                                                   'source': 'https://example.com/convo/4'}],\n",
      "                                     'reasoning': 'no_support_found',\n",
      "                                     'status': 'unsupported'},\n",
      "                                    {'claim': 'Claim 2',\n",
      "                                     'evidence': [{'score': 1.0,\n",
      "                                                   'snippet': 'Summary of '\n",
      "                                                              'Claim 2 #0',\n",
      "                                                   'source': 'https://example.com/convo/0'},\n",
      "                                                  {'score': 0.9,\n",
      "                                                   'snippet': 'Summary of '\n",
      "                                                              'Claim 2 #1',\n",
      "                                                   'source': 'https://example.com/convo/1'},\n",
      "                                                  {'score': 0.8,\n",
      "                                                   'snippet': 'Summary of '\n",
      "                                                              'Claim 2 #2',\n",
      "                                                   'source': 'https://example.com/convo/2'},\n",
      "                                                  {'score': 0.7,\n",
      "                                                   'snippet': 'Summary of '\n",
      "                                                              'Claim 2 #3',\n",
      "                                                   'source': 'https://example.com/convo/3'},\n",
      "                                                  {'score': 0.6,\n",
      "                                                   'snippet': 'Summary of '\n",
      "                                                              'Claim 2 #4',\n",
      "                                                   'source': 'https://example.com/convo/4'}],\n",
      "                                     'reasoning': 'no_support_found',\n",
      "                                     'status': 'unsupported'}],\n",
      "                        'insufficient_claims': [],\n",
      "                        'supported_claims': [],\n",
      "                        'total_claims': 2,\n",
      "                        'unsupported_claims': ['Claim 1', 'Claim 2'],\n",
      "                        'verification_errors': 0},\n",
      " 'claim_verification_completed': True,\n",
      " 'clarifications': 'Q: What is the main goal?\\n'\n",
      "                   'A: Find recent authentication failure discussions across '\n",
      "                   'repos.\\n'\n",
      "                   '\\n'\n",
      "                   'Q: Are there specific repos to focus on?\\n'\n",
      "                   'A: doppiozero and financial-planning.\\n',\n",
      " 'clarifying_qa': '/Users/romanofoti/romanofoti/doppiozero/clarifying_answers.txt',\n",
      " 'collection': None,\n",
      " 'current_depth': 2,\n",
      " 'current_query': {},\n",
      " 'done': False,\n",
      " 'draft_answer': '{}',\n",
      " 'editor_file': None,\n",
      " 'final_report': {'claims_verified': 0,\n",
      "                  'draft': '{}',\n",
      "                  'num_conversations': 13,\n",
      "                  'unsupported_claims': ['Claim 1', 'Claim 2']},\n",
      " 'max_depth': 1,\n",
      " 'memory': {'hits': [{'conversation': {'messages': [{'author': 'alice',\n",
      "                                                     'text': 'Initial issue '\n",
      "                                                             'description.'},\n",
      "                                                    {'author': 'bob',\n",
      "                                                     'text': 'Follow-up '\n",
      "                                                             'discussion.'}],\n",
      "                                       'url': 'https://example.com/convo/0'},\n",
      "                      'score': 1.0,\n",
      "                      'summary': 'Summary for https://example.com/convo/0 (no '\n",
      "                                 'prompt provided)',\n",
      "                      'url': 'https://example.com/convo/0'},\n",
      "                     {'conversation': {'messages': [{'author': 'alice',\n",
      "                                                     'text': 'Initial issue '\n",
      "                                                             'description.'},\n",
      "                                                    {'author': 'bob',\n",
      "                                                     'text': 'Follow-up '\n",
      "                                                             'discussion.'}],\n",
      "                                       'url': 'https://example.com/convo/1'},\n",
      "                      'score': 0.9,\n",
      "                      'summary': 'Summary for https://example.com/convo/1 (no '\n",
      "                                 'prompt provided)',\n",
      "                      'url': 'https://example.com/convo/1'},\n",
      "                     {'conversation': {'messages': [{'author': 'alice',\n",
      "                                                     'text': 'Initial issue '\n",
      "                                                             'description.'},\n",
      "                                                    {'author': 'bob',\n",
      "                                                     'text': 'Follow-up '\n",
      "                                                             'discussion.'}],\n",
      "                                       'url': 'https://example.com/convo/2'},\n",
      "                      'score': 0.8,\n",
      "                      'summary': 'Summary for https://example.com/convo/2 (no '\n",
      "                                 'prompt provided)',\n",
      "                      'url': 'https://example.com/convo/2'},\n",
      "                     {'score': 1.0,\n",
      "                      'summary': 'Summary of What are the recent discussions '\n",
      "                                 'about authentication failures? #0',\n",
      "                      'url': 'https://example.com/convo/0'},\n",
      "                     {'score': 0.9,\n",
      "                      'summary': 'Summary of What are the recent discussions '\n",
      "                                 'about authentication failures? #1',\n",
      "                      'url': 'https://example.com/convo/1'},\n",
      "                     {'score': 0.8,\n",
      "                      'summary': 'Summary of What are the recent discussions '\n",
      "                                 'about authentication failures? #2',\n",
      "                      'url': 'https://example.com/convo/2'},\n",
      "                     {'score': 0.7,\n",
      "                      'summary': 'Summary of What are the recent discussions '\n",
      "                                 'about authentication failures? #3',\n",
      "                      'url': 'https://example.com/convo/3'},\n",
      "                     {'score': 0.6,\n",
      "                      'summary': 'Summary of What are the recent discussions '\n",
      "                                 'about authentication failures? #4',\n",
      "                      'url': 'https://example.com/convo/4'},\n",
      "                     {'score': 1.0,\n",
      "                      'summary': 'Summary of {} #0',\n",
      "                      'url': 'https://example.com/convo/0'},\n",
      "                     {'score': 0.9,\n",
      "                      'summary': 'Summary of {} #1',\n",
      "                      'url': 'https://example.com/convo/1'},\n",
      "                     {'score': 0.8,\n",
      "                      'summary': 'Summary of {} #2',\n",
      "                      'url': 'https://example.com/convo/2'},\n",
      "                     {'score': 0.7,\n",
      "                      'summary': 'Summary of {} #3',\n",
      "                      'url': 'https://example.com/convo/3'},\n",
      "                     {'score': 0.6,\n",
      "                      'summary': 'Summary of {} #4',\n",
      "                      'url': 'https://example.com/convo/4'}],\n",
      "            'notes': [],\n",
      "            'search_queries': ['What are the recent discussions about '\n",
      "                               'authentication failures?',\n",
      "                               'What are the recent discussions about '\n",
      "                               'authentication failures?',\n",
      "                               '{}']},\n",
      " 'models': {'embed': 'default', 'fast': 'default', 'reasoning': 'default'},\n",
      " 'next_search_plans': [{'query': '{}', 'tool': 'semantic'}],\n",
      " 'parallel': False,\n",
      " 'request': 'What are the recent discussions about authentication failures?',\n",
      " 'script_dir': 'scripts',\n",
      " 'search_modes': ['semantic'],\n",
      " 'top_k': 3,\n",
      " 'unsupported_claims': ['Claim 1', 'Claim 2'],\n",
      " 'verbose': True,\n",
      " 'verification_attempts': 1}\n"
     ]
    }
   ],
   "source": [
    "question = '''Please tell me 3 good frameworks for building AI Agents in python.'''\n",
    "shared = {\"question\": question, \"verbose\": True}\n",
    "agent = SupervisorAgent()\n",
    "agent.create_supervised_flow()\n",
    "result = agent.run(shared)\n",
    "\n",
    "print('=== AGENT RUN RESULT ===')\n",
    "print(shared.get(\"answer\", \"No answer found\"))\n",
    "print('=== SHARED STATE ===')\n",
    "pprint(json.dumps(shared, indent=2))"
   ]
  },
  {
   "cell_type": "code",
   "execution_count": null,
   "id": "ecb5684a-c3a8-4ea1-bff0-f4f6fd4fbf7d",
   "metadata": {},
   "outputs": [],
   "source": [
    "shared[\"answer_ls\"]"
   ]
  }
 ],
 "metadata": {
  "kernelspec": {
   "display_name": "Python 3 (ipykernel)",
   "language": "python",
   "name": "python3"
  },
  "language_info": {
   "codemirror_mode": {
    "name": "ipython",
    "version": 3
   },
   "file_extension": ".py",
   "mimetype": "text/x-python",
   "name": "python",
   "nbconvert_exporter": "python",
   "pygments_lexer": "ipython3",
   "version": "3.12.2"
  }
 },
 "nbformat": 4,
 "nbformat_minor": 5
}
