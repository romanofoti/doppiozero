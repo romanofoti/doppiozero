{
 "cells": [
  {
   "cell_type": "markdown",
   "id": "76b4e4dc",
   "metadata": {},
   "source": [
    "# GitHubAgent runtime test\n",
    "\n",
    "This notebook performs a runtime test of `doppiozero.agents.gh_deep_search.GitHubAgent`.\n",
    "By default the notebook will use your real LLM and content layer when available. To force deterministic offline behavior set `USE_MOCKS = True` in the mocking cell.\n",
    "\n",
    "Run the cells in order. The notebook saves a single `agent_test_output.json` artifact when complete."
   ]
  },
  {
   "cell_type": "code",
   "execution_count": 1,
   "id": "a096751a",
   "metadata": {},
   "outputs": [],
   "source": [
    "import json\n",
    "from dotenv import load_dotenv\n",
    "from pprint import pprint\n",
    "load_dotenv()\n",
    "from doppiozero.agents.supervisor import SupervisorAgent"
   ]
  },
  {
   "cell_type": "markdown",
   "id": "15e01e4a",
   "metadata": {},
   "source": [
    "## Run the agent"
   ]
  },
  {
   "cell_type": "code",
   "execution_count": 2,
   "id": "c247ef5f-7009-4208-8daa-beb84a22c679",
   "metadata": {},
   "outputs": [],
   "source": [
    "question = '''\n",
    "    Would you consider pineapple on pizza something controversial or it would be a legitimate topping?\n",
    "    Could you also provide the following lists:\n",
    "     - Pizza toppings (and spices or herbs) that are considered traditional\n",
    "     - Pizza toppings that have become popular more recently\n",
    "     - Pizza toppings that can be used by that are not deemed really acceptable\n",
    "'''"
   ]
  },
  {
   "cell_type": "code",
   "execution_count": 3,
   "id": "ee6f785f",
   "metadata": {},
   "outputs": [
    {
     "name": "stderr",
     "output_type": "stream",
     "text": [
      "2025-09-11 16:17:02,524 - doppiozero.nodes.supervisor.decider - decider.py         - exec         - INFO     - 🤔 Agent deciding what to do next...\n",
      "2025-09-11 16:17:02,525 - doppiozero.nodes.supervisor.decider - decider.py         - exec         - INFO     - Carrying out LLM call to decide...\n",
      "2025-09-11 16:17:23,697 - httpx      - _client.py         - _send_single_request - INFO     - HTTP Request: POST https://spamurai-eastus2.openai.azure.com/openai/deployments/gpt-5-mini/chat/completions?api-version=2024-12-01-preview \"HTTP/1.1 200 OK\"\n",
      "2025-09-11 16:17:23,714 - doppiozero.nodes.supervisor.decider - decider.py         - exec         - INFO     - LLM call completed.\n",
      "2025-09-11 16:17:23,715 - doppiozero.nodes.supervisor.decider - decider.py         - exec         - INFO     - Generated the following result: {\n",
      "  \"thinking\": \"I can answer this from general cultural and culinary knowledge (no web search needed). I'll state whether pineapple on pizza is controversial or legitimate, give concise explanations, and provide three lists (traditional toppings/spices, more recently popular toppings, and toppings often considered unacceptable or highly controversial), plus brief notes on regional variation and etiquette/tips.\",\n",
      "  \"action\": \"answer\",\n",
      "  \"reason\": \"The question is well-covered by existing knowledge and doesn't require new web lookup.\",\n",
      "  \"search_query\": \"\"\n",
      "}\n",
      "2025-09-11 16:17:23,721 - doppiozero.nodes.supervisor.decider - decider.py         - post         - INFO     - 💡 Agent decided to answer the question!\n",
      "2025-09-11 16:17:23,723 - doppiozero.nodes.supervisor.decider - decider.py         - post         - INFO     - The reasoning behind this choice is the following: The question is well-covered by existing knowledge and doesn't require new web lookup.\n",
      "2025-09-11 16:17:34,141 - httpx      - _client.py         - _send_single_request - INFO     - HTTP Request: POST https://spamurai-eastus2.openai.azure.com/openai/deployments/gpt-5-mini/chat/completions?api-version=2024-12-01-preview \"HTTP/1.1 200 OK\"\n",
      "2025-09-11 16:17:34,143 - doppiozero.nodes.supervisor.answerer - answerer.py        - _call_llm    - INFO     - Stage=initial finish_reason=length answer_len=0 max_tokens=1024\n",
      "2025-09-11 16:17:56,086 - httpx      - _client.py         - _send_single_request - INFO     - HTTP Request: POST https://spamurai-eastus2.openai.azure.com/openai/deployments/gpt-5-mini/chat/completions?api-version=2024-12-01-preview \"HTTP/1.1 200 OK\"\n",
      "2025-09-11 16:17:56,095 - doppiozero.nodes.supervisor.answerer - answerer.py        - _call_llm    - INFO     - Stage=double_tokens finish_reason=stop answer_len=3341 max_tokens=2048\n",
      "2025-09-11 16:17:56,099 - doppiozero.nodes.supervisor.answerer - answerer.py        - post         - INFO     - ✅ Answer generated successfully!\n",
      "2025-09-11 16:17:56,103 - doppiozero.nodes.supervisor.supervisor - supervisor.py      - exec         - INFO     - 🔍 Supervisor checking answer quality...\n",
      "2025-09-11 16:17:59,378 - httpx      - _client.py         - _send_single_request - INFO     - HTTP Request: POST https://spamurai-eastus2.openai.azure.com/openai/deployments/gpt-5-mini/chat/completions?api-version=2024-12-01-preview \"HTTP/1.1 200 OK\"\n",
      "2025-09-11 16:17:59,381 - doppiozero.nodes.supervisor.supervisor - supervisor.py      - exec         - INFO     - LLM call completed.\n",
      "2025-09-11 16:17:59,382 - doppiozero.nodes.supervisor.supervisor - supervisor.py      - exec         - INFO     - Generated the following result: {\n",
      "  \"valid\": true,\n",
      "  \"reason\": \"The response directly answers the pineapple question (balanced, culturally controversial but culinarily legitimate), provides accurate historical context, and supplies sensible, well-organized lists and practical tips. The content is balanced, acknowledges subjectivity and regional variation, and contains no misinformation or harmful content.\"\n",
      "}\n",
      "2025-09-11 16:17:59,390 - doppiozero.nodes.supervisor.supervisor - supervisor.py      - post         - INFO     - ✅ Supervisor approved answer: The response directly answers the pineapple question (balanced, culturally controversial but culinarily legitimate), provides accurate historical context, and supplies sensible, well-organized lists and practical tips. The content is balanced, acknowledges subjectivity and regional variation, and contains no misinformation or harmful content.\n"
     ]
    },
    {
     "name": "stderr",
     "output_type": "stream",
     "text": [
      "2025-09-04 15:46:20,240 - doppiozero.nodes.researcher - researcher.py      - prep         - INFO     - Starting initial semantic search for: What are the recent discussions about authentication failures?\n"
     ]
    },
    {
     "name": "stderr",
     "output_type": "stream",
     "text": [
      "2025-09-04 15:46:20,240 - doppiozero.nodes.researcher - researcher.py      - exec         - INFO     - Executing initial semantic search and enriching results...\n"
     ]
    },
    {
     "name": "stderr",
     "output_type": "stream",
     "text": [
      "2025-09-04 15:46:20,240 - doppiozero.nodes.researcher - researcher.py      - exec         - INFO     - Searching (pass 1): What are the recent discussions about authentication failures? (pass 1)\n"
     ]
    },
    {
     "name": "stderr",
     "output_type": "stream",
     "text": [
      "2025-09-04 15:46:20,240 - doppiozero.nodes.researcher - researcher.py      - exec         - INFO     - Fetching conversation: https://example.com/convo/0\n"
     ]
    },
    {
     "name": "stderr",
     "output_type": "stream",
     "text": [
      "2025-09-04 15:46:20,241 - doppiozero.nodes.researcher - researcher.py      - exec         - INFO     - Fetching conversation: https://example.com/convo/1\n"
     ]
    },
    {
     "name": "stderr",
     "output_type": "stream",
     "text": [
      "2025-09-04 15:46:20,241 - doppiozero.nodes.researcher - researcher.py      - exec         - INFO     - Fetching conversation: https://example.com/convo/2\n"
     ]
    },
    {
     "name": "stderr",
     "output_type": "stream",
     "text": [
      "2025-09-04 15:46:20,241 - doppiozero.nodes.researcher - researcher.py      - exec         - INFO     - ✓ Initial research complete: 3 conversations collected\n"
     ]
    },
    {
     "name": "stderr",
     "output_type": "stream",
     "text": [
      "2025-09-04 15:46:20,241 - doppiozero.nodes.researcher - researcher.py      - post         - INFO     - ✓ Initial research complete: 3 conversations collected\n"
     ]
    },
    {
     "name": "stderr",
     "output_type": "stream",
     "text": [
      "2025-09-04 15:46:20,241 - doppiozero.nodes.clarifier - clarifier.py       - prep         - INFO     - === CLARIFYING QUESTIONS PHASE ===\n"
     ]
    },
    {
     "name": "stderr",
     "output_type": "stream",
     "text": [
      "2025-09-04 15:46:20,242 - doppiozero.nodes.clarifier - clarifier.py       - exec         - INFO     - Presenting clarifying questions to user...\n"
     ]
    },
    {
     "name": "stderr",
     "output_type": "stream",
     "text": [
      "2025-09-04 15:46:20,242 - doppiozero.nodes.clarifier - clarifier.py       - post         - INFO     - Clarifications stored.\n"
     ]
    },
    {
     "name": "stderr",
     "output_type": "stream",
     "text": [
      "2025-09-04 15:46:20,243 - doppiozero.nodes.planner - planner.py         - prep         - INFO     - === PLANNING PHASE ===\n"
     ]
    },
    {
     "name": "stderr",
     "output_type": "stream",
     "text": [
      "2025-09-04 15:46:20,243 - doppiozero.nodes.planner - planner.py         - prep         - INFO     - === PLANNING PHASE (Iteration 1/1) ===\n"
     ]
    },
    {
     "name": "stderr",
     "output_type": "stream",
     "text": [
      "2025-09-04 15:46:20,243 - doppiozero.nodes.planner - planner.py         - exec         - INFO     - Transforming queries into search plans...\n"
     ]
    },
    {
     "name": "stderr",
     "output_type": "stream",
     "text": [
      "2025-09-04 15:46:20,243 - doppiozero.nodes.planner - planner.py         - post         - INFO     - ✓ Planning complete, generated 1 search plans\n"
     ]
    },
    {
     "name": "stderr",
     "output_type": "stream",
     "text": [
      "2025-09-04 15:46:20,244 - doppiozero.nodes.retriever - retriever.py       - prep         - INFO     - === RETRIEVAL PHASE ===\n"
     ]
    },
    {
     "name": "stderr",
     "output_type": "stream",
     "text": [
      "2025-09-04 15:46:20,244 - doppiozero.nodes.retriever - retriever.py       - exec         - INFO     - Executing search operations and retrieving data...\n"
     ]
    },
    {
     "name": "stderr",
     "output_type": "stream",
     "text": [
      "2025-09-04 15:46:20,244 - doppiozero.nodes.retriever - retriever.py       - post         - INFO     - Added 5 new conversations to memory.\n"
     ]
    },
    {
     "name": "stderr",
     "output_type": "stream",
     "text": [
      "2025-09-04 15:46:20,244 - doppiozero.nodes.reporter - reporter.py        - prep         - INFO     - === FINAL REPORT PHASE ===\n"
     ]
    },
    {
     "name": "stderr",
     "output_type": "stream",
     "text": [
      "2025-09-04 15:46:20,244 - doppiozero.nodes.reporter - reporter.py        - prep         - INFO     - Generating final report from all gathered data...\n"
     ]
    },
    {
     "name": "stderr",
     "output_type": "stream",
     "text": [
      "2025-09-04 15:46:20,244 - doppiozero.nodes.reporter - reporter.py        - prep         - INFO     - Research summary: 8 conversations analyzed, 2 queries used, 1 deep research iterations\n"
     ]
    },
    {
     "name": "stderr",
     "output_type": "stream",
     "text": [
      "2025-09-04 15:46:20,245 - doppiozero.nodes.reporter - reporter.py        - post         - INFO     - Routing to claim verification before final output\n"
     ]
    },
    {
     "name": "stderr",
     "output_type": "stream",
     "text": [
      "2025-09-04 15:46:20,245 - doppiozero.nodes.claim_verifier - claim_verifier.py  - prep         - INFO     - === CLAIM VERIFICATION PHASE ===\n"
     ]
    },
    {
     "name": "stderr",
     "output_type": "stream",
     "text": [
      "2025-09-04 15:46:20,246 - doppiozero.nodes.claim_verifier - claim_verifier.py  - exec         - INFO     - Verifying 2 claims against evidence...\n"
     ]
    },
    {
     "name": "stderr",
     "output_type": "stream",
     "text": [
      "2025-09-04 15:46:20,246 - doppiozero.nodes.claim_verifier - claim_verifier.py  - exec         - INFO     - ✗ Claim unsupported: Claim 1\n"
     ]
    },
    {
     "name": "stderr",
     "output_type": "stream",
     "text": [
      "2025-09-04 15:46:20,246 - doppiozero.nodes.claim_verifier - claim_verifier.py  - exec         - INFO     - ✗ Claim unsupported: Claim 2\n"
     ]
    },
    {
     "name": "stderr",
     "output_type": "stream",
     "text": [
      "2025-09-04 15:46:20,247 - doppiozero.nodes.claim_verifier - claim_verifier.py  - post         - INFO     - ✓ Claim verification complete: 2 claims checked.\n"
     ]
    },
    {
     "name": "stderr",
     "output_type": "stream",
     "text": [
      "2025-09-04 15:46:20,247 - doppiozero.nodes.claim_verifier - claim_verifier.py  - post         - INFO     - Verification incomplete: 2 claims; retrying attempt 1/1.\n"
     ]
    },
    {
     "name": "stderr",
     "output_type": "stream",
     "text": [
      "2025-09-04 15:46:20,247 - doppiozero.nodes.planner - planner.py         - prep         - INFO     - === PLANNING PHASE ===\n"
     ]
    },
    {
     "name": "stderr",
     "output_type": "stream",
     "text": [
      "2025-09-04 15:46:20,247 - doppiozero.nodes.planner - planner.py         - prep         - INFO     - === PLANNING PHASE (Iteration 2/1) ===\n"
     ]
    },
    {
     "name": "stderr",
     "output_type": "stream",
     "text": [
      "2025-09-04 15:46:20,248 - doppiozero.nodes.planner - planner.py         - prep         - INFO     - Focusing search on gathering evidence for 2 unsupported claims\n"
     ]
    },
    {
     "name": "stderr",
     "output_type": "stream",
     "text": [
      "2025-09-04 15:46:20,248 - doppiozero.nodes.planner - planner.py         - prep         - INFO     - Generated claim verification search plan: {}\n"
     ]
    },
    {
     "name": "stderr",
     "output_type": "stream",
     "text": [
      "2025-09-04 15:46:20,248 - doppiozero.nodes.planner - planner.py         - exec         - INFO     - Transforming queries into search plans...\n"
     ]
    },
    {
     "name": "stderr",
     "output_type": "stream",
     "text": [
      "2025-09-04 15:46:20,248 - doppiozero.nodes.planner - planner.py         - post         - INFO     - ✓ Planning complete, generated 1 search plans\n"
     ]
    },
    {
     "name": "stderr",
     "output_type": "stream",
     "text": [
      "2025-09-04 15:46:20,248 - doppiozero.nodes.retriever - retriever.py       - prep         - INFO     - === RETRIEVAL PHASE ===\n"
     ]
    },
    {
     "name": "stderr",
     "output_type": "stream",
     "text": [
      "2025-09-04 15:46:20,248 - doppiozero.nodes.retriever - retriever.py       - exec         - INFO     - Executing search operations and retrieving data...\n"
     ]
    },
    {
     "name": "stderr",
     "output_type": "stream",
     "text": [
      "2025-09-04 15:46:20,249 - doppiozero.nodes.retriever - retriever.py       - post         - INFO     - Added 5 new conversations to memory.\n"
     ]
    },
    {
     "name": "stderr",
     "output_type": "stream",
     "text": [
      "2025-09-04 15:46:20,249 - doppiozero.nodes.reporter - reporter.py        - prep         - INFO     - === FINAL REPORT PHASE ===\n"
     ]
    },
    {
     "name": "stderr",
     "output_type": "stream",
     "text": [
      "2025-09-04 15:46:20,249 - doppiozero.nodes.reporter - reporter.py        - prep         - INFO     - Generating final report from all gathered data...\n"
     ]
    },
    {
     "name": "stderr",
     "output_type": "stream",
     "text": [
      "2025-09-04 15:46:20,249 - doppiozero.nodes.reporter - reporter.py        - prep         - INFO     - Research summary: 13 conversations analyzed, 3 queries used, 2 deep research iterations\n"
     ]
    },
    {
     "name": "stderr",
     "output_type": "stream",
     "text": [
      "2025-09-04 15:46:20,250 - doppiozero.nodes.reporter - reporter.py        - post         - INFO     - === FINAL REPORT ===\n",
      "\n",
      "\n"
     ]
    },
    {
     "name": "stderr",
     "output_type": "stream",
     "text": [
      "2025-09-04 15:46:20,250 - doppiozero.nodes.reporter - reporter.py        - post         - INFO     - {}\n"
     ]
    },
    {
     "name": "stderr",
     "output_type": "stream",
     "text": [
      "2025-09-04 15:46:20,250 - doppiozero.nodes.reporter - reporter.py        - post         - INFO     - \n",
      "\n",
      "---\n",
      "\n",
      "\n"
     ]
    },
    {
     "name": "stderr",
     "output_type": "stream",
     "text": [
      "2025-09-04 15:46:20,250 - doppiozero.nodes.reporter - reporter.py        - post         - INFO     - **Note**: The following 2 claims could not be fully verified against the available evidence:\n"
     ]
    },
    {
     "name": "stderr",
     "output_type": "stream",
     "text": [
      "2025-09-04 15:46:20,250 - doppiozero.nodes.reporter - reporter.py        - post         - INFO     - 1. Claim 1\n"
     ]
    },
    {
     "name": "stderr",
     "output_type": "stream",
     "text": [
      "2025-09-04 15:46:20,250 - doppiozero.nodes.reporter - reporter.py        - post         - INFO     - 2. Claim 2\n"
     ]
    },
    {
     "name": "stderr",
     "output_type": "stream",
     "text": [
      "2025-09-04 15:46:20,251 - doppiozero.nodes.reporter - reporter.py        - post         - INFO     - \n",
      "\n",
      "✓ Research complete! Total conversations analyzed: 13, 2 claims verified (0 supported, 2 unsupported)\n"
     ]
    },
    {
     "name": "stderr",
     "output_type": "stream",
     "text": [
      "2025-09-04 15:46:20,251 - doppiozero.nodes.end - end.py             - exec         - INFO     - End node: terminating workflow and returning results.\n"
     ]
    },
    {
     "name": "stdout",
     "output_type": "stream",
     "text": [
      "=== AGENT RUN RESULT ===\n",
      "{'claims_verified': 0,\n",
      " 'draft': '{}',\n",
      " 'num_conversations': 13,\n",
      " 'unsupported_claims': ['Claim 1', 'Claim 2']}\n",
      "=== SHARED STATE ===\n",
      "{'cache_path': None,\n",
      " 'claim_verification': {'details': [{'claim': 'Claim 1',\n",
      "                                     'evidence': [{'score': 1.0,\n",
      "                                                   'snippet': 'Summary of '\n",
      "                                                              'Claim 1 #0',\n",
      "                                                   'source': 'https://example.com/convo/0'},\n",
      "                                                  {'score': 0.9,\n",
      "                                                   'snippet': 'Summary of '\n",
      "                                                              'Claim 1 #1',\n",
      "                                                   'source': 'https://example.com/convo/1'},\n",
      "                                                  {'score': 0.8,\n",
      "                                                   'snippet': 'Summary of '\n",
      "                                                              'Claim 1 #2',\n",
      "                                                   'source': 'https://example.com/convo/2'},\n",
      "                                                  {'score': 0.7,\n",
      "                                                   'snippet': 'Summary of '\n",
      "                                                              'Claim 1 #3',\n",
      "                                                   'source': 'https://example.com/convo/3'},\n",
      "                                                  {'score': 0.6,\n",
      "                                                   'snippet': 'Summary of '\n",
      "                                                              'Claim 1 #4',\n",
      "                                                   'source': 'https://example.com/convo/4'}],\n",
      "                                     'reasoning': 'no_support_found',\n",
      "                                     'status': 'unsupported'},\n",
      "                                    {'claim': 'Claim 2',\n",
      "                                     'evidence': [{'score': 1.0,\n",
      "                                                   'snippet': 'Summary of '\n",
      "                                                              'Claim 2 #0',\n",
      "                                                   'source': 'https://example.com/convo/0'},\n",
      "                                                  {'score': 0.9,\n",
      "                                                   'snippet': 'Summary of '\n",
      "                                                              'Claim 2 #1',\n",
      "                                                   'source': 'https://example.com/convo/1'},\n",
      "                                                  {'score': 0.8,\n",
      "                                                   'snippet': 'Summary of '\n",
      "                                                              'Claim 2 #2',\n",
      "                                                   'source': 'https://example.com/convo/2'},\n",
      "                                                  {'score': 0.7,\n",
      "                                                   'snippet': 'Summary of '\n",
      "                                                              'Claim 2 #3',\n",
      "                                                   'source': 'https://example.com/convo/3'},\n",
      "                                                  {'score': 0.6,\n",
      "                                                   'snippet': 'Summary of '\n",
      "                                                              'Claim 2 #4',\n",
      "                                                   'source': 'https://example.com/convo/4'}],\n",
      "                                     'reasoning': 'no_support_found',\n",
      "                                     'status': 'unsupported'}],\n",
      "                        'insufficient_claims': [],\n",
      "                        'supported_claims': [],\n",
      "                        'total_claims': 2,\n",
      "                        'unsupported_claims': ['Claim 1', 'Claim 2'],\n",
      "                        'verification_errors': 0},\n",
      " 'claim_verification_completed': True,\n",
      " 'clarifications': 'Q: What is the main goal?\\n'\n",
      "                   'A: Find recent authentication failure discussions across '\n",
      "                   'repos.\\n'\n",
      "                   '\\n'\n",
      "                   'Q: Are there specific repos to focus on?\\n'\n",
      "                   'A: doppiozero and financial-planning.\\n',\n",
      " 'clarifying_qa': '/Users/romanofoti/romanofoti/doppiozero/clarifying_answers.txt',\n",
      " 'collection': None,\n",
      " 'current_depth': 2,\n",
      " 'current_query': {},\n",
      " 'done': False,\n",
      " 'draft_answer': '{}',\n",
      " 'editor_file': None,\n",
      " 'final_report': {'claims_verified': 0,\n",
      "                  'draft': '{}',\n",
      "                  'num_conversations': 13,\n",
      "                  'unsupported_claims': ['Claim 1', 'Claim 2']},\n",
      " 'max_depth': 1,\n",
      " 'memory': {'hits': [{'conversation': {'messages': [{'author': 'alice',\n",
      "                                                     'text': 'Initial issue '\n",
      "                                                             'description.'},\n",
      "                                                    {'author': 'bob',\n",
      "                                                     'text': 'Follow-up '\n",
      "                                                             'discussion.'}],\n",
      "                                       'url': 'https://example.com/convo/0'},\n",
      "                      'score': 1.0,\n",
      "                      'summary': 'Summary for https://example.com/convo/0 (no '\n",
      "                                 'prompt provided)',\n",
      "                      'url': 'https://example.com/convo/0'},\n",
      "                     {'conversation': {'messages': [{'author': 'alice',\n",
      "                                                     'text': 'Initial issue '\n",
      "                                                             'description.'},\n",
      "                                                    {'author': 'bob',\n",
      "                                                     'text': 'Follow-up '\n",
      "                                                             'discussion.'}],\n",
      "                                       'url': 'https://example.com/convo/1'},\n",
      "                      'score': 0.9,\n",
      "                      'summary': 'Summary for https://example.com/convo/1 (no '\n",
      "                                 'prompt provided)',\n",
      "                      'url': 'https://example.com/convo/1'},\n",
      "                     {'conversation': {'messages': [{'author': 'alice',\n",
      "                                                     'text': 'Initial issue '\n",
      "                                                             'description.'},\n",
      "                                                    {'author': 'bob',\n",
      "                                                     'text': 'Follow-up '\n",
      "                                                             'discussion.'}],\n",
      "                                       'url': 'https://example.com/convo/2'},\n",
      "                      'score': 0.8,\n",
      "                      'summary': 'Summary for https://example.com/convo/2 (no '\n",
      "                                 'prompt provided)',\n",
      "                      'url': 'https://example.com/convo/2'},\n",
      "                     {'score': 1.0,\n",
      "                      'summary': 'Summary of What are the recent discussions '\n",
      "                                 'about authentication failures? #0',\n",
      "                      'url': 'https://example.com/convo/0'},\n",
      "                     {'score': 0.9,\n",
      "                      'summary': 'Summary of What are the recent discussions '\n",
      "                                 'about authentication failures? #1',\n",
      "                      'url': 'https://example.com/convo/1'},\n",
      "                     {'score': 0.8,\n",
      "                      'summary': 'Summary of What are the recent discussions '\n",
      "                                 'about authentication failures? #2',\n",
      "                      'url': 'https://example.com/convo/2'},\n",
      "                     {'score': 0.7,\n",
      "                      'summary': 'Summary of What are the recent discussions '\n",
      "                                 'about authentication failures? #3',\n",
      "                      'url': 'https://example.com/convo/3'},\n",
      "                     {'score': 0.6,\n",
      "                      'summary': 'Summary of What are the recent discussions '\n",
      "                                 'about authentication failures? #4',\n",
      "                      'url': 'https://example.com/convo/4'},\n",
      "                     {'score': 1.0,\n",
      "                      'summary': 'Summary of {} #0',\n",
      "                      'url': 'https://example.com/convo/0'},\n",
      "                     {'score': 0.9,\n",
      "                      'summary': 'Summary of {} #1',\n",
      "                      'url': 'https://example.com/convo/1'},\n",
      "                     {'score': 0.8,\n",
      "                      'summary': 'Summary of {} #2',\n",
      "                      'url': 'https://example.com/convo/2'},\n",
      "                     {'score': 0.7,\n",
      "                      'summary': 'Summary of {} #3',\n",
      "                      'url': 'https://example.com/convo/3'},\n",
      "                     {'score': 0.6,\n",
      "                      'summary': 'Summary of {} #4',\n",
      "                      'url': 'https://example.com/convo/4'}],\n",
      "            'notes': [],\n",
      "            'search_queries': ['What are the recent discussions about '\n",
      "                               'authentication failures?',\n",
      "                               'What are the recent discussions about '\n",
      "                               'authentication failures?',\n",
      "                               '{}']},\n",
      " 'models': {'embed': 'default', 'fast': 'default', 'reasoning': 'default'},\n",
      " 'next_search_plans': [{'query': '{}', 'tool': 'semantic'}],\n",
      " 'parallel': False,\n",
      " 'request': 'What are the recent discussions about authentication failures?',\n",
      " 'script_dir': 'scripts',\n",
      " 'search_modes': ['semantic'],\n",
      " 'top_k': 3,\n",
      " 'unsupported_claims': ['Claim 1', 'Claim 2'],\n",
      " 'verbose': True,\n",
      " 'verification_attempts': 1}\n"
     ]
    }
   ],
   "source": [
    "shared = {\"question\": question, \"verbose\": True}\n",
    "agent = SupervisorAgent()\n",
    "agent.create_supervised_flow()\n",
    "result = agent.run(shared)"
   ]
  },
  {
   "cell_type": "code",
   "execution_count": 4,
   "id": "57b4eebb-c5c3-4aec-95f4-f2cf7b5a6047",
   "metadata": {},
   "outputs": [
    {
     "name": "stdout",
     "output_type": "stream",
     "text": [
      "=== AGENT RUN RESULT ===\n",
      "Short answer about pineapple:\n",
      "- Pineapple on pizza is controversial to many people but perfectly legitimate as a topping. It was invented (the \"Hawaiian\" pizza, by Sam Panopoulos in Canada, 1962) as a sweet-and-savory combination and has since become widely popular worldwide. Whether it \"belongs\" depends on taste, culinary context and local norms: many pizza purists (especially in parts of Italy) prefer simpler, traditional toppings, while other regions and modern cooks welcome creative toppings. In short — controversial culturally, but entirely valid culinarily if you like the flavor balance.\n",
      "\n",
      "Useful perspective:\n",
      "- Culinary legitimacy = does the topping create balanced flavors/texture and survive the bake (not make the crust soggy)? If yes, it's a reasonable choice. Cultural legitimacy = depends on local pizza traditions and personal preferences.\n",
      "\n",
      "Traditional pizza toppings (and common herbs/spices):\n",
      "- Tomato sauce, fresh mozzarella (fior di latte / buffalo), basil (e.g., Pizza Margherita)\n",
      "- Olive oil, oregano, garlic\n",
      "- Prosciutto crudo, cooked ham, salami, pepperoni\n",
      "- Italian sausage, meatballs\n",
      "- Mushrooms (including porcini), onions, bell peppers\n",
      "- Olives, anchovies, capers\n",
      "- Parmigiano/Reggiano or pecorino shavings\n",
      "- Artichokes, arugula (as a post-bake topping)\n",
      "- Common seasonings: oregano, fresh basil, red pepper flakes, garlic, black pepper, extra-virgin olive oil\n",
      "\n",
      "More recently popular or modern toppings/styles:\n",
      "- Pineapple (Hawaiian), BBQ chicken, buffalo chicken with blue-cheese drizzle\n",
      "- Truffle oil or shaved truffles, arugula, prosciutto added after bake\n",
      "- Goat cheese, feta, ricotta dollops, smoked mozzarella\n",
      "- Pesto or white-sauce bases, sun-dried tomatoes, roasted vegetables (zucchini, eggplant)\n",
      "- Pickled jalapeños, pickled red onions, spicy honey, sriracha drizzle\n",
      "- Smoked salmon (on specific styles), creative fusion toppings (kimchi, tikka, shawarma/kebab meats)\n",
      "- Plant-based cheeses and meat alternatives for vegan/vegetarian pizzas\n",
      "\n",
      "Toppings often considered unacceptable or highly polarizing (subjective and culturally dependent):\n",
      "- Novelty desserts or candy (ice cream, chocolate spread, gummy candies, marshmallows) — generally seen as gimmicky\n",
      "- Strongly sweet or syrupy toppings used as primary elements (e.g., certain candied fruits) without balancing acidity or fat\n",
      "- Condiments many consider off-limits on pizza as primary ingredients: straight ketchup or large amounts of mayonnaise (regional exceptions exist)\n",
      "- Some people strongly dislike: pineapple (polarizing rather than universally unacceptable), anchovies (polarizing), canned tuna + sweetcorn (common in some countries but divisive)\n",
      "- Unusual gimmicks frequently mocked: cereal, peanut butter, or other sandwich spreads used as a main pizza topping\n",
      "- Note: \"unacceptable\" is mostly a social/purist judgment — many of these work if properly balanced or used in fusion contexts.\n",
      "\n",
      "Practical tips:\n",
      "- If experimenting, think about balance (acid, fat, salt, texture) and cookability (too-wet toppings can sog crust; precook or drain when needed).\n",
      "- Respect regional styles when eating authentically (a Neapolitan Margherita is not the place for truffle oil or pineapple), but feel free to innovate at home or in casual settings.\n",
      "- Ultimately, pizza is a flexible canvas: what matters most is whether you and your guests enjoy it.\n"
     ]
    }
   ],
   "source": [
    "print('=== AGENT RUN RESULT ===')\n",
    "print(result)"
   ]
  },
  {
   "cell_type": "code",
   "execution_count": 5,
   "id": "8dfb97f1-6244-4803-97fa-2911f6d53a76",
   "metadata": {},
   "outputs": [
    {
     "data": {
      "text/plain": [
       "['Short answer about pineapple:\\n- Pineapple on pizza is controversial to many people but perfectly legitimate as a topping. It was invented (the \"Hawaiian\" pizza, by Sam Panopoulos in Canada, 1962) as a sweet-and-savory combination and has since become widely popular worldwide. Whether it \"belongs\" depends on taste, culinary context and local norms: many pizza purists (especially in parts of Italy) prefer simpler, traditional toppings, while other regions and modern cooks welcome creative toppings. In short — controversial culturally, but entirely valid culinarily if you like the flavor balance.\\n\\nUseful perspective:\\n- Culinary legitimacy = does the topping create balanced flavors/texture and survive the bake (not make the crust soggy)? If yes, it\\'s a reasonable choice. Cultural legitimacy = depends on local pizza traditions and personal preferences.\\n\\nTraditional pizza toppings (and common herbs/spices):\\n- Tomato sauce, fresh mozzarella (fior di latte / buffalo), basil (e.g., Pizza Margherita)\\n- Olive oil, oregano, garlic\\n- Prosciutto crudo, cooked ham, salami, pepperoni\\n- Italian sausage, meatballs\\n- Mushrooms (including porcini), onions, bell peppers\\n- Olives, anchovies, capers\\n- Parmigiano/Reggiano or pecorino shavings\\n- Artichokes, arugula (as a post-bake topping)\\n- Common seasonings: oregano, fresh basil, red pepper flakes, garlic, black pepper, extra-virgin olive oil\\n\\nMore recently popular or modern toppings/styles:\\n- Pineapple (Hawaiian), BBQ chicken, buffalo chicken with blue-cheese drizzle\\n- Truffle oil or shaved truffles, arugula, prosciutto added after bake\\n- Goat cheese, feta, ricotta dollops, smoked mozzarella\\n- Pesto or white-sauce bases, sun-dried tomatoes, roasted vegetables (zucchini, eggplant)\\n- Pickled jalapeños, pickled red onions, spicy honey, sriracha drizzle\\n- Smoked salmon (on specific styles), creative fusion toppings (kimchi, tikka, shawarma/kebab meats)\\n- Plant-based cheeses and meat alternatives for vegan/vegetarian pizzas\\n\\nToppings often considered unacceptable or highly polarizing (subjective and culturally dependent):\\n- Novelty desserts or candy (ice cream, chocolate spread, gummy candies, marshmallows) — generally seen as gimmicky\\n- Strongly sweet or syrupy toppings used as primary elements (e.g., certain candied fruits) without balancing acidity or fat\\n- Condiments many consider off-limits on pizza as primary ingredients: straight ketchup or large amounts of mayonnaise (regional exceptions exist)\\n- Some people strongly dislike: pineapple (polarizing rather than universally unacceptable), anchovies (polarizing), canned tuna + sweetcorn (common in some countries but divisive)\\n- Unusual gimmicks frequently mocked: cereal, peanut butter, or other sandwich spreads used as a main pizza topping\\n- Note: \"unacceptable\" is mostly a social/purist judgment — many of these work if properly balanced or used in fusion contexts.\\n\\nPractical tips:\\n- If experimenting, think about balance (acid, fat, salt, texture) and cookability (too-wet toppings can sog crust; precook or drain when needed).\\n- Respect regional styles when eating authentically (a Neapolitan Margherita is not the place for truffle oil or pineapple), but feel free to innovate at home or in casual settings.\\n- Ultimately, pizza is a flexible canvas: what matters most is whether you and your guests enjoy it.']"
      ]
     },
     "execution_count": 5,
     "metadata": {},
     "output_type": "execute_result"
    }
   ],
   "source": [
    "shared[\"answer_ls\"]"
   ]
  },
  {
   "cell_type": "code",
   "execution_count": 6,
   "id": "d083dbb9-d267-4899-a9af-c039585b8832",
   "metadata": {},
   "outputs": [
    {
     "data": {
      "text/plain": [
       "{'question': '\\n    Would you consider pineapple on pizza something controversial or it would be a legitimate topping?\\n    Could you also provide the following lists:\\n     - Pizza toppings (and spices or herbs) that are considered traditional\\n     - Pizza toppings that have become popular more recently\\n     - Pizza toppings that can be used by that are not deemed really acceptable\\n',\n",
       " 'verbose': True,\n",
       " 'answer': 'Short answer about pineapple:\\n- Pineapple on pizza is controversial to many people but perfectly legitimate as a topping. It was invented (the \"Hawaiian\" pizza, by Sam Panopoulos in Canada, 1962) as a sweet-and-savory combination and has since become widely popular worldwide. Whether it \"belongs\" depends on taste, culinary context and local norms: many pizza purists (especially in parts of Italy) prefer simpler, traditional toppings, while other regions and modern cooks welcome creative toppings. In short — controversial culturally, but entirely valid culinarily if you like the flavor balance.\\n\\nUseful perspective:\\n- Culinary legitimacy = does the topping create balanced flavors/texture and survive the bake (not make the crust soggy)? If yes, it\\'s a reasonable choice. Cultural legitimacy = depends on local pizza traditions and personal preferences.\\n\\nTraditional pizza toppings (and common herbs/spices):\\n- Tomato sauce, fresh mozzarella (fior di latte / buffalo), basil (e.g., Pizza Margherita)\\n- Olive oil, oregano, garlic\\n- Prosciutto crudo, cooked ham, salami, pepperoni\\n- Italian sausage, meatballs\\n- Mushrooms (including porcini), onions, bell peppers\\n- Olives, anchovies, capers\\n- Parmigiano/Reggiano or pecorino shavings\\n- Artichokes, arugula (as a post-bake topping)\\n- Common seasonings: oregano, fresh basil, red pepper flakes, garlic, black pepper, extra-virgin olive oil\\n\\nMore recently popular or modern toppings/styles:\\n- Pineapple (Hawaiian), BBQ chicken, buffalo chicken with blue-cheese drizzle\\n- Truffle oil or shaved truffles, arugula, prosciutto added after bake\\n- Goat cheese, feta, ricotta dollops, smoked mozzarella\\n- Pesto or white-sauce bases, sun-dried tomatoes, roasted vegetables (zucchini, eggplant)\\n- Pickled jalapeños, pickled red onions, spicy honey, sriracha drizzle\\n- Smoked salmon (on specific styles), creative fusion toppings (kimchi, tikka, shawarma/kebab meats)\\n- Plant-based cheeses and meat alternatives for vegan/vegetarian pizzas\\n\\nToppings often considered unacceptable or highly polarizing (subjective and culturally dependent):\\n- Novelty desserts or candy (ice cream, chocolate spread, gummy candies, marshmallows) — generally seen as gimmicky\\n- Strongly sweet or syrupy toppings used as primary elements (e.g., certain candied fruits) without balancing acidity or fat\\n- Condiments many consider off-limits on pizza as primary ingredients: straight ketchup or large amounts of mayonnaise (regional exceptions exist)\\n- Some people strongly dislike: pineapple (polarizing rather than universally unacceptable), anchovies (polarizing), canned tuna + sweetcorn (common in some countries but divisive)\\n- Unusual gimmicks frequently mocked: cereal, peanut butter, or other sandwich spreads used as a main pizza topping\\n- Note: \"unacceptable\" is mostly a social/purist judgment — many of these work if properly balanced or used in fusion contexts.\\n\\nPractical tips:\\n- If experimenting, think about balance (acid, fat, salt, texture) and cookability (too-wet toppings can sog crust; precook or drain when needed).\\n- Respect regional styles when eating authentically (a Neapolitan Margherita is not the place for truffle oil or pineapple), but feel free to innovate at home or in casual settings.\\n- Ultimately, pizza is a flexible canvas: what matters most is whether you and your guests enjoy it.',\n",
       " 'answer_ls': ['Short answer about pineapple:\\n- Pineapple on pizza is controversial to many people but perfectly legitimate as a topping. It was invented (the \"Hawaiian\" pizza, by Sam Panopoulos in Canada, 1962) as a sweet-and-savory combination and has since become widely popular worldwide. Whether it \"belongs\" depends on taste, culinary context and local norms: many pizza purists (especially in parts of Italy) prefer simpler, traditional toppings, while other regions and modern cooks welcome creative toppings. In short — controversial culturally, but entirely valid culinarily if you like the flavor balance.\\n\\nUseful perspective:\\n- Culinary legitimacy = does the topping create balanced flavors/texture and survive the bake (not make the crust soggy)? If yes, it\\'s a reasonable choice. Cultural legitimacy = depends on local pizza traditions and personal preferences.\\n\\nTraditional pizza toppings (and common herbs/spices):\\n- Tomato sauce, fresh mozzarella (fior di latte / buffalo), basil (e.g., Pizza Margherita)\\n- Olive oil, oregano, garlic\\n- Prosciutto crudo, cooked ham, salami, pepperoni\\n- Italian sausage, meatballs\\n- Mushrooms (including porcini), onions, bell peppers\\n- Olives, anchovies, capers\\n- Parmigiano/Reggiano or pecorino shavings\\n- Artichokes, arugula (as a post-bake topping)\\n- Common seasonings: oregano, fresh basil, red pepper flakes, garlic, black pepper, extra-virgin olive oil\\n\\nMore recently popular or modern toppings/styles:\\n- Pineapple (Hawaiian), BBQ chicken, buffalo chicken with blue-cheese drizzle\\n- Truffle oil or shaved truffles, arugula, prosciutto added after bake\\n- Goat cheese, feta, ricotta dollops, smoked mozzarella\\n- Pesto or white-sauce bases, sun-dried tomatoes, roasted vegetables (zucchini, eggplant)\\n- Pickled jalapeños, pickled red onions, spicy honey, sriracha drizzle\\n- Smoked salmon (on specific styles), creative fusion toppings (kimchi, tikka, shawarma/kebab meats)\\n- Plant-based cheeses and meat alternatives for vegan/vegetarian pizzas\\n\\nToppings often considered unacceptable or highly polarizing (subjective and culturally dependent):\\n- Novelty desserts or candy (ice cream, chocolate spread, gummy candies, marshmallows) — generally seen as gimmicky\\n- Strongly sweet or syrupy toppings used as primary elements (e.g., certain candied fruits) without balancing acidity or fat\\n- Condiments many consider off-limits on pizza as primary ingredients: straight ketchup or large amounts of mayonnaise (regional exceptions exist)\\n- Some people strongly dislike: pineapple (polarizing rather than universally unacceptable), anchovies (polarizing), canned tuna + sweetcorn (common in some countries but divisive)\\n- Unusual gimmicks frequently mocked: cereal, peanut butter, or other sandwich spreads used as a main pizza topping\\n- Note: \"unacceptable\" is mostly a social/purist judgment — many of these work if properly balanced or used in fusion contexts.\\n\\nPractical tips:\\n- If experimenting, think about balance (acid, fat, salt, texture) and cookability (too-wet toppings can sog crust; precook or drain when needed).\\n- Respect regional styles when eating authentically (a Neapolitan Margherita is not the place for truffle oil or pineapple), but feel free to innovate at home or in casual settings.\\n- Ultimately, pizza is a flexible canvas: what matters most is whether you and your guests enjoy it.']}"
      ]
     },
     "execution_count": 6,
     "metadata": {},
     "output_type": "execute_result"
    }
   ],
   "source": [
    "shared"
   ]
  }
 ],
 "metadata": {
  "kernelspec": {
   "display_name": "Python 3 (ipykernel)",
   "language": "python",
   "name": "python3"
  },
  "language_info": {
   "codemirror_mode": {
    "name": "ipython",
    "version": 3
   },
   "file_extension": ".py",
   "mimetype": "text/x-python",
   "name": "python",
   "nbconvert_exporter": "python",
   "pygments_lexer": "ipython3",
   "version": "3.12.2"
  }
 },
 "nbformat": 4,
 "nbformat_minor": 5
}
