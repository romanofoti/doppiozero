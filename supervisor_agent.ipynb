{
 "cells": [
  {
   "cell_type": "markdown",
   "id": "76b4e4dc",
   "metadata": {},
   "source": [
    "# GitHubAgent runtime test\n",
    "\n",
    "This notebook performs a runtime test of `doppiozero.agents.gh_deep_search.GitHubAgent`.\n",
    "By default the notebook will use your real LLM and content layer when available. To force deterministic offline behavior set `USE_MOCKS = True` in the mocking cell.\n",
    "\n",
    "Run the cells in order. The notebook saves a single `agent_test_output.json` artifact when complete."
   ]
  },
  {
   "cell_type": "code",
   "execution_count": 1,
   "id": "a096751a",
   "metadata": {},
   "outputs": [],
   "source": [
    "import json\n",
    "from dotenv import load_dotenv\n",
    "from pprint import pprint\n",
    "load_dotenv()\n",
    "from doppiozero.agents.supervisor import SupervisorAgent"
   ]
  },
  {
   "cell_type": "markdown",
   "id": "15e01e4a",
   "metadata": {},
   "source": [
    "## Run the agent"
   ]
  },
  {
   "cell_type": "code",
   "execution_count": 2,
   "id": "c247ef5f-7009-4208-8daa-beb84a22c679",
   "metadata": {},
   "outputs": [],
   "source": [
    "question = '''\n",
    "    Would you consider pineapple on pizza something controversial or it would be a legitimate topping?\n",
    "    Could you also provide the following lists:\n",
    "     - Pizza toppings (and spices or herbs) that are considered traditional\n",
    "     - Pizza toppings that have become popular more recently\n",
    "     - Pizza toppings that can be used by that are not deemed really acceptable\n",
    "'''"
   ]
  },
  {
   "cell_type": "code",
   "execution_count": 3,
   "id": "ee6f785f",
   "metadata": {},
   "outputs": [
    {
     "name": "stderr",
     "output_type": "stream",
     "text": [
      "2025-09-11 12:44:51,315 - doppiozero.nodes.supervisor.decider - decider.py         - exec         - INFO     - 🤔 Agent deciding what to do next...\n",
      "2025-09-11 12:44:51,316 - doppiozero.nodes.supervisor.decider - decider.py         - exec         - INFO     - Carrying out LLM call to decide...\n",
      "2025-09-11 12:45:09,225 - httpx      - _client.py         - _send_single_request - INFO     - HTTP Request: POST https://spamurai-eastus2.openai.azure.com/openai/deployments/gpt-5-mini/chat/completions?api-version=2024-12-01-preview \"HTTP/1.1 200 OK\"\n",
      "2025-09-11 12:45:09,241 - doppiozero.nodes.supervisor.decider - decider.py         - exec         - INFO     - LLM call completed.\n",
      "2025-09-11 12:45:09,242 - doppiozero.nodes.supervisor.decider - decider.py         - exec         - INFO     - Generated the following result: {\n",
      "  \"fallback\": \"thinking: |\\n  The user asked whether pineapple on pizza is controversial or legitimate, and requested three lists of toppings (traditional, more recent/popular, and those considered unacceptable). This is a cultural/culinary question that can be answered from general knowledge; no web search is required. I should explain the controversy briefly, give context (origin of pineapple/Hawaiian pizza), and provide clear, categorized lists while noting subjectivity and regional variation.\\naction: answer\\nreason: No web search needed \\u2014 the question is about culinary norms and opinions that can be answered from general knowledge and explained with nuance.\\nanswer: |\\n  Short answer about pineapple:\\n  - Pineapple on pizza is legitimate as a topping but also polarizing. It originated (as the \\u201cHawaiian\\u201d pizza) in the early 1960s and became popular around the world; many people love the sweet-salty contrast, while others (especially culinary purists) dislike fruit on pizza. So it\\u2019s both a valid choice and a controversial one \\u2014 depending on who you ask and where you are.\\n\\n  A few points to keep in mind:\\n  - Taste is subjective: what\\u2019s \\u201cacceptable\\u201d varies by culture, region, and personal preference.\\n  - Pizza traditions are strong (especially in Italy), but global and modern pizza styles freely experiment.\\n  - In casual/chain pizzerias and at home, pineapple is commonly offered; in some traditional pizzerias it may be discouraged.\\n\\n  Lists (not exhaustive, and some items overlap by region/style):\\n\\n  - Pizza toppings (and spices/herbs) that are considered traditional:\\n    - Tomato sauce, crushed tomatoes\\n    - Mozzarella (fresh and low-moisture), Parmesan, Pecorino\\n    - Basil (as on Margherita)\\n    - Oregano\\n    - Olive oil\\n    - Garlic\\n    - Anchovies (classic but divisive)\\n    - Prosciutto, ham\\n    - Salami, pepperoni (originally American, now widely \\u201ctraditional\\u201d in many places)\\n    - Italian sausage\\n    - Mushrooms\\n    - Olives\\n    - Onions\\n    - Bell peppers\\n    - Capers\\n    - Artichokes (common in classic Italian pizzas)\\n    - Eggs (on some regional pizzas, e.g., pizza alla bismark / French-inspired)\\n\\n  - Pizza toppings that have become popular more recently (20th\\u201321st century trends):\\n    - Pineapple (Hawaiian-style)\\n    - Barbecue chicken / BBQ sauce base\\n    - Buffalo-style chicken and hot-sauce finishes\\n    - Arugula (often added after baking)\\n    - Burrata, ricotta dollops, goat cheese, gorgonzola\\n    - Truffle oil or shaved truffle\\n    - Smoked salmon, capers, cr\\u00e8me fra\\u00eeche (on white pizzas)\\n    - Roasted vegetables (zucchini, eggplant, butternut squash)\\n    - Caramelized onions, figs, prosciutto added after baking\\n    - Pulled pork, brisket (BBQ pizzas)\\n    - Corn (common in parts of Europe and Japan)\\n    - Plant-based \\u201cmeats\\u201d and vegan cheeses (a big recent trend)\\n    - Global fusion toppings: tikka, kimchi, pesto bases, etc.\\n\\n  - Toppings that can be used but are often deemed unacceptable or highly controversial (subjective and culturally dependent):\\n    - Fruit beyond pineapple (e.g., banana, apple, mango) \\u2014 usually seen as novelty or frowned upon\\n    - Extremely sweet toppings (chocolate, marshmallows) \\u2014 novelty/dessert pizzas only\\n    - Ketchup or mayonnaise used as the primary sauce \\u2014 considered poor form by many purists\\n    - Certain unconventional proteins for pizza purists (e.g., durian) \\u2014 acceptable in some places, taboo in others\\n    - Large or gloppy/strong-smelling additions that overwhelm the pizza (some very strong fish, very pungent fermented items) \\u2014 divisive\\n    - Anything that breaks the expected texture balance for many eaters (heavy raw fruits, large chunks of raw vegetables that don\\u2019t roast well)\\n    - Note: anchovies are traditional but also frequently listed as \\u201cunacceptable\\u201d by people who dislike them \\u2014 \\u201cacceptable\\u201d vs \\u201cnot acceptable\\u201d is often a personal or cultural judgement.\\n\\n  Practical takeaway:\\n  - Pineapple is a legitimate topping in that it\\u2019s widely used and enjoyed, but it\\u2019s also a cultural lightning rod. If you\\u2019re cooking at home, pick what you like. If you\\u2019re ordering for a group, ask preferences or offer it as an option. If you\\u2019re eating in a very traditional pizzeria, be aware some owners/chefs prefer sticking to classic combinations. Ultimately, there are no absolute rules \\u2014 only widely shared preferences and local traditions.\"\n",
      "}\n",
      "2025-09-11 12:45:09,243 - doppiozero.nodes.supervisor.decider - decider.py         - post         - INFO     - 💡 Agent decided to answer the question!\n",
      "2025-09-11 12:45:09,248 - doppiozero.nodes.supervisor.decider - decider.py         - post         - INFO     - The reasoning behind this choice is the following: No reasoning provided\n",
      "2025-09-11 12:45:13,720 - httpx      - _client.py         - _send_single_request - INFO     - HTTP Request: POST https://spamurai-eastus2.openai.azure.com/openai/deployments/gpt-5-mini/chat/completions?api-version=2024-12-01-preview \"HTTP/1.1 200 OK\"\n",
      "2025-09-11 12:45:13,724 - doppiozero.nodes.supervisor.answerer - answerer.py        - _call_llm    - INFO     - Stage=initial finish_reason=stop answer_len=361 max_tokens=1024\n",
      "2025-09-11 12:45:13,725 - doppiozero.nodes.supervisor.answerer - answerer.py        - post         - INFO     - ✅ Answer generated successfully!\n",
      "2025-09-11 12:45:13,726 - doppiozero.nodes.supervisor.supervisor - supervisor.py      - exec         - INFO     - 🔍 Supervisor checking answer quality...\n",
      "2025-09-11 12:45:18,578 - httpx      - _client.py         - _send_single_request - INFO     - HTTP Request: POST https://spamurai-eastus2.openai.azure.com/openai/deployments/gpt-5-mini/chat/completions?api-version=2024-12-01-preview \"HTTP/1.1 200 OK\"\n",
      "2025-09-11 12:45:18,581 - doppiozero.nodes.supervisor.supervisor - supervisor.py      - exec         - INFO     - LLM call completed.\n",
      "2025-09-11 12:45:18,583 - doppiozero.nodes.supervisor.supervisor - supervisor.py      - exec         - INFO     - Generated the following result: {\n",
      "  \"valid\": true,\n",
      "  \"reason\": \"The assistant appropriately asked for missing information and clarification before proceeding. The user had not provided the requested research or a regional scope, so asking whether to (A) supply the research or (B) allow an answer based on general culinary consensus \\u2014 and requesting a regional focus \\u2014 is a reasonable and necessary step prior to producing lists or definitive judgments.\"\n",
      "}\n",
      "2025-09-11 12:45:18,584 - doppiozero.nodes.supervisor.supervisor - supervisor.py      - post         - INFO     - ✅ Supervisor approved answer: The assistant appropriately asked for missing information and clarification before proceeding. The user had not provided the requested research or a regional scope, so asking whether to (A) supply the research or (B) allow an answer based on general culinary consensus — and requesting a regional focus — is a reasonable and necessary step prior to producing lists or definitive judgments.\n"
     ]
    },
    {
     "name": "stderr",
     "output_type": "stream",
     "text": [
      "2025-09-04 15:46:20,240 - doppiozero.nodes.researcher - researcher.py      - prep         - INFO     - Starting initial semantic search for: What are the recent discussions about authentication failures?\n"
     ]
    },
    {
     "name": "stderr",
     "output_type": "stream",
     "text": [
      "2025-09-04 15:46:20,240 - doppiozero.nodes.researcher - researcher.py      - exec         - INFO     - Executing initial semantic search and enriching results...\n"
     ]
    },
    {
     "name": "stderr",
     "output_type": "stream",
     "text": [
      "2025-09-04 15:46:20,240 - doppiozero.nodes.researcher - researcher.py      - exec         - INFO     - Searching (pass 1): What are the recent discussions about authentication failures? (pass 1)\n"
     ]
    },
    {
     "name": "stderr",
     "output_type": "stream",
     "text": [
      "2025-09-04 15:46:20,240 - doppiozero.nodes.researcher - researcher.py      - exec         - INFO     - Fetching conversation: https://example.com/convo/0\n"
     ]
    },
    {
     "name": "stderr",
     "output_type": "stream",
     "text": [
      "2025-09-04 15:46:20,241 - doppiozero.nodes.researcher - researcher.py      - exec         - INFO     - Fetching conversation: https://example.com/convo/1\n"
     ]
    },
    {
     "name": "stderr",
     "output_type": "stream",
     "text": [
      "2025-09-04 15:46:20,241 - doppiozero.nodes.researcher - researcher.py      - exec         - INFO     - Fetching conversation: https://example.com/convo/2\n"
     ]
    },
    {
     "name": "stderr",
     "output_type": "stream",
     "text": [
      "2025-09-04 15:46:20,241 - doppiozero.nodes.researcher - researcher.py      - exec         - INFO     - ✓ Initial research complete: 3 conversations collected\n"
     ]
    },
    {
     "name": "stderr",
     "output_type": "stream",
     "text": [
      "2025-09-04 15:46:20,241 - doppiozero.nodes.researcher - researcher.py      - post         - INFO     - ✓ Initial research complete: 3 conversations collected\n"
     ]
    },
    {
     "name": "stderr",
     "output_type": "stream",
     "text": [
      "2025-09-04 15:46:20,241 - doppiozero.nodes.clarifier - clarifier.py       - prep         - INFO     - === CLARIFYING QUESTIONS PHASE ===\n"
     ]
    },
    {
     "name": "stderr",
     "output_type": "stream",
     "text": [
      "2025-09-04 15:46:20,242 - doppiozero.nodes.clarifier - clarifier.py       - exec         - INFO     - Presenting clarifying questions to user...\n"
     ]
    },
    {
     "name": "stderr",
     "output_type": "stream",
     "text": [
      "2025-09-04 15:46:20,242 - doppiozero.nodes.clarifier - clarifier.py       - post         - INFO     - Clarifications stored.\n"
     ]
    },
    {
     "name": "stderr",
     "output_type": "stream",
     "text": [
      "2025-09-04 15:46:20,243 - doppiozero.nodes.planner - planner.py         - prep         - INFO     - === PLANNING PHASE ===\n"
     ]
    },
    {
     "name": "stderr",
     "output_type": "stream",
     "text": [
      "2025-09-04 15:46:20,243 - doppiozero.nodes.planner - planner.py         - prep         - INFO     - === PLANNING PHASE (Iteration 1/1) ===\n"
     ]
    },
    {
     "name": "stderr",
     "output_type": "stream",
     "text": [
      "2025-09-04 15:46:20,243 - doppiozero.nodes.planner - planner.py         - exec         - INFO     - Transforming queries into search plans...\n"
     ]
    },
    {
     "name": "stderr",
     "output_type": "stream",
     "text": [
      "2025-09-04 15:46:20,243 - doppiozero.nodes.planner - planner.py         - post         - INFO     - ✓ Planning complete, generated 1 search plans\n"
     ]
    },
    {
     "name": "stderr",
     "output_type": "stream",
     "text": [
      "2025-09-04 15:46:20,244 - doppiozero.nodes.retriever - retriever.py       - prep         - INFO     - === RETRIEVAL PHASE ===\n"
     ]
    },
    {
     "name": "stderr",
     "output_type": "stream",
     "text": [
      "2025-09-04 15:46:20,244 - doppiozero.nodes.retriever - retriever.py       - exec         - INFO     - Executing search operations and retrieving data...\n"
     ]
    },
    {
     "name": "stderr",
     "output_type": "stream",
     "text": [
      "2025-09-04 15:46:20,244 - doppiozero.nodes.retriever - retriever.py       - post         - INFO     - Added 5 new conversations to memory.\n"
     ]
    },
    {
     "name": "stderr",
     "output_type": "stream",
     "text": [
      "2025-09-04 15:46:20,244 - doppiozero.nodes.reporter - reporter.py        - prep         - INFO     - === FINAL REPORT PHASE ===\n"
     ]
    },
    {
     "name": "stderr",
     "output_type": "stream",
     "text": [
      "2025-09-04 15:46:20,244 - doppiozero.nodes.reporter - reporter.py        - prep         - INFO     - Generating final report from all gathered data...\n"
     ]
    },
    {
     "name": "stderr",
     "output_type": "stream",
     "text": [
      "2025-09-04 15:46:20,244 - doppiozero.nodes.reporter - reporter.py        - prep         - INFO     - Research summary: 8 conversations analyzed, 2 queries used, 1 deep research iterations\n"
     ]
    },
    {
     "name": "stderr",
     "output_type": "stream",
     "text": [
      "2025-09-04 15:46:20,245 - doppiozero.nodes.reporter - reporter.py        - post         - INFO     - Routing to claim verification before final output\n"
     ]
    },
    {
     "name": "stderr",
     "output_type": "stream",
     "text": [
      "2025-09-04 15:46:20,245 - doppiozero.nodes.claim_verifier - claim_verifier.py  - prep         - INFO     - === CLAIM VERIFICATION PHASE ===\n"
     ]
    },
    {
     "name": "stderr",
     "output_type": "stream",
     "text": [
      "2025-09-04 15:46:20,246 - doppiozero.nodes.claim_verifier - claim_verifier.py  - exec         - INFO     - Verifying 2 claims against evidence...\n"
     ]
    },
    {
     "name": "stderr",
     "output_type": "stream",
     "text": [
      "2025-09-04 15:46:20,246 - doppiozero.nodes.claim_verifier - claim_verifier.py  - exec         - INFO     - ✗ Claim unsupported: Claim 1\n"
     ]
    },
    {
     "name": "stderr",
     "output_type": "stream",
     "text": [
      "2025-09-04 15:46:20,246 - doppiozero.nodes.claim_verifier - claim_verifier.py  - exec         - INFO     - ✗ Claim unsupported: Claim 2\n"
     ]
    },
    {
     "name": "stderr",
     "output_type": "stream",
     "text": [
      "2025-09-04 15:46:20,247 - doppiozero.nodes.claim_verifier - claim_verifier.py  - post         - INFO     - ✓ Claim verification complete: 2 claims checked.\n"
     ]
    },
    {
     "name": "stderr",
     "output_type": "stream",
     "text": [
      "2025-09-04 15:46:20,247 - doppiozero.nodes.claim_verifier - claim_verifier.py  - post         - INFO     - Verification incomplete: 2 claims; retrying attempt 1/1.\n"
     ]
    },
    {
     "name": "stderr",
     "output_type": "stream",
     "text": [
      "2025-09-04 15:46:20,247 - doppiozero.nodes.planner - planner.py         - prep         - INFO     - === PLANNING PHASE ===\n"
     ]
    },
    {
     "name": "stderr",
     "output_type": "stream",
     "text": [
      "2025-09-04 15:46:20,247 - doppiozero.nodes.planner - planner.py         - prep         - INFO     - === PLANNING PHASE (Iteration 2/1) ===\n"
     ]
    },
    {
     "name": "stderr",
     "output_type": "stream",
     "text": [
      "2025-09-04 15:46:20,248 - doppiozero.nodes.planner - planner.py         - prep         - INFO     - Focusing search on gathering evidence for 2 unsupported claims\n"
     ]
    },
    {
     "name": "stderr",
     "output_type": "stream",
     "text": [
      "2025-09-04 15:46:20,248 - doppiozero.nodes.planner - planner.py         - prep         - INFO     - Generated claim verification search plan: {}\n"
     ]
    },
    {
     "name": "stderr",
     "output_type": "stream",
     "text": [
      "2025-09-04 15:46:20,248 - doppiozero.nodes.planner - planner.py         - exec         - INFO     - Transforming queries into search plans...\n"
     ]
    },
    {
     "name": "stderr",
     "output_type": "stream",
     "text": [
      "2025-09-04 15:46:20,248 - doppiozero.nodes.planner - planner.py         - post         - INFO     - ✓ Planning complete, generated 1 search plans\n"
     ]
    },
    {
     "name": "stderr",
     "output_type": "stream",
     "text": [
      "2025-09-04 15:46:20,248 - doppiozero.nodes.retriever - retriever.py       - prep         - INFO     - === RETRIEVAL PHASE ===\n"
     ]
    },
    {
     "name": "stderr",
     "output_type": "stream",
     "text": [
      "2025-09-04 15:46:20,248 - doppiozero.nodes.retriever - retriever.py       - exec         - INFO     - Executing search operations and retrieving data...\n"
     ]
    },
    {
     "name": "stderr",
     "output_type": "stream",
     "text": [
      "2025-09-04 15:46:20,249 - doppiozero.nodes.retriever - retriever.py       - post         - INFO     - Added 5 new conversations to memory.\n"
     ]
    },
    {
     "name": "stderr",
     "output_type": "stream",
     "text": [
      "2025-09-04 15:46:20,249 - doppiozero.nodes.reporter - reporter.py        - prep         - INFO     - === FINAL REPORT PHASE ===\n"
     ]
    },
    {
     "name": "stderr",
     "output_type": "stream",
     "text": [
      "2025-09-04 15:46:20,249 - doppiozero.nodes.reporter - reporter.py        - prep         - INFO     - Generating final report from all gathered data...\n"
     ]
    },
    {
     "name": "stderr",
     "output_type": "stream",
     "text": [
      "2025-09-04 15:46:20,249 - doppiozero.nodes.reporter - reporter.py        - prep         - INFO     - Research summary: 13 conversations analyzed, 3 queries used, 2 deep research iterations\n"
     ]
    },
    {
     "name": "stderr",
     "output_type": "stream",
     "text": [
      "2025-09-04 15:46:20,250 - doppiozero.nodes.reporter - reporter.py        - post         - INFO     - === FINAL REPORT ===\n",
      "\n",
      "\n"
     ]
    },
    {
     "name": "stderr",
     "output_type": "stream",
     "text": [
      "2025-09-04 15:46:20,250 - doppiozero.nodes.reporter - reporter.py        - post         - INFO     - {}\n"
     ]
    },
    {
     "name": "stderr",
     "output_type": "stream",
     "text": [
      "2025-09-04 15:46:20,250 - doppiozero.nodes.reporter - reporter.py        - post         - INFO     - \n",
      "\n",
      "---\n",
      "\n",
      "\n"
     ]
    },
    {
     "name": "stderr",
     "output_type": "stream",
     "text": [
      "2025-09-04 15:46:20,250 - doppiozero.nodes.reporter - reporter.py        - post         - INFO     - **Note**: The following 2 claims could not be fully verified against the available evidence:\n"
     ]
    },
    {
     "name": "stderr",
     "output_type": "stream",
     "text": [
      "2025-09-04 15:46:20,250 - doppiozero.nodes.reporter - reporter.py        - post         - INFO     - 1. Claim 1\n"
     ]
    },
    {
     "name": "stderr",
     "output_type": "stream",
     "text": [
      "2025-09-04 15:46:20,250 - doppiozero.nodes.reporter - reporter.py        - post         - INFO     - 2. Claim 2\n"
     ]
    },
    {
     "name": "stderr",
     "output_type": "stream",
     "text": [
      "2025-09-04 15:46:20,251 - doppiozero.nodes.reporter - reporter.py        - post         - INFO     - \n",
      "\n",
      "✓ Research complete! Total conversations analyzed: 13, 2 claims verified (0 supported, 2 unsupported)\n"
     ]
    },
    {
     "name": "stderr",
     "output_type": "stream",
     "text": [
      "2025-09-04 15:46:20,251 - doppiozero.nodes.end - end.py             - exec         - INFO     - End node: terminating workflow and returning results.\n"
     ]
    },
    {
     "name": "stdout",
     "output_type": "stream",
     "text": [
      "=== AGENT RUN RESULT ===\n",
      "{'claims_verified': 0,\n",
      " 'draft': '{}',\n",
      " 'num_conversations': 13,\n",
      " 'unsupported_claims': ['Claim 1', 'Claim 2']}\n",
      "=== SHARED STATE ===\n",
      "{'cache_path': None,\n",
      " 'claim_verification': {'details': [{'claim': 'Claim 1',\n",
      "                                     'evidence': [{'score': 1.0,\n",
      "                                                   'snippet': 'Summary of '\n",
      "                                                              'Claim 1 #0',\n",
      "                                                   'source': 'https://example.com/convo/0'},\n",
      "                                                  {'score': 0.9,\n",
      "                                                   'snippet': 'Summary of '\n",
      "                                                              'Claim 1 #1',\n",
      "                                                   'source': 'https://example.com/convo/1'},\n",
      "                                                  {'score': 0.8,\n",
      "                                                   'snippet': 'Summary of '\n",
      "                                                              'Claim 1 #2',\n",
      "                                                   'source': 'https://example.com/convo/2'},\n",
      "                                                  {'score': 0.7,\n",
      "                                                   'snippet': 'Summary of '\n",
      "                                                              'Claim 1 #3',\n",
      "                                                   'source': 'https://example.com/convo/3'},\n",
      "                                                  {'score': 0.6,\n",
      "                                                   'snippet': 'Summary of '\n",
      "                                                              'Claim 1 #4',\n",
      "                                                   'source': 'https://example.com/convo/4'}],\n",
      "                                     'reasoning': 'no_support_found',\n",
      "                                     'status': 'unsupported'},\n",
      "                                    {'claim': 'Claim 2',\n",
      "                                     'evidence': [{'score': 1.0,\n",
      "                                                   'snippet': 'Summary of '\n",
      "                                                              'Claim 2 #0',\n",
      "                                                   'source': 'https://example.com/convo/0'},\n",
      "                                                  {'score': 0.9,\n",
      "                                                   'snippet': 'Summary of '\n",
      "                                                              'Claim 2 #1',\n",
      "                                                   'source': 'https://example.com/convo/1'},\n",
      "                                                  {'score': 0.8,\n",
      "                                                   'snippet': 'Summary of '\n",
      "                                                              'Claim 2 #2',\n",
      "                                                   'source': 'https://example.com/convo/2'},\n",
      "                                                  {'score': 0.7,\n",
      "                                                   'snippet': 'Summary of '\n",
      "                                                              'Claim 2 #3',\n",
      "                                                   'source': 'https://example.com/convo/3'},\n",
      "                                                  {'score': 0.6,\n",
      "                                                   'snippet': 'Summary of '\n",
      "                                                              'Claim 2 #4',\n",
      "                                                   'source': 'https://example.com/convo/4'}],\n",
      "                                     'reasoning': 'no_support_found',\n",
      "                                     'status': 'unsupported'}],\n",
      "                        'insufficient_claims': [],\n",
      "                        'supported_claims': [],\n",
      "                        'total_claims': 2,\n",
      "                        'unsupported_claims': ['Claim 1', 'Claim 2'],\n",
      "                        'verification_errors': 0},\n",
      " 'claim_verification_completed': True,\n",
      " 'clarifications': 'Q: What is the main goal?\\n'\n",
      "                   'A: Find recent authentication failure discussions across '\n",
      "                   'repos.\\n'\n",
      "                   '\\n'\n",
      "                   'Q: Are there specific repos to focus on?\\n'\n",
      "                   'A: doppiozero and financial-planning.\\n',\n",
      " 'clarifying_qa': '/Users/romanofoti/romanofoti/doppiozero/clarifying_answers.txt',\n",
      " 'collection': None,\n",
      " 'current_depth': 2,\n",
      " 'current_query': {},\n",
      " 'done': False,\n",
      " 'draft_answer': '{}',\n",
      " 'editor_file': None,\n",
      " 'final_report': {'claims_verified': 0,\n",
      "                  'draft': '{}',\n",
      "                  'num_conversations': 13,\n",
      "                  'unsupported_claims': ['Claim 1', 'Claim 2']},\n",
      " 'max_depth': 1,\n",
      " 'memory': {'hits': [{'conversation': {'messages': [{'author': 'alice',\n",
      "                                                     'text': 'Initial issue '\n",
      "                                                             'description.'},\n",
      "                                                    {'author': 'bob',\n",
      "                                                     'text': 'Follow-up '\n",
      "                                                             'discussion.'}],\n",
      "                                       'url': 'https://example.com/convo/0'},\n",
      "                      'score': 1.0,\n",
      "                      'summary': 'Summary for https://example.com/convo/0 (no '\n",
      "                                 'prompt provided)',\n",
      "                      'url': 'https://example.com/convo/0'},\n",
      "                     {'conversation': {'messages': [{'author': 'alice',\n",
      "                                                     'text': 'Initial issue '\n",
      "                                                             'description.'},\n",
      "                                                    {'author': 'bob',\n",
      "                                                     'text': 'Follow-up '\n",
      "                                                             'discussion.'}],\n",
      "                                       'url': 'https://example.com/convo/1'},\n",
      "                      'score': 0.9,\n",
      "                      'summary': 'Summary for https://example.com/convo/1 (no '\n",
      "                                 'prompt provided)',\n",
      "                      'url': 'https://example.com/convo/1'},\n",
      "                     {'conversation': {'messages': [{'author': 'alice',\n",
      "                                                     'text': 'Initial issue '\n",
      "                                                             'description.'},\n",
      "                                                    {'author': 'bob',\n",
      "                                                     'text': 'Follow-up '\n",
      "                                                             'discussion.'}],\n",
      "                                       'url': 'https://example.com/convo/2'},\n",
      "                      'score': 0.8,\n",
      "                      'summary': 'Summary for https://example.com/convo/2 (no '\n",
      "                                 'prompt provided)',\n",
      "                      'url': 'https://example.com/convo/2'},\n",
      "                     {'score': 1.0,\n",
      "                      'summary': 'Summary of What are the recent discussions '\n",
      "                                 'about authentication failures? #0',\n",
      "                      'url': 'https://example.com/convo/0'},\n",
      "                     {'score': 0.9,\n",
      "                      'summary': 'Summary of What are the recent discussions '\n",
      "                                 'about authentication failures? #1',\n",
      "                      'url': 'https://example.com/convo/1'},\n",
      "                     {'score': 0.8,\n",
      "                      'summary': 'Summary of What are the recent discussions '\n",
      "                                 'about authentication failures? #2',\n",
      "                      'url': 'https://example.com/convo/2'},\n",
      "                     {'score': 0.7,\n",
      "                      'summary': 'Summary of What are the recent discussions '\n",
      "                                 'about authentication failures? #3',\n",
      "                      'url': 'https://example.com/convo/3'},\n",
      "                     {'score': 0.6,\n",
      "                      'summary': 'Summary of What are the recent discussions '\n",
      "                                 'about authentication failures? #4',\n",
      "                      'url': 'https://example.com/convo/4'},\n",
      "                     {'score': 1.0,\n",
      "                      'summary': 'Summary of {} #0',\n",
      "                      'url': 'https://example.com/convo/0'},\n",
      "                     {'score': 0.9,\n",
      "                      'summary': 'Summary of {} #1',\n",
      "                      'url': 'https://example.com/convo/1'},\n",
      "                     {'score': 0.8,\n",
      "                      'summary': 'Summary of {} #2',\n",
      "                      'url': 'https://example.com/convo/2'},\n",
      "                     {'score': 0.7,\n",
      "                      'summary': 'Summary of {} #3',\n",
      "                      'url': 'https://example.com/convo/3'},\n",
      "                     {'score': 0.6,\n",
      "                      'summary': 'Summary of {} #4',\n",
      "                      'url': 'https://example.com/convo/4'}],\n",
      "            'notes': [],\n",
      "            'search_queries': ['What are the recent discussions about '\n",
      "                               'authentication failures?',\n",
      "                               'What are the recent discussions about '\n",
      "                               'authentication failures?',\n",
      "                               '{}']},\n",
      " 'models': {'embed': 'default', 'fast': 'default', 'reasoning': 'default'},\n",
      " 'next_search_plans': [{'query': '{}', 'tool': 'semantic'}],\n",
      " 'parallel': False,\n",
      " 'request': 'What are the recent discussions about authentication failures?',\n",
      " 'script_dir': 'scripts',\n",
      " 'search_modes': ['semantic'],\n",
      " 'top_k': 3,\n",
      " 'unsupported_claims': ['Claim 1', 'Claim 2'],\n",
      " 'verbose': True,\n",
      " 'verification_attempts': 1}\n"
     ]
    }
   ],
   "source": [
    "shared = {\"question\": question, \"verbose\": True}\n",
    "agent = SupervisorAgent()\n",
    "agent.create_supervised_flow()\n",
    "result = agent.run(shared)"
   ]
  },
  {
   "cell_type": "code",
   "execution_count": 4,
   "id": "57b4eebb-c5c3-4aec-95f4-f2cf7b5a6047",
   "metadata": {},
   "outputs": [
    {
     "name": "stdout",
     "output_type": "stream",
     "text": [
      "=== AGENT RUN RESULT ===\n",
      "I don’t have the research you referenced — no source material was provided. I can’t ground the reply “ONLY in the research” without that input. Please either (A) paste or attach the research you want me to use, or (B) allow me to answer based on general culinary consensus and common sources. Also tell me if you want a regional focus (e.g., Italy, US, global).\n"
     ]
    }
   ],
   "source": [
    "print('=== AGENT RUN RESULT ===')\n",
    "print(result)"
   ]
  },
  {
   "cell_type": "code",
   "execution_count": 5,
   "id": "8dfb97f1-6244-4803-97fa-2911f6d53a76",
   "metadata": {},
   "outputs": [
    {
     "data": {
      "text/plain": [
       "['I don’t have the research you referenced — no source material was provided. I can’t ground the reply “ONLY in the research” without that input. Please either (A) paste or attach the research you want me to use, or (B) allow me to answer based on general culinary consensus and common sources. Also tell me if you want a regional focus (e.g., Italy, US, global).']"
      ]
     },
     "execution_count": 5,
     "metadata": {},
     "output_type": "execute_result"
    }
   ],
   "source": [
    "shared[\"answer_ls\"]"
   ]
  },
  {
   "cell_type": "code",
   "execution_count": 6,
   "id": "d083dbb9-d267-4899-a9af-c039585b8832",
   "metadata": {},
   "outputs": [
    {
     "data": {
      "text/plain": [
       "{'question': '\\n    Would you consider pineapple on pizza something controversial or it would be a legitimate topping?\\n    Could you also provide the following lists:\\n     - Pizza toppings (and spices or herbs) that are considered traditional\\n     - Pizza toppings that have become popular more recently\\n     - Pizza toppings that can be used by that are not deemed really acceptable\\n',\n",
       " 'verbose': True,\n",
       " 'answer': 'I don’t have the research you referenced — no source material was provided. I can’t ground the reply “ONLY in the research” without that input. Please either (A) paste or attach the research you want me to use, or (B) allow me to answer based on general culinary consensus and common sources. Also tell me if you want a regional focus (e.g., Italy, US, global).',\n",
       " 'answer_ls': ['I don’t have the research you referenced — no source material was provided. I can’t ground the reply “ONLY in the research” without that input. Please either (A) paste or attach the research you want me to use, or (B) allow me to answer based on general culinary consensus and common sources. Also tell me if you want a regional focus (e.g., Italy, US, global).']}"
      ]
     },
     "execution_count": 6,
     "metadata": {},
     "output_type": "execute_result"
    }
   ],
   "source": [
    "shared"
   ]
  },
  {
   "cell_type": "code",
   "execution_count": null,
   "id": "d0288824-a3e2-4294-a592-7e2a871367be",
   "metadata": {},
   "outputs": [],
   "source": []
  }
 ],
 "metadata": {
  "kernelspec": {
   "display_name": "Python 3 (ipykernel)",
   "language": "python",
   "name": "python3"
  },
  "language_info": {
   "codemirror_mode": {
    "name": "ipython",
    "version": 3
   },
   "file_extension": ".py",
   "mimetype": "text/x-python",
   "name": "python",
   "nbconvert_exporter": "python",
   "pygments_lexer": "ipython3",
   "version": "3.12.2"
  }
 },
 "nbformat": 4,
 "nbformat_minor": 5
}
