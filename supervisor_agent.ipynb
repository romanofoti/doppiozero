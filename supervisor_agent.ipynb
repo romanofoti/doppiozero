{
 "cells": [
  {
   "cell_type": "markdown",
   "id": "76b4e4dc",
   "metadata": {},
   "source": [
    "# GitHubAgent runtime test\n",
    "\n",
    "This notebook performs a runtime test of `doppiozero.agents.gh_deep_search.GitHubAgent`.\n",
    "By default the notebook will use your real LLM and content layer when available. To force deterministic offline behavior set `USE_MOCKS = True` in the mocking cell.\n",
    "\n",
    "Run the cells in order. The notebook saves a single `agent_test_output.json` artifact when complete."
   ]
  },
  {
   "cell_type": "code",
   "execution_count": 1,
   "id": "a096751a",
   "metadata": {},
   "outputs": [],
   "source": [
    "from dotenv import load_dotenv\n",
    "from pprint import pprint\n",
    "load_dotenv()\n",
    "from doppiozero.agents.supervisor import SupervisorAgent"
   ]
  },
  {
   "cell_type": "markdown",
   "id": "15e01e4a",
   "metadata": {},
   "source": [
    "## Run the agent"
   ]
  },
  {
   "cell_type": "code",
   "execution_count": 2,
   "id": "ee6f785f",
   "metadata": {},
   "outputs": [
    {
     "name": "stderr",
     "output_type": "stream",
     "text": [
      "2025-09-10 17:41:36,647 - doppiozero.nodes.supervisor.decider - decider.py         - exec         - INFO     - 🤔 Agent deciding what to do next...\n",
      "2025-09-10 17:41:50,880 - openai._base_client - _base_client.py    - _sleep_for_retry - INFO     - Retrying request to /chat/completions in 0.490559 seconds\n",
      "2025-09-10 17:41:57,233 - httpx      - _client.py         - _send_single_request - INFO     - HTTP Request: POST https://spamurai-eastus2.openai.azure.com/openai/deployments/gpt-5-mini/chat/completions?api-version=2024-12-01-preview \"HTTP/1.1 200 OK\"\n",
      "2025-09-10 17:41:57,257 - doppiozero.nodes.supervisor.decider - decider.py         - post         - INFO     - 🔍 Agent decided to search for: top frameworks for building AI agents in Python LangChain LlamaIndex Semantic Kernel AutoGen 'top AI agent frameworks' 2024 2025\n",
      "2025-09-10 17:41:57,257 - doppiozero.nodes.supervisor.searcher - searcher.py        - exec         - INFO     - 🌐 Searching the web for: top frameworks for building AI agents in Python LangChain LlamaIndex Semantic Kernel AutoGen 'top AI agent frameworks' 2024 2025\n",
      "2025-09-10 17:41:57,759 - primp      - lib.rs             - None         - INFO     - response: https://html.duckduckgo.com/html 202\n",
      "2025-09-10 17:41:57,760 - duckduckgo_search.DDGS - duckduckgo_search.py - text         - INFO     - Error to search using html backend: https://html.duckduckgo.com/html 202 Ratelimit\n",
      "2025-09-10 17:41:59,029 - primp      - lib.rs             - None         - INFO     - response: https://lite.duckduckgo.com/lite/ 202\n",
      "2025-09-10 17:41:59,032 - duckduckgo_search.DDGS - duckduckgo_search.py - text         - INFO     - Error to search using lite backend: https://lite.duckduckgo.com/lite/ 202 Ratelimit\n"
     ]
    },
    {
     "ename": "DuckDuckGoSearchException",
     "evalue": "https://lite.duckduckgo.com/lite/ 202 Ratelimit",
     "output_type": "error",
     "traceback": [
      "\u001b[31m---------------------------------------------------------------------------\u001b[39m",
      "\u001b[31mDuckDuckGoSearchException\u001b[39m                 Traceback (most recent call last)",
      "\u001b[36mCell\u001b[39m\u001b[36m \u001b[39m\u001b[32mIn[2]\u001b[39m\u001b[32m, line 5\u001b[39m\n\u001b[32m      3\u001b[39m agent = SupervisorAgent()\n\u001b[32m      4\u001b[39m agent.create_supervised_flow()\n\u001b[32m----> \u001b[39m\u001b[32m5\u001b[39m result = \u001b[43magent\u001b[49m\u001b[43m.\u001b[49m\u001b[43mrun\u001b[49m\u001b[43m(\u001b[49m\u001b[43m{\u001b[49m\u001b[33;43m\"\u001b[39;49m\u001b[33;43mquestion\u001b[39;49m\u001b[33;43m\"\u001b[39;49m\u001b[43m:\u001b[49m\u001b[43m \u001b[49m\u001b[43mquestion\u001b[49m\u001b[43m}\u001b[49m\u001b[43m)\u001b[49m\n\u001b[32m      7\u001b[39m \u001b[38;5;28mprint\u001b[39m(\u001b[33m'\u001b[39m\u001b[33m=== AGENT RUN RESULT ===\u001b[39m\u001b[33m'\u001b[39m)\n\u001b[32m      8\u001b[39m pprint(result)\n",
      "\u001b[36mFile \u001b[39m\u001b[32m~/romanofoti/doppiozero/doppiozero/pocketflow/pocketflow.py:40\u001b[39m, in \u001b[36mBaseNode.run\u001b[39m\u001b[34m(self, shared)\u001b[39m\n\u001b[32m     38\u001b[39m \u001b[38;5;28;01mif\u001b[39;00m \u001b[38;5;28mself\u001b[39m.successors:\n\u001b[32m     39\u001b[39m     warnings.warn(\u001b[33m\"\u001b[39m\u001b[33mNode won\u001b[39m\u001b[33m'\u001b[39m\u001b[33mt run successors. Use Flow.\u001b[39m\u001b[33m\"\u001b[39m)\n\u001b[32m---> \u001b[39m\u001b[32m40\u001b[39m \u001b[38;5;28;01mreturn\u001b[39;00m \u001b[38;5;28;43mself\u001b[39;49m\u001b[43m.\u001b[49m\u001b[43m_run\u001b[49m\u001b[43m(\u001b[49m\u001b[43mshared\u001b[49m\u001b[43m)\u001b[49m\n",
      "\u001b[36mFile \u001b[39m\u001b[32m~/romanofoti/doppiozero/doppiozero/pocketflow/pocketflow.py:108\u001b[39m, in \u001b[36mFlow._run\u001b[39m\u001b[34m(self, shared)\u001b[39m\n\u001b[32m    106\u001b[39m \u001b[38;5;28;01mdef\u001b[39;00m\u001b[38;5;250m \u001b[39m\u001b[34m_run\u001b[39m(\u001b[38;5;28mself\u001b[39m, shared):\n\u001b[32m    107\u001b[39m     p = \u001b[38;5;28mself\u001b[39m.prep(shared)\n\u001b[32m--> \u001b[39m\u001b[32m108\u001b[39m     o = \u001b[38;5;28;43mself\u001b[39;49m\u001b[43m.\u001b[49m\u001b[43m_orch\u001b[49m\u001b[43m(\u001b[49m\u001b[43mshared\u001b[49m\u001b[43m)\u001b[49m\n\u001b[32m    109\u001b[39m     \u001b[38;5;28;01mreturn\u001b[39;00m \u001b[38;5;28mself\u001b[39m.post(shared, p, o)\n",
      "\u001b[36mFile \u001b[39m\u001b[32m~/romanofoti/doppiozero/doppiozero/pocketflow/pocketflow.py:102\u001b[39m, in \u001b[36mFlow._orch\u001b[39m\u001b[34m(self, shared, params)\u001b[39m\n\u001b[32m    100\u001b[39m \u001b[38;5;28;01mwhile\u001b[39;00m curr:\n\u001b[32m    101\u001b[39m     curr.set_params(p)\n\u001b[32m--> \u001b[39m\u001b[32m102\u001b[39m     last_action = \u001b[43mcurr\u001b[49m\u001b[43m.\u001b[49m\u001b[43m_run\u001b[49m\u001b[43m(\u001b[49m\u001b[43mshared\u001b[49m\u001b[43m)\u001b[49m\n\u001b[32m    103\u001b[39m     curr = copy.copy(\u001b[38;5;28mself\u001b[39m.get_next_node(curr, last_action))\n\u001b[32m    104\u001b[39m \u001b[38;5;28;01mreturn\u001b[39;00m last_action\n",
      "\u001b[36mFile \u001b[39m\u001b[32m~/romanofoti/doppiozero/doppiozero/pocketflow/pocketflow.py:108\u001b[39m, in \u001b[36mFlow._run\u001b[39m\u001b[34m(self, shared)\u001b[39m\n\u001b[32m    106\u001b[39m \u001b[38;5;28;01mdef\u001b[39;00m\u001b[38;5;250m \u001b[39m\u001b[34m_run\u001b[39m(\u001b[38;5;28mself\u001b[39m, shared):\n\u001b[32m    107\u001b[39m     p = \u001b[38;5;28mself\u001b[39m.prep(shared)\n\u001b[32m--> \u001b[39m\u001b[32m108\u001b[39m     o = \u001b[38;5;28;43mself\u001b[39;49m\u001b[43m.\u001b[49m\u001b[43m_orch\u001b[49m\u001b[43m(\u001b[49m\u001b[43mshared\u001b[49m\u001b[43m)\u001b[49m\n\u001b[32m    109\u001b[39m     \u001b[38;5;28;01mreturn\u001b[39;00m \u001b[38;5;28mself\u001b[39m.post(shared, p, o)\n",
      "\u001b[36mFile \u001b[39m\u001b[32m~/romanofoti/doppiozero/doppiozero/pocketflow/pocketflow.py:102\u001b[39m, in \u001b[36mFlow._orch\u001b[39m\u001b[34m(self, shared, params)\u001b[39m\n\u001b[32m    100\u001b[39m \u001b[38;5;28;01mwhile\u001b[39;00m curr:\n\u001b[32m    101\u001b[39m     curr.set_params(p)\n\u001b[32m--> \u001b[39m\u001b[32m102\u001b[39m     last_action = \u001b[43mcurr\u001b[49m\u001b[43m.\u001b[49m\u001b[43m_run\u001b[49m\u001b[43m(\u001b[49m\u001b[43mshared\u001b[49m\u001b[43m)\u001b[49m\n\u001b[32m    103\u001b[39m     curr = copy.copy(\u001b[38;5;28mself\u001b[39m.get_next_node(curr, last_action))\n\u001b[32m    104\u001b[39m \u001b[38;5;28;01mreturn\u001b[39;00m last_action\n",
      "\u001b[36mFile \u001b[39m\u001b[32m~/romanofoti/doppiozero/doppiozero/pocketflow/pocketflow.py:34\u001b[39m, in \u001b[36mBaseNode._run\u001b[39m\u001b[34m(self, shared)\u001b[39m\n\u001b[32m     32\u001b[39m \u001b[38;5;28;01mdef\u001b[39;00m\u001b[38;5;250m \u001b[39m\u001b[34m_run\u001b[39m(\u001b[38;5;28mself\u001b[39m, shared):\n\u001b[32m     33\u001b[39m     p = \u001b[38;5;28mself\u001b[39m.prep(shared)\n\u001b[32m---> \u001b[39m\u001b[32m34\u001b[39m     e = \u001b[38;5;28;43mself\u001b[39;49m\u001b[43m.\u001b[49m\u001b[43m_exec\u001b[49m\u001b[43m(\u001b[49m\u001b[43mp\u001b[49m\u001b[43m)\u001b[49m\n\u001b[32m     35\u001b[39m     \u001b[38;5;28;01mreturn\u001b[39;00m \u001b[38;5;28mself\u001b[39m.post(shared, p, e)\n",
      "\u001b[36mFile \u001b[39m\u001b[32m~/romanofoti/doppiozero/doppiozero/pocketflow/pocketflow.py:73\u001b[39m, in \u001b[36mNode._exec\u001b[39m\u001b[34m(self, prep_res)\u001b[39m\n\u001b[32m     71\u001b[39m \u001b[38;5;28;01mexcept\u001b[39;00m \u001b[38;5;167;01mException\u001b[39;00m \u001b[38;5;28;01mas\u001b[39;00m e:\n\u001b[32m     72\u001b[39m     \u001b[38;5;28;01mif\u001b[39;00m \u001b[38;5;28mself\u001b[39m.cur_retry == \u001b[38;5;28mself\u001b[39m.max_retries - \u001b[32m1\u001b[39m:\n\u001b[32m---> \u001b[39m\u001b[32m73\u001b[39m         \u001b[38;5;28;01mreturn\u001b[39;00m \u001b[38;5;28;43mself\u001b[39;49m\u001b[43m.\u001b[49m\u001b[43mexec_fallback\u001b[49m\u001b[43m(\u001b[49m\u001b[43mprep_res\u001b[49m\u001b[43m,\u001b[49m\u001b[43m \u001b[49m\u001b[43me\u001b[49m\u001b[43m)\u001b[49m\n\u001b[32m     74\u001b[39m     \u001b[38;5;28;01mif\u001b[39;00m \u001b[38;5;28mself\u001b[39m.wait > \u001b[32m0\u001b[39m:\n\u001b[32m     75\u001b[39m         time.sleep(\u001b[38;5;28mself\u001b[39m.wait)\n",
      "\u001b[36mFile \u001b[39m\u001b[32m~/romanofoti/doppiozero/doppiozero/pocketflow/pocketflow.py:65\u001b[39m, in \u001b[36mNode.exec_fallback\u001b[39m\u001b[34m(self, prep_res, exc)\u001b[39m\n\u001b[32m     64\u001b[39m \u001b[38;5;28;01mdef\u001b[39;00m\u001b[38;5;250m \u001b[39m\u001b[34mexec_fallback\u001b[39m(\u001b[38;5;28mself\u001b[39m, prep_res, exc):\n\u001b[32m---> \u001b[39m\u001b[32m65\u001b[39m     \u001b[38;5;28;01mraise\u001b[39;00m exc\n",
      "\u001b[36mFile \u001b[39m\u001b[32m~/romanofoti/doppiozero/doppiozero/pocketflow/pocketflow.py:70\u001b[39m, in \u001b[36mNode._exec\u001b[39m\u001b[34m(self, prep_res)\u001b[39m\n\u001b[32m     68\u001b[39m \u001b[38;5;28;01mfor\u001b[39;00m \u001b[38;5;28mself\u001b[39m.cur_retry \u001b[38;5;129;01min\u001b[39;00m \u001b[38;5;28mrange\u001b[39m(\u001b[38;5;28mself\u001b[39m.max_retries):\n\u001b[32m     69\u001b[39m     \u001b[38;5;28;01mtry\u001b[39;00m:\n\u001b[32m---> \u001b[39m\u001b[32m70\u001b[39m         \u001b[38;5;28;01mreturn\u001b[39;00m \u001b[38;5;28;43mself\u001b[39;49m\u001b[43m.\u001b[49m\u001b[43mexec\u001b[49m\u001b[43m(\u001b[49m\u001b[43mprep_res\u001b[49m\u001b[43m)\u001b[49m\n\u001b[32m     71\u001b[39m     \u001b[38;5;28;01mexcept\u001b[39;00m \u001b[38;5;167;01mException\u001b[39;00m \u001b[38;5;28;01mas\u001b[39;00m e:\n\u001b[32m     72\u001b[39m         \u001b[38;5;28;01mif\u001b[39;00m \u001b[38;5;28mself\u001b[39m.cur_retry == \u001b[38;5;28mself\u001b[39m.max_retries - \u001b[32m1\u001b[39m:\n",
      "\u001b[36mFile \u001b[39m\u001b[32m~/romanofoti/doppiozero/doppiozero/nodes/supervisor/searcher.py:27\u001b[39m, in \u001b[36mSearcherNode.exec\u001b[39m\u001b[34m(self, search_query)\u001b[39m\n\u001b[32m     25\u001b[39m \u001b[38;5;66;03m# Call the search utility function\u001b[39;00m\n\u001b[32m     26\u001b[39m logger.info(\u001b[33mf\u001b[39m\u001b[33m\"\u001b[39m\u001b[33m🌐 Searching the web for: \u001b[39m\u001b[38;5;132;01m{\u001b[39;00msearch_query\u001b[38;5;132;01m}\u001b[39;00m\u001b[33m\"\u001b[39m)\n\u001b[32m---> \u001b[39m\u001b[32m27\u001b[39m results = \u001b[38;5;28;43mself\u001b[39;49m\u001b[43m.\u001b[49m\u001b[43m_search_web\u001b[49m\u001b[43m(\u001b[49m\u001b[43msearch_query\u001b[49m\u001b[43m)\u001b[49m\n\u001b[32m     28\u001b[39m \u001b[38;5;28;01mreturn\u001b[39;00m results\n",
      "\u001b[36mFile \u001b[39m\u001b[32m~/romanofoti/doppiozero/doppiozero/nodes/supervisor/searcher.py:15\u001b[39m, in \u001b[36mSearcherNode._search_web\u001b[39m\u001b[34m(self, query)\u001b[39m\n\u001b[32m     14\u001b[39m \u001b[38;5;28;01mdef\u001b[39;00m\u001b[38;5;250m \u001b[39m\u001b[34m_search_web\u001b[39m(\u001b[38;5;28mself\u001b[39m, query):\n\u001b[32m---> \u001b[39m\u001b[32m15\u001b[39m     results = \u001b[43mDDGS\u001b[49m\u001b[43m(\u001b[49m\u001b[43m)\u001b[49m\u001b[43m.\u001b[49m\u001b[43mtext\u001b[49m\u001b[43m(\u001b[49m\u001b[43mquery\u001b[49m\u001b[43m,\u001b[49m\u001b[43m \u001b[49m\u001b[43mmax_results\u001b[49m\u001b[43m=\u001b[49m\u001b[32;43m5\u001b[39;49m\u001b[43m)\u001b[49m\n\u001b[32m     16\u001b[39m     \u001b[38;5;66;03m# Convert results to a string\u001b[39;00m\n\u001b[32m     17\u001b[39m     results_str = \u001b[33m\"\u001b[39m\u001b[38;5;130;01m\\n\u001b[39;00m\u001b[38;5;130;01m\\n\u001b[39;00m\u001b[33m\"\u001b[39m.join(\n\u001b[32m     18\u001b[39m         [\u001b[33mf\u001b[39m\u001b[33m\"\u001b[39m\u001b[33mTitle: \u001b[39m\u001b[38;5;132;01m{\u001b[39;00mr[\u001b[33m'\u001b[39m\u001b[33mtitle\u001b[39m\u001b[33m'\u001b[39m]\u001b[38;5;132;01m}\u001b[39;00m\u001b[38;5;130;01m\\n\u001b[39;00m\u001b[33mURL: \u001b[39m\u001b[38;5;132;01m{\u001b[39;00mr[\u001b[33m'\u001b[39m\u001b[33mhref\u001b[39m\u001b[33m'\u001b[39m]\u001b[38;5;132;01m}\u001b[39;00m\u001b[38;5;130;01m\\n\u001b[39;00m\u001b[33mSnippet: \u001b[39m\u001b[38;5;132;01m{\u001b[39;00mr[\u001b[33m'\u001b[39m\u001b[33mbody\u001b[39m\u001b[33m'\u001b[39m]\u001b[38;5;132;01m}\u001b[39;00m\u001b[33m\"\u001b[39m \u001b[38;5;28;01mfor\u001b[39;00m r \u001b[38;5;129;01min\u001b[39;00m results]\n\u001b[32m     19\u001b[39m     )\n",
      "\u001b[36mFile \u001b[39m\u001b[32m~/Library/Caches/pypoetry/virtualenvs/doppiozero-AQeo1sYh-py3.12/lib/python3.12/site-packages/duckduckgo_search/duckduckgo_search.py:314\u001b[39m, in \u001b[36mDDGS.text\u001b[39m\u001b[34m(self, keywords, region, safesearch, timelimit, backend, max_results)\u001b[39m\n\u001b[32m    311\u001b[39m         logger.info(\u001b[33mf\u001b[39m\u001b[33m\"\u001b[39m\u001b[33mError to search using \u001b[39m\u001b[38;5;132;01m{\u001b[39;00mb\u001b[38;5;132;01m}\u001b[39;00m\u001b[33m backend: \u001b[39m\u001b[38;5;132;01m{\u001b[39;00mex\u001b[38;5;132;01m}\u001b[39;00m\u001b[33m\"\u001b[39m)\n\u001b[32m    312\u001b[39m         err = ex\n\u001b[32m--> \u001b[39m\u001b[32m314\u001b[39m \u001b[38;5;28;01mraise\u001b[39;00m DuckDuckGoSearchException(err)\n",
      "\u001b[31mDuckDuckGoSearchException\u001b[39m: https://lite.duckduckgo.com/lite/ 202 Ratelimit"
     ]
    },
    {
     "name": "stderr",
     "output_type": "stream",
     "text": [
      "2025-09-04 15:46:20,239 - doppiozero.agents.gh_deep_search - gh_deep_search.py  - run          - INFO     - Reasoning model: default\n"
     ]
    },
    {
     "name": "stderr",
     "output_type": "stream",
     "text": [
      "2025-09-04 15:46:20,239 - doppiozero.nodes.researcher - researcher.py      - prep         - INFO     - === INITIAL RESEARCH PHASE ===\n"
     ]
    },
    {
     "name": "stderr",
     "output_type": "stream",
     "text": [
      "2025-09-04 15:46:20,240 - doppiozero.nodes.researcher - researcher.py      - prep         - INFO     - Starting initial semantic search for: What are the recent discussions about authentication failures?\n"
     ]
    },
    {
     "name": "stderr",
     "output_type": "stream",
     "text": [
      "2025-09-04 15:46:20,240 - doppiozero.nodes.researcher - researcher.py      - exec         - INFO     - Executing initial semantic search and enriching results...\n"
     ]
    },
    {
     "name": "stderr",
     "output_type": "stream",
     "text": [
      "2025-09-04 15:46:20,240 - doppiozero.nodes.researcher - researcher.py      - exec         - INFO     - Searching (pass 1): What are the recent discussions about authentication failures? (pass 1)\n"
     ]
    },
    {
     "name": "stderr",
     "output_type": "stream",
     "text": [
      "2025-09-04 15:46:20,240 - doppiozero.nodes.researcher - researcher.py      - exec         - INFO     - Fetching conversation: https://example.com/convo/0\n"
     ]
    },
    {
     "name": "stderr",
     "output_type": "stream",
     "text": [
      "2025-09-04 15:46:20,241 - doppiozero.nodes.researcher - researcher.py      - exec         - INFO     - Fetching conversation: https://example.com/convo/1\n"
     ]
    },
    {
     "name": "stderr",
     "output_type": "stream",
     "text": [
      "2025-09-04 15:46:20,241 - doppiozero.nodes.researcher - researcher.py      - exec         - INFO     - Fetching conversation: https://example.com/convo/2\n"
     ]
    },
    {
     "name": "stderr",
     "output_type": "stream",
     "text": [
      "2025-09-04 15:46:20,241 - doppiozero.nodes.researcher - researcher.py      - exec         - INFO     - ✓ Initial research complete: 3 conversations collected\n"
     ]
    },
    {
     "name": "stderr",
     "output_type": "stream",
     "text": [
      "2025-09-04 15:46:20,241 - doppiozero.nodes.researcher - researcher.py      - post         - INFO     - ✓ Initial research complete: 3 conversations collected\n"
     ]
    },
    {
     "name": "stderr",
     "output_type": "stream",
     "text": [
      "2025-09-04 15:46:20,241 - doppiozero.nodes.clarifier - clarifier.py       - prep         - INFO     - === CLARIFYING QUESTIONS PHASE ===\n"
     ]
    },
    {
     "name": "stderr",
     "output_type": "stream",
     "text": [
      "2025-09-04 15:46:20,242 - doppiozero.nodes.clarifier - clarifier.py       - exec         - INFO     - Presenting clarifying questions to user...\n"
     ]
    },
    {
     "name": "stderr",
     "output_type": "stream",
     "text": [
      "2025-09-04 15:46:20,242 - doppiozero.nodes.clarifier - clarifier.py       - post         - INFO     - Clarifications stored.\n"
     ]
    },
    {
     "name": "stderr",
     "output_type": "stream",
     "text": [
      "2025-09-04 15:46:20,243 - doppiozero.nodes.planner - planner.py         - prep         - INFO     - === PLANNING PHASE ===\n"
     ]
    },
    {
     "name": "stderr",
     "output_type": "stream",
     "text": [
      "2025-09-04 15:46:20,243 - doppiozero.nodes.planner - planner.py         - prep         - INFO     - === PLANNING PHASE (Iteration 1/1) ===\n"
     ]
    },
    {
     "name": "stderr",
     "output_type": "stream",
     "text": [
      "2025-09-04 15:46:20,243 - doppiozero.nodes.planner - planner.py         - exec         - INFO     - Transforming queries into search plans...\n"
     ]
    },
    {
     "name": "stderr",
     "output_type": "stream",
     "text": [
      "2025-09-04 15:46:20,243 - doppiozero.nodes.planner - planner.py         - post         - INFO     - ✓ Planning complete, generated 1 search plans\n"
     ]
    },
    {
     "name": "stderr",
     "output_type": "stream",
     "text": [
      "2025-09-04 15:46:20,244 - doppiozero.nodes.retriever - retriever.py       - prep         - INFO     - === RETRIEVAL PHASE ===\n"
     ]
    },
    {
     "name": "stderr",
     "output_type": "stream",
     "text": [
      "2025-09-04 15:46:20,244 - doppiozero.nodes.retriever - retriever.py       - exec         - INFO     - Executing search operations and retrieving data...\n"
     ]
    },
    {
     "name": "stderr",
     "output_type": "stream",
     "text": [
      "2025-09-04 15:46:20,244 - doppiozero.nodes.retriever - retriever.py       - post         - INFO     - Added 5 new conversations to memory.\n"
     ]
    },
    {
     "name": "stderr",
     "output_type": "stream",
     "text": [
      "2025-09-04 15:46:20,244 - doppiozero.nodes.reporter - reporter.py        - prep         - INFO     - === FINAL REPORT PHASE ===\n"
     ]
    },
    {
     "name": "stderr",
     "output_type": "stream",
     "text": [
      "2025-09-04 15:46:20,244 - doppiozero.nodes.reporter - reporter.py        - prep         - INFO     - Generating final report from all gathered data...\n"
     ]
    },
    {
     "name": "stderr",
     "output_type": "stream",
     "text": [
      "2025-09-04 15:46:20,244 - doppiozero.nodes.reporter - reporter.py        - prep         - INFO     - Research summary: 8 conversations analyzed, 2 queries used, 1 deep research iterations\n"
     ]
    },
    {
     "name": "stderr",
     "output_type": "stream",
     "text": [
      "2025-09-04 15:46:20,245 - doppiozero.nodes.reporter - reporter.py        - post         - INFO     - Routing to claim verification before final output\n"
     ]
    },
    {
     "name": "stderr",
     "output_type": "stream",
     "text": [
      "2025-09-04 15:46:20,245 - doppiozero.nodes.claim_verifier - claim_verifier.py  - prep         - INFO     - === CLAIM VERIFICATION PHASE ===\n"
     ]
    },
    {
     "name": "stderr",
     "output_type": "stream",
     "text": [
      "2025-09-04 15:46:20,246 - doppiozero.nodes.claim_verifier - claim_verifier.py  - exec         - INFO     - Verifying 2 claims against evidence...\n"
     ]
    },
    {
     "name": "stderr",
     "output_type": "stream",
     "text": [
      "2025-09-04 15:46:20,246 - doppiozero.nodes.claim_verifier - claim_verifier.py  - exec         - INFO     - ✗ Claim unsupported: Claim 1\n"
     ]
    },
    {
     "name": "stderr",
     "output_type": "stream",
     "text": [
      "2025-09-04 15:46:20,246 - doppiozero.nodes.claim_verifier - claim_verifier.py  - exec         - INFO     - ✗ Claim unsupported: Claim 2\n"
     ]
    },
    {
     "name": "stderr",
     "output_type": "stream",
     "text": [
      "2025-09-04 15:46:20,247 - doppiozero.nodes.claim_verifier - claim_verifier.py  - post         - INFO     - ✓ Claim verification complete: 2 claims checked.\n"
     ]
    },
    {
     "name": "stderr",
     "output_type": "stream",
     "text": [
      "2025-09-04 15:46:20,247 - doppiozero.nodes.claim_verifier - claim_verifier.py  - post         - INFO     - Verification incomplete: 2 claims; retrying attempt 1/1.\n"
     ]
    },
    {
     "name": "stderr",
     "output_type": "stream",
     "text": [
      "2025-09-04 15:46:20,247 - doppiozero.nodes.planner - planner.py         - prep         - INFO     - === PLANNING PHASE ===\n"
     ]
    },
    {
     "name": "stderr",
     "output_type": "stream",
     "text": [
      "2025-09-04 15:46:20,247 - doppiozero.nodes.planner - planner.py         - prep         - INFO     - === PLANNING PHASE (Iteration 2/1) ===\n"
     ]
    },
    {
     "name": "stderr",
     "output_type": "stream",
     "text": [
      "2025-09-04 15:46:20,248 - doppiozero.nodes.planner - planner.py         - prep         - INFO     - Focusing search on gathering evidence for 2 unsupported claims\n"
     ]
    },
    {
     "name": "stderr",
     "output_type": "stream",
     "text": [
      "2025-09-04 15:46:20,248 - doppiozero.nodes.planner - planner.py         - prep         - INFO     - Generated claim verification search plan: {}\n"
     ]
    },
    {
     "name": "stderr",
     "output_type": "stream",
     "text": [
      "2025-09-04 15:46:20,248 - doppiozero.nodes.planner - planner.py         - exec         - INFO     - Transforming queries into search plans...\n"
     ]
    },
    {
     "name": "stderr",
     "output_type": "stream",
     "text": [
      "2025-09-04 15:46:20,248 - doppiozero.nodes.planner - planner.py         - post         - INFO     - ✓ Planning complete, generated 1 search plans\n"
     ]
    },
    {
     "name": "stderr",
     "output_type": "stream",
     "text": [
      "2025-09-04 15:46:20,248 - doppiozero.nodes.retriever - retriever.py       - prep         - INFO     - === RETRIEVAL PHASE ===\n"
     ]
    },
    {
     "name": "stderr",
     "output_type": "stream",
     "text": [
      "2025-09-04 15:46:20,248 - doppiozero.nodes.retriever - retriever.py       - exec         - INFO     - Executing search operations and retrieving data...\n"
     ]
    },
    {
     "name": "stderr",
     "output_type": "stream",
     "text": [
      "2025-09-04 15:46:20,249 - doppiozero.nodes.retriever - retriever.py       - post         - INFO     - Added 5 new conversations to memory.\n"
     ]
    },
    {
     "name": "stderr",
     "output_type": "stream",
     "text": [
      "2025-09-04 15:46:20,249 - doppiozero.nodes.reporter - reporter.py        - prep         - INFO     - === FINAL REPORT PHASE ===\n"
     ]
    },
    {
     "name": "stderr",
     "output_type": "stream",
     "text": [
      "2025-09-04 15:46:20,249 - doppiozero.nodes.reporter - reporter.py        - prep         - INFO     - Generating final report from all gathered data...\n"
     ]
    },
    {
     "name": "stderr",
     "output_type": "stream",
     "text": [
      "2025-09-04 15:46:20,249 - doppiozero.nodes.reporter - reporter.py        - prep         - INFO     - Research summary: 13 conversations analyzed, 3 queries used, 2 deep research iterations\n"
     ]
    },
    {
     "name": "stderr",
     "output_type": "stream",
     "text": [
      "2025-09-04 15:46:20,250 - doppiozero.nodes.reporter - reporter.py        - post         - INFO     - === FINAL REPORT ===\n",
      "\n",
      "\n"
     ]
    },
    {
     "name": "stderr",
     "output_type": "stream",
     "text": [
      "2025-09-04 15:46:20,250 - doppiozero.nodes.reporter - reporter.py        - post         - INFO     - {}\n"
     ]
    },
    {
     "name": "stderr",
     "output_type": "stream",
     "text": [
      "2025-09-04 15:46:20,250 - doppiozero.nodes.reporter - reporter.py        - post         - INFO     - \n",
      "\n",
      "---\n",
      "\n",
      "\n"
     ]
    },
    {
     "name": "stderr",
     "output_type": "stream",
     "text": [
      "2025-09-04 15:46:20,250 - doppiozero.nodes.reporter - reporter.py        - post         - INFO     - **Note**: The following 2 claims could not be fully verified against the available evidence:\n"
     ]
    },
    {
     "name": "stderr",
     "output_type": "stream",
     "text": [
      "2025-09-04 15:46:20,250 - doppiozero.nodes.reporter - reporter.py        - post         - INFO     - 1. Claim 1\n"
     ]
    },
    {
     "name": "stderr",
     "output_type": "stream",
     "text": [
      "2025-09-04 15:46:20,250 - doppiozero.nodes.reporter - reporter.py        - post         - INFO     - 2. Claim 2\n"
     ]
    },
    {
     "name": "stderr",
     "output_type": "stream",
     "text": [
      "2025-09-04 15:46:20,251 - doppiozero.nodes.reporter - reporter.py        - post         - INFO     - \n",
      "\n",
      "✓ Research complete! Total conversations analyzed: 13, 2 claims verified (0 supported, 2 unsupported)\n"
     ]
    },
    {
     "name": "stderr",
     "output_type": "stream",
     "text": [
      "2025-09-04 15:46:20,251 - doppiozero.nodes.end - end.py             - exec         - INFO     - End node: terminating workflow and returning results.\n"
     ]
    },
    {
     "name": "stdout",
     "output_type": "stream",
     "text": [
      "=== AGENT RUN RESULT ===\n",
      "{'claims_verified': 0,\n",
      " 'draft': '{}',\n",
      " 'num_conversations': 13,\n",
      " 'unsupported_claims': ['Claim 1', 'Claim 2']}\n",
      "=== SHARED STATE ===\n",
      "{'cache_path': None,\n",
      " 'claim_verification': {'details': [{'claim': 'Claim 1',\n",
      "                                     'evidence': [{'score': 1.0,\n",
      "                                                   'snippet': 'Summary of '\n",
      "                                                              'Claim 1 #0',\n",
      "                                                   'source': 'https://example.com/convo/0'},\n",
      "                                                  {'score': 0.9,\n",
      "                                                   'snippet': 'Summary of '\n",
      "                                                              'Claim 1 #1',\n",
      "                                                   'source': 'https://example.com/convo/1'},\n",
      "                                                  {'score': 0.8,\n",
      "                                                   'snippet': 'Summary of '\n",
      "                                                              'Claim 1 #2',\n",
      "                                                   'source': 'https://example.com/convo/2'},\n",
      "                                                  {'score': 0.7,\n",
      "                                                   'snippet': 'Summary of '\n",
      "                                                              'Claim 1 #3',\n",
      "                                                   'source': 'https://example.com/convo/3'},\n",
      "                                                  {'score': 0.6,\n",
      "                                                   'snippet': 'Summary of '\n",
      "                                                              'Claim 1 #4',\n",
      "                                                   'source': 'https://example.com/convo/4'}],\n",
      "                                     'reasoning': 'no_support_found',\n",
      "                                     'status': 'unsupported'},\n",
      "                                    {'claim': 'Claim 2',\n",
      "                                     'evidence': [{'score': 1.0,\n",
      "                                                   'snippet': 'Summary of '\n",
      "                                                              'Claim 2 #0',\n",
      "                                                   'source': 'https://example.com/convo/0'},\n",
      "                                                  {'score': 0.9,\n",
      "                                                   'snippet': 'Summary of '\n",
      "                                                              'Claim 2 #1',\n",
      "                                                   'source': 'https://example.com/convo/1'},\n",
      "                                                  {'score': 0.8,\n",
      "                                                   'snippet': 'Summary of '\n",
      "                                                              'Claim 2 #2',\n",
      "                                                   'source': 'https://example.com/convo/2'},\n",
      "                                                  {'score': 0.7,\n",
      "                                                   'snippet': 'Summary of '\n",
      "                                                              'Claim 2 #3',\n",
      "                                                   'source': 'https://example.com/convo/3'},\n",
      "                                                  {'score': 0.6,\n",
      "                                                   'snippet': 'Summary of '\n",
      "                                                              'Claim 2 #4',\n",
      "                                                   'source': 'https://example.com/convo/4'}],\n",
      "                                     'reasoning': 'no_support_found',\n",
      "                                     'status': 'unsupported'}],\n",
      "                        'insufficient_claims': [],\n",
      "                        'supported_claims': [],\n",
      "                        'total_claims': 2,\n",
      "                        'unsupported_claims': ['Claim 1', 'Claim 2'],\n",
      "                        'verification_errors': 0},\n",
      " 'claim_verification_completed': True,\n",
      " 'clarifications': 'Q: What is the main goal?\\n'\n",
      "                   'A: Find recent authentication failure discussions across '\n",
      "                   'repos.\\n'\n",
      "                   '\\n'\n",
      "                   'Q: Are there specific repos to focus on?\\n'\n",
      "                   'A: doppiozero and financial-planning.\\n',\n",
      " 'clarifying_qa': '/Users/romanofoti/romanofoti/doppiozero/clarifying_answers.txt',\n",
      " 'collection': None,\n",
      " 'current_depth': 2,\n",
      " 'current_query': {},\n",
      " 'done': False,\n",
      " 'draft_answer': '{}',\n",
      " 'editor_file': None,\n",
      " 'final_report': {'claims_verified': 0,\n",
      "                  'draft': '{}',\n",
      "                  'num_conversations': 13,\n",
      "                  'unsupported_claims': ['Claim 1', 'Claim 2']},\n",
      " 'max_depth': 1,\n",
      " 'memory': {'hits': [{'conversation': {'messages': [{'author': 'alice',\n",
      "                                                     'text': 'Initial issue '\n",
      "                                                             'description.'},\n",
      "                                                    {'author': 'bob',\n",
      "                                                     'text': 'Follow-up '\n",
      "                                                             'discussion.'}],\n",
      "                                       'url': 'https://example.com/convo/0'},\n",
      "                      'score': 1.0,\n",
      "                      'summary': 'Summary for https://example.com/convo/0 (no '\n",
      "                                 'prompt provided)',\n",
      "                      'url': 'https://example.com/convo/0'},\n",
      "                     {'conversation': {'messages': [{'author': 'alice',\n",
      "                                                     'text': 'Initial issue '\n",
      "                                                             'description.'},\n",
      "                                                    {'author': 'bob',\n",
      "                                                     'text': 'Follow-up '\n",
      "                                                             'discussion.'}],\n",
      "                                       'url': 'https://example.com/convo/1'},\n",
      "                      'score': 0.9,\n",
      "                      'summary': 'Summary for https://example.com/convo/1 (no '\n",
      "                                 'prompt provided)',\n",
      "                      'url': 'https://example.com/convo/1'},\n",
      "                     {'conversation': {'messages': [{'author': 'alice',\n",
      "                                                     'text': 'Initial issue '\n",
      "                                                             'description.'},\n",
      "                                                    {'author': 'bob',\n",
      "                                                     'text': 'Follow-up '\n",
      "                                                             'discussion.'}],\n",
      "                                       'url': 'https://example.com/convo/2'},\n",
      "                      'score': 0.8,\n",
      "                      'summary': 'Summary for https://example.com/convo/2 (no '\n",
      "                                 'prompt provided)',\n",
      "                      'url': 'https://example.com/convo/2'},\n",
      "                     {'score': 1.0,\n",
      "                      'summary': 'Summary of What are the recent discussions '\n",
      "                                 'about authentication failures? #0',\n",
      "                      'url': 'https://example.com/convo/0'},\n",
      "                     {'score': 0.9,\n",
      "                      'summary': 'Summary of What are the recent discussions '\n",
      "                                 'about authentication failures? #1',\n",
      "                      'url': 'https://example.com/convo/1'},\n",
      "                     {'score': 0.8,\n",
      "                      'summary': 'Summary of What are the recent discussions '\n",
      "                                 'about authentication failures? #2',\n",
      "                      'url': 'https://example.com/convo/2'},\n",
      "                     {'score': 0.7,\n",
      "                      'summary': 'Summary of What are the recent discussions '\n",
      "                                 'about authentication failures? #3',\n",
      "                      'url': 'https://example.com/convo/3'},\n",
      "                     {'score': 0.6,\n",
      "                      'summary': 'Summary of What are the recent discussions '\n",
      "                                 'about authentication failures? #4',\n",
      "                      'url': 'https://example.com/convo/4'},\n",
      "                     {'score': 1.0,\n",
      "                      'summary': 'Summary of {} #0',\n",
      "                      'url': 'https://example.com/convo/0'},\n",
      "                     {'score': 0.9,\n",
      "                      'summary': 'Summary of {} #1',\n",
      "                      'url': 'https://example.com/convo/1'},\n",
      "                     {'score': 0.8,\n",
      "                      'summary': 'Summary of {} #2',\n",
      "                      'url': 'https://example.com/convo/2'},\n",
      "                     {'score': 0.7,\n",
      "                      'summary': 'Summary of {} #3',\n",
      "                      'url': 'https://example.com/convo/3'},\n",
      "                     {'score': 0.6,\n",
      "                      'summary': 'Summary of {} #4',\n",
      "                      'url': 'https://example.com/convo/4'}],\n",
      "            'notes': [],\n",
      "            'search_queries': ['What are the recent discussions about '\n",
      "                               'authentication failures?',\n",
      "                               'What are the recent discussions about '\n",
      "                               'authentication failures?',\n",
      "                               '{}']},\n",
      " 'models': {'embed': 'default', 'fast': 'default', 'reasoning': 'default'},\n",
      " 'next_search_plans': [{'query': '{}', 'tool': 'semantic'}],\n",
      " 'parallel': False,\n",
      " 'request': 'What are the recent discussions about authentication failures?',\n",
      " 'script_dir': 'scripts',\n",
      " 'search_modes': ['semantic'],\n",
      " 'top_k': 3,\n",
      " 'unsupported_claims': ['Claim 1', 'Claim 2'],\n",
      " 'verbose': True,\n",
      " 'verification_attempts': 1}\n"
     ]
    }
   ],
   "source": [
    "question = '''Please tell me the top 3 frameworks for building AI Agents in python.'''\n",
    "\n",
    "agent = SupervisorAgent()\n",
    "agent.create_supervised_flow()\n",
    "result = agent.run({\"question\": question})\n",
    "\n",
    "print('=== AGENT RUN RESULT ===')\n",
    "pprint(result)\n",
    "print('=== SHARED STATE ===')\n",
    "pprint(agent.shared)"
   ]
  }
 ],
 "metadata": {
  "kernelspec": {
   "display_name": "Python 3 (ipykernel)",
   "language": "python",
   "name": "python3"
  },
  "language_info": {
   "codemirror_mode": {
    "name": "ipython",
    "version": 3
   },
   "file_extension": ".py",
   "mimetype": "text/x-python",
   "name": "python",
   "nbconvert_exporter": "python",
   "pygments_lexer": "ipython3",
   "version": "3.12.2"
  }
 },
 "nbformat": 4,
 "nbformat_minor": 5
}
