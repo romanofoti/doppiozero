{
 "cells": [
  {
   "cell_type": "code",
   "execution_count": null,
   "id": "c2200829-eac3-4cdb-8c23-e76e29351ef1",
   "metadata": {},
   "outputs": [],
   "source": []
  }
 ],
 "metadata": {
  "kernelspec": {
   "display_name": "",
   "name": ""
  },
  "language_info": {
   "name": ""
  }
 },
 "nbformat": 4,
 "nbformat_minor": 5
}
