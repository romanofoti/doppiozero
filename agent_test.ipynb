{
 "cells": [
  {
   "cell_type": "markdown",
   "id": "76b4e4dc",
   "metadata": {},
   "source": [
    "# GitHubAgent runtime test (mocked)\n",
    "\n",
    "This notebook performs a runtime test of `doppiozero.agents.gh_deep_search.GitHubAgent` using local, deterministic mocks for the content layer so no network or credentials are required.\n",
    "\n",
    "Run the cells in order. The notebook does not create any new test files; it only monkeypatches in-memory objects and saves a single `agent_test_output.json` artifact."
   ]
  },
  {
   "cell_type": "code",
   "execution_count": 1,
   "id": "6de39fbf",
   "metadata": {},
   "outputs": [
    {
     "name": "stdout",
     "output_type": "stream",
     "text": [
      "Inserted PROJECT_ROOT to sys.path: /Users/romanofoti/romanofoti/doppiozero\n"
     ]
    }
   ],
   "source": [
    "# Ensure the repository root is on sys.path so `doppiozero` imports resolve\n",
    "import sys, os\n",
    "from pathlib import Path\n",
    "PROJECT_ROOT = Path(os.getcwd()).resolve()\n",
    "if str(PROJECT_ROOT) not in sys.path:\n",
    "    sys.path.insert(0, str(PROJECT_ROOT))\n",
    "print('Inserted PROJECT_ROOT to sys.path:', PROJECT_ROOT)"
   ]
  },
  {
   "cell_type": "code",
   "execution_count": 2,
   "id": "a096751a",
   "metadata": {},
   "outputs": [],
   "source": [
    "import types, json\n",
    "from pprint import pprint\n",
    "import doppiozero.contents as contents_mod\n",
    "\n",
    "from doppiozero.agents.gh_deep_search import GitHubAgent"
   ]
  },
  {
   "cell_type": "markdown",
   "id": "a009d13b",
   "metadata": {},
   "source": [
    "## Monkeypatch local content layer (mocked integration)\n",
    "\n",
    "This cell replaces `content_manager` and `content_fetcher` helpers with deterministic functions so the agent can run end-to-end without external services."
   ]
  },
  {
   "cell_type": "code",
   "execution_count": 3,
   "id": "e888b5c0",
   "metadata": {},
   "outputs": [
    {
     "name": "stdout",
     "output_type": "stream",
     "text": [
      "Patched content_manager and content_fetcher with deterministic mocks\n"
     ]
    }
   ],
   "source": [
    "\n",
    "cm = getattr(contents_mod, 'content_manager', None)\n",
    "cf = getattr(contents_mod, 'content_fetcher', None)\n",
    "# If the modules are objects, patch their functions; otherwise create simple namespaces\n",
    "def fake_search(query, max_results=5):\n",
    "    # Return deterministic fake search results referencing made-up URLs\n",
    "    return [\n",
    "        {'url': f'https://example.com/convo/{i}', 'score': 1.0 - i*0.1} for i in range(max_results)\n",
    "    ]\n",
    "\n",
    "def fake_vector_search(query, collection=None, top_k=5):\n",
    "    # Return search hits with summaries and scores\n",
    "    return [\n",
    "        {'url': f'https://example.com/convo/{i}', 'summary': f'Summary of {query} #{i}', 'score': 1.0 - i*0.1} for i in range(top_k)\n",
    "    ]\n",
    "\n",
    "def fake_fetch_github_conversation(url, cache_path=None):\n",
    "    # Return a small conversation dict\n",
    "    return {'url': url, 'messages': [\n",
    "        {'author': 'alice', 'text': 'Initial issue description.'},\n",
    "        {'author': 'bob', 'text': 'Follow-up discussion.'},\n",
    "    ]}\n",
    "\n",
    "def fake_summarize(url, prompt_path=None, cache_path=None):\n",
    "    return f'Compact summary for {url}'\n",
    "\n",
    "def fake_vector_upsert(text, collection, metadata, model=None):\n",
    "    # No-op upsert for tests\n",
    "    return True\n",
    "\n",
    "# Attach mocks to the content modules (create attributes if missing)\n",
    "if cm is None:\n",
    "    contents_mod.content_manager = types.SimpleNamespace()\n",
    "    cm = contents_mod.content_manager\n",
    "if cf is None:\n",
    "    contents_mod.content_fetcher = types.SimpleNamespace()\n",
    "    cf = contents_mod.content_fetcher\n",
    "\n",
    "# Patch functions used by the agent\n",
    "setattr(cm, 'search', fake_search)\n",
    "setattr(cm, 'vector_search', fake_vector_search)\n",
    "setattr(cm, 'summarize', fake_summarize)\n",
    "setattr(cm, 'vector_upsert', fake_vector_upsert)\n",
    "setattr(contents_mod, 'content_manager', cm)\n",
    "setattr(cf, 'fetch_github_conversation', fake_fetch_github_conversation)\n",
    "setattr(contents_mod, 'content_fetcher', cf)\n",
    "\n",
    "print('Patched content_manager and content_fetcher with deterministic mocks')"
   ]
  },
  {
   "cell_type": "code",
   "execution_count": null,
   "id": "26f2e2b3",
   "metadata": {},
   "outputs": [],
   "source": [
    "# Interactive clarifying answers (edit this cell before running the agent)\n",
    "from pathlib import Path\n",
    "\n",
    "clarifying_answers = '''Q: What is the main goal?\n",
    "A: Find recent authentication failure discussions across repos.\n",
    "\n",
    "Q: Are there specific repos to focus on?\n",
    "A: doppiozero and financial-planning.\n",
    "'''\n",
    "\n",
    "clarifying_path = Path('clarifying_answers.txt').resolve()\n",
    "clarifying_path.write_text(clarifying_answers, encoding='utf-8')\n",
    "print('Wrote clarifying answers to', clarifying_path)\n",
    "# The agent will read this file if options['clarifying_qa'] points to it.\n",
    "# If you prefer to answer interactively, edit the clarifying_answers string above and re-run this cell."
   ]
  },
  {
   "cell_type": "markdown",
   "id": "15e01e4a",
   "metadata": {},
   "source": [
    "## Run the agent (mocked)\n",
    "\n",
    "Instantiate `GitHubAgent` with lightweight options and run it. The mocked content layer will return deterministic data so the run is fast and offline.\n",
    "\n",
    "Interactive notes: Edit the clarifying-answers cell (above) if you want to provide clarifying answers manually. If `clarifying_answers.txt` exists when you run the agent cell, it will be used; otherwise the agent will run with no clarifications (or will open an editor if it is configured to do so)."
   ]
  },
  {
   "cell_type": "code",
   "execution_count": null,
   "id": "ee6f785f",
   "metadata": {},
   "outputs": [
    {
     "name": "stderr",
     "output_type": "stream",
     "text": [
      "2025-09-03 19:28:51,656 - doppiozero.agents.gh_deep_search - gh_deep_search.py  - run          - INFO     - === GITHUB CONVERSATIONS RESEARCH AGENT ===\n",
      "2025-09-03 19:28:51,658 - doppiozero.agents.gh_deep_search - gh_deep_search.py  - run          - INFO     - Request: What are the recent discussions about authentication failures?\n",
      "2025-09-03 19:28:51,659 - doppiozero.agents.gh_deep_search - gh_deep_search.py  - run          - INFO     - Collection: None\n",
      "2025-09-03 19:28:51,659 - doppiozero.agents.gh_deep_search - gh_deep_search.py  - run          - INFO     - Max results per search: 3\n",
      "2025-09-03 19:28:51,661 - doppiozero.agents.gh_deep_search - gh_deep_search.py  - run          - INFO     - Max deep research iterations: 1\n",
      "2025-09-03 19:28:51,661 - doppiozero.agents.gh_deep_search - gh_deep_search.py  - run          - INFO     - Fast model: default\n",
      "2025-09-03 19:28:51,662 - doppiozero.agents.gh_deep_search - gh_deep_search.py  - run          - INFO     - Reasoning model: default\n",
      "2025-09-03 19:28:51,664 - doppiozero.nodes.researcher - researcher.py      - prep         - INFO     - === INITIAL RESEARCH PHASE ===\n",
      "2025-09-03 19:28:51,665 - doppiozero.nodes.researcher - researcher.py      - prep         - INFO     - Starting initial semantic search for: What are the recent discussions about authentication failures?\n",
      "2025-09-03 19:28:51,667 - doppiozero.nodes.researcher - researcher.py      - exec         - INFO     - Executing initial semantic search and enriching results...\n",
      "2025-09-03 19:28:51,669 - doppiozero.nodes.researcher - researcher.py      - exec         - INFO     - Searching (pass 1): What are the recent discussions about authentication failures? (pass 1)\n",
      "2025-09-03 19:28:51,670 - doppiozero.nodes.researcher - researcher.py      - exec         - INFO     - Fetching conversation: https://example.com/convo/0\n",
      "2025-09-03 19:28:51,670 - doppiozero.nodes.researcher - researcher.py      - exec         - INFO     - Fetching conversation: https://example.com/convo/1\n",
      "2025-09-03 19:28:51,671 - doppiozero.nodes.researcher - researcher.py      - exec         - INFO     - Fetching conversation: https://example.com/convo/2\n",
      "2025-09-03 19:28:51,671 - doppiozero.nodes.researcher - researcher.py      - exec         - INFO     - ✓ Initial research complete: 3 conversations collected\n",
      "2025-09-03 19:28:51,671 - doppiozero.nodes.researcher - researcher.py      - post         - INFO     - ✓ Initial research complete: 3 conversations collected\n",
      "2025-09-03 19:28:51,672 - doppiozero.nodes.clarifier - clarifier.py       - prep         - INFO     - === CLARIFYING QUESTIONS PHASE ===\n",
      "2025-09-03 19:28:51,672 - doppiozero.nodes.clarifier - clarifier.py       - exec         - INFO     - Presenting clarifying questions to user...\n",
      "Vim: Warning: Output is not to a terminal\n",
      "Vim: Warning: Input is not from a terminal\n"
     ]
    },
    {
     "name": "stdout",
     "output_type": "stream",
     "text": [
      "\u001b7\u001b[?47h\u001b[>4;2m\u001b[?1h\u001b=\u001b[?2004h\u001b[?1004h\u001b[1;24r\u001b[?12h\u001b[?12l\u001b[22;2t\u001b[22;1t\u001b[29m\u001b[m\u001b[H\u001b[2J\u001b[?2004l\u001b[>4;m\u001b[?2004h\u001b[>4;2m\u001b[?25l\u001b[24;1H\"/var/folders/mp/vh6r5x693yb06mk7jfhk6nkc0000gn/T/tmpnde3ao6v.md\" 6L, 130B\u001b[1;1HPlease review the following questions and provide inline answers:\n",
      "\n",
      "What is the main goal?\n",
      "\n",
      "Are there specific repos to focus on?\n",
      "\n",
      "\u001b[1m\u001b[34m~                                                                               \u001b[8;1H~                                                                               \u001b[9;1H~                                                                               \u001b[10;1H~                                                                               \u001b[11;1H~                                                                               \u001b[12;1H~                                                                               \u001b[13;1H~                                                                               \u001b[14;1H~                                                                               \u001b[15;1H~                                                                               \u001b[16;1H~                                                                               \u001b[17;1H~                                                                               \u001b[18;1H~                                                                               \u001b[19;1H~                                                                               \u001b[20;1H~                                                                               \u001b[21;1H~                                                                               \u001b[22;1H~                                                                               \u001b[23;1H~                                                                               \u001b[1;1H\u001b[?25h\u001b[?4m"
     ]
    },
    {
     "ename": "KeyboardInterrupt",
     "evalue": "",
     "output_type": "error",
     "traceback": [
      "\u001b[31m---------------------------------------------------------------------------\u001b[39m",
      "\u001b[31mKeyboardInterrupt\u001b[39m                         Traceback (most recent call last)",
      "\u001b[36mCell\u001b[39m\u001b[36m \u001b[39m\u001b[32mIn[4]\u001b[39m\u001b[32m, line 16\u001b[39m\n\u001b[32m      3\u001b[39m options = {\n\u001b[32m      4\u001b[39m     \u001b[33m'\u001b[39m\u001b[33mcollection\u001b[39m\u001b[33m'\u001b[39m: \u001b[38;5;28;01mNone\u001b[39;00m,\n\u001b[32m      5\u001b[39m     \u001b[33m'\u001b[39m\u001b[33mlimit\u001b[39m\u001b[33m'\u001b[39m: \u001b[32m3\u001b[39m,\n\u001b[32m   (...)\u001b[39m\u001b[32m     13\u001b[39m     \u001b[33m'\u001b[39m\u001b[33mverbose\u001b[39m\u001b[33m'\u001b[39m: \u001b[38;5;28;01mTrue\u001b[39;00m,\n\u001b[32m     14\u001b[39m }\n\u001b[32m     15\u001b[39m agent = GitHubAgent(\u001b[33m'\u001b[39m\u001b[33mWhat are the recent discussions about authentication failures?\u001b[39m\u001b[33m'\u001b[39m, options)\n\u001b[32m---> \u001b[39m\u001b[32m16\u001b[39m result = \u001b[43magent\u001b[49m\u001b[43m.\u001b[49m\u001b[43mrun\u001b[49m\u001b[43m(\u001b[49m\u001b[43m)\u001b[49m\n\u001b[32m     17\u001b[39m \u001b[38;5;28mprint\u001b[39m(\u001b[33m'\u001b[39m\u001b[33m=== AGENT RUN RESULT ===\u001b[39m\u001b[33m'\u001b[39m)\n\u001b[32m     18\u001b[39m pprint(result)\n",
      "\u001b[36mFile \u001b[39m\u001b[32m~/romanofoti/doppiozero/doppiozero/agents/gh_deep_search.py:163\u001b[39m, in \u001b[36mGitHubAgent.run\u001b[39m\u001b[34m(self)\u001b[39m\n\u001b[32m    161\u001b[39m \u001b[38;5;28mself\u001b[39m.logger.info(\u001b[33mf\u001b[39m\u001b[33m\"\u001b[39m\u001b[33mFast model: \u001b[39m\u001b[38;5;132;01m{\u001b[39;00m\u001b[38;5;28mself\u001b[39m.shared[\u001b[33m'\u001b[39m\u001b[33mmodels\u001b[39m\u001b[33m'\u001b[39m].get(\u001b[33m'\u001b[39m\u001b[33mfast\u001b[39m\u001b[33m'\u001b[39m,\u001b[38;5;250m \u001b[39m\u001b[33m'\u001b[39m\u001b[33mdefault\u001b[39m\u001b[33m'\u001b[39m)\u001b[38;5;132;01m}\u001b[39;00m\u001b[33m\"\u001b[39m)\n\u001b[32m    162\u001b[39m \u001b[38;5;28mself\u001b[39m.logger.info(\u001b[33mf\u001b[39m\u001b[33m\"\u001b[39m\u001b[33mReasoning model: \u001b[39m\u001b[38;5;132;01m{\u001b[39;00m\u001b[38;5;28mself\u001b[39m.shared[\u001b[33m'\u001b[39m\u001b[33mmodels\u001b[39m\u001b[33m'\u001b[39m].get(\u001b[33m'\u001b[39m\u001b[33mreasoning\u001b[39m\u001b[33m'\u001b[39m,\u001b[38;5;250m \u001b[39m\u001b[33m'\u001b[39m\u001b[33mdefault\u001b[39m\u001b[33m'\u001b[39m)\u001b[38;5;132;01m}\u001b[39;00m\u001b[33m\"\u001b[39m)\n\u001b[32m--> \u001b[39m\u001b[32m163\u001b[39m \u001b[38;5;28;01mreturn\u001b[39;00m \u001b[38;5;28;43mself\u001b[39;49m\u001b[43m.\u001b[49m\u001b[43mflow\u001b[49m\u001b[43m.\u001b[49m\u001b[43mrun\u001b[49m\u001b[43m(\u001b[49m\u001b[38;5;28;43mself\u001b[39;49m\u001b[43m.\u001b[49m\u001b[43mshared\u001b[49m\u001b[43m)\u001b[49m\n",
      "\u001b[36mFile \u001b[39m\u001b[32m~/romanofoti/doppiozero/doppiozero/pocketflow/pocketflow.py:40\u001b[39m, in \u001b[36mBaseNode.run\u001b[39m\u001b[34m(self, shared)\u001b[39m\n\u001b[32m     38\u001b[39m \u001b[38;5;28;01mif\u001b[39;00m \u001b[38;5;28mself\u001b[39m.successors:\n\u001b[32m     39\u001b[39m     warnings.warn(\u001b[33m\"\u001b[39m\u001b[33mNode won\u001b[39m\u001b[33m'\u001b[39m\u001b[33mt run successors. Use Flow.\u001b[39m\u001b[33m\"\u001b[39m)\n\u001b[32m---> \u001b[39m\u001b[32m40\u001b[39m \u001b[38;5;28;01mreturn\u001b[39;00m \u001b[38;5;28;43mself\u001b[39;49m\u001b[43m.\u001b[49m\u001b[43m_run\u001b[49m\u001b[43m(\u001b[49m\u001b[43mshared\u001b[49m\u001b[43m)\u001b[49m\n",
      "\u001b[36mFile \u001b[39m\u001b[32m~/romanofoti/doppiozero/doppiozero/pocketflow/pocketflow.py:108\u001b[39m, in \u001b[36mFlow._run\u001b[39m\u001b[34m(self, shared)\u001b[39m\n\u001b[32m    106\u001b[39m \u001b[38;5;28;01mdef\u001b[39;00m\u001b[38;5;250m \u001b[39m\u001b[34m_run\u001b[39m(\u001b[38;5;28mself\u001b[39m, shared):\n\u001b[32m    107\u001b[39m     p = \u001b[38;5;28mself\u001b[39m.prep(shared)\n\u001b[32m--> \u001b[39m\u001b[32m108\u001b[39m     o = \u001b[38;5;28;43mself\u001b[39;49m\u001b[43m.\u001b[49m\u001b[43m_orch\u001b[49m\u001b[43m(\u001b[49m\u001b[43mshared\u001b[49m\u001b[43m)\u001b[49m\n\u001b[32m    109\u001b[39m     \u001b[38;5;28;01mreturn\u001b[39;00m \u001b[38;5;28mself\u001b[39m.post(shared, p, o)\n",
      "\u001b[36mFile \u001b[39m\u001b[32m~/romanofoti/doppiozero/doppiozero/pocketflow/pocketflow.py:102\u001b[39m, in \u001b[36mFlow._orch\u001b[39m\u001b[34m(self, shared, params)\u001b[39m\n\u001b[32m    100\u001b[39m \u001b[38;5;28;01mwhile\u001b[39;00m curr:\n\u001b[32m    101\u001b[39m     curr.set_params(p)\n\u001b[32m--> \u001b[39m\u001b[32m102\u001b[39m     last_action = \u001b[43mcurr\u001b[49m\u001b[43m.\u001b[49m\u001b[43m_run\u001b[49m\u001b[43m(\u001b[49m\u001b[43mshared\u001b[49m\u001b[43m)\u001b[49m\n\u001b[32m    103\u001b[39m     curr = copy.copy(\u001b[38;5;28mself\u001b[39m.get_next_node(curr, last_action))\n\u001b[32m    104\u001b[39m \u001b[38;5;28;01mreturn\u001b[39;00m last_action\n",
      "\u001b[36mFile \u001b[39m\u001b[32m~/romanofoti/doppiozero/doppiozero/pocketflow/pocketflow.py:34\u001b[39m, in \u001b[36mBaseNode._run\u001b[39m\u001b[34m(self, shared)\u001b[39m\n\u001b[32m     32\u001b[39m \u001b[38;5;28;01mdef\u001b[39;00m\u001b[38;5;250m \u001b[39m\u001b[34m_run\u001b[39m(\u001b[38;5;28mself\u001b[39m, shared):\n\u001b[32m     33\u001b[39m     p = \u001b[38;5;28mself\u001b[39m.prep(shared)\n\u001b[32m---> \u001b[39m\u001b[32m34\u001b[39m     e = \u001b[38;5;28;43mself\u001b[39;49m\u001b[43m.\u001b[49m\u001b[43m_exec\u001b[49m\u001b[43m(\u001b[49m\u001b[43mp\u001b[49m\u001b[43m)\u001b[49m\n\u001b[32m     35\u001b[39m     \u001b[38;5;28;01mreturn\u001b[39;00m \u001b[38;5;28mself\u001b[39m.post(shared, p, e)\n",
      "\u001b[36mFile \u001b[39m\u001b[32m~/romanofoti/doppiozero/doppiozero/pocketflow/pocketflow.py:70\u001b[39m, in \u001b[36mNode._exec\u001b[39m\u001b[34m(self, prep_res)\u001b[39m\n\u001b[32m     68\u001b[39m \u001b[38;5;28;01mfor\u001b[39;00m \u001b[38;5;28mself\u001b[39m.cur_retry \u001b[38;5;129;01min\u001b[39;00m \u001b[38;5;28mrange\u001b[39m(\u001b[38;5;28mself\u001b[39m.max_retries):\n\u001b[32m     69\u001b[39m     \u001b[38;5;28;01mtry\u001b[39;00m:\n\u001b[32m---> \u001b[39m\u001b[32m70\u001b[39m         \u001b[38;5;28;01mreturn\u001b[39;00m \u001b[38;5;28;43mself\u001b[39;49m\u001b[43m.\u001b[49m\u001b[43mexec\u001b[49m\u001b[43m(\u001b[49m\u001b[43mprep_res\u001b[49m\u001b[43m)\u001b[49m\n\u001b[32m     71\u001b[39m     \u001b[38;5;28;01mexcept\u001b[39;00m \u001b[38;5;167;01mException\u001b[39;00m \u001b[38;5;28;01mas\u001b[39;00m e:\n\u001b[32m     72\u001b[39m         \u001b[38;5;28;01mif\u001b[39;00m \u001b[38;5;28mself\u001b[39m.cur_retry == \u001b[38;5;28mself\u001b[39m.max_retries - \u001b[32m1\u001b[39m:\n",
      "\u001b[36mFile \u001b[39m\u001b[32m~/romanofoti/doppiozero/doppiozero/nodes/clarifier.py:196\u001b[39m, in \u001b[36mClarifierNode.exec\u001b[39m\u001b[34m(self, questions)\u001b[39m\n\u001b[32m    193\u001b[39m     \u001b[38;5;28;01mfor\u001b[39;00m q \u001b[38;5;129;01min\u001b[39;00m questions:\n\u001b[32m    194\u001b[39m         editor_content += q + \u001b[33m\"\u001b[39m\u001b[38;5;130;01m\\n\u001b[39;00m\u001b[38;5;130;01m\\n\u001b[39;00m\u001b[33m\"\u001b[39m\n\u001b[32m--> \u001b[39m\u001b[32m196\u001b[39m     edited = \u001b[43medit_text\u001b[49m\u001b[43m(\u001b[49m\u001b[43meditor_content\u001b[49m\u001b[43m,\u001b[49m\u001b[43m \u001b[49m\u001b[43meditor_file\u001b[49m\u001b[43m)\u001b[49m\n\u001b[32m    197\u001b[39m     \u001b[38;5;28;01mreturn\u001b[39;00m edited\n\u001b[32m    198\u001b[39m \u001b[38;5;28;01mexcept\u001b[39;00m \u001b[38;5;167;01mException\u001b[39;00m:\n\u001b[32m    199\u001b[39m     \u001b[38;5;66;03m# Last-resort: if automation requested, optionally auto-answer via LLM\u001b[39;00m\n",
      "\u001b[36mFile \u001b[39m\u001b[32m~/romanofoti/doppiozero/doppiozero/utils/utils.py:412\u001b[39m, in \u001b[36medit_text\u001b[39m\u001b[34m(initial_text, editor_file)\u001b[39m\n\u001b[32m    410\u001b[39m \u001b[38;5;66;03m# Launch editor and wait for it to exit\u001b[39;00m\n\u001b[32m    411\u001b[39m \u001b[38;5;28;01mtry\u001b[39;00m:\n\u001b[32m--> \u001b[39m\u001b[32m412\u001b[39m     \u001b[43msubprocess\u001b[49m\u001b[43m.\u001b[49m\u001b[43mcall\u001b[49m\u001b[43m(\u001b[49m\u001b[43m[\u001b[49m\u001b[43meditor\u001b[49m\u001b[43m,\u001b[49m\u001b[43m \u001b[49m\u001b[43mpath\u001b[49m\u001b[43m]\u001b[49m\u001b[43m)\u001b[49m\n\u001b[32m    413\u001b[39m \u001b[38;5;28;01mexcept\u001b[39;00m \u001b[38;5;167;01mException\u001b[39;00m:\n\u001b[32m    414\u001b[39m     \u001b[38;5;66;03m# Last resort: try shelling out\u001b[39;00m\n\u001b[32m    415\u001b[39m     subprocess.call(\u001b[33mf\u001b[39m\u001b[33m\"\u001b[39m\u001b[38;5;132;01m{\u001b[39;00meditor\u001b[38;5;132;01m}\u001b[39;00m\u001b[33m \u001b[39m\u001b[38;5;132;01m{\u001b[39;00mpath\u001b[38;5;132;01m}\u001b[39;00m\u001b[33m\"\u001b[39m, shell=\u001b[38;5;28;01mTrue\u001b[39;00m)\n",
      "\u001b[36mFile \u001b[39m\u001b[32m~/.pyenv/versions/3.12.2/lib/python3.12/subprocess.py:391\u001b[39m, in \u001b[36mcall\u001b[39m\u001b[34m(timeout, *popenargs, **kwargs)\u001b[39m\n\u001b[32m    389\u001b[39m \u001b[38;5;28;01mwith\u001b[39;00m Popen(*popenargs, **kwargs) \u001b[38;5;28;01mas\u001b[39;00m p:\n\u001b[32m    390\u001b[39m     \u001b[38;5;28;01mtry\u001b[39;00m:\n\u001b[32m--> \u001b[39m\u001b[32m391\u001b[39m         \u001b[38;5;28;01mreturn\u001b[39;00m \u001b[43mp\u001b[49m\u001b[43m.\u001b[49m\u001b[43mwait\u001b[49m\u001b[43m(\u001b[49m\u001b[43mtimeout\u001b[49m\u001b[43m=\u001b[49m\u001b[43mtimeout\u001b[49m\u001b[43m)\u001b[49m\n\u001b[32m    392\u001b[39m     \u001b[38;5;28;01mexcept\u001b[39;00m:  \u001b[38;5;66;03m# Including KeyboardInterrupt, wait handled that.\u001b[39;00m\n\u001b[32m    393\u001b[39m         p.kill()\n",
      "\u001b[36mFile \u001b[39m\u001b[32m~/.pyenv/versions/3.12.2/lib/python3.12/subprocess.py:1264\u001b[39m, in \u001b[36mPopen.wait\u001b[39m\u001b[34m(self, timeout)\u001b[39m\n\u001b[32m   1262\u001b[39m     endtime = _time() + timeout\n\u001b[32m   1263\u001b[39m \u001b[38;5;28;01mtry\u001b[39;00m:\n\u001b[32m-> \u001b[39m\u001b[32m1264\u001b[39m     \u001b[38;5;28;01mreturn\u001b[39;00m \u001b[38;5;28;43mself\u001b[39;49m\u001b[43m.\u001b[49m\u001b[43m_wait\u001b[49m\u001b[43m(\u001b[49m\u001b[43mtimeout\u001b[49m\u001b[43m=\u001b[49m\u001b[43mtimeout\u001b[49m\u001b[43m)\u001b[49m\n\u001b[32m   1265\u001b[39m \u001b[38;5;28;01mexcept\u001b[39;00m \u001b[38;5;167;01mKeyboardInterrupt\u001b[39;00m:\n\u001b[32m   1266\u001b[39m     \u001b[38;5;66;03m# https://bugs.python.org/issue25942\u001b[39;00m\n\u001b[32m   1267\u001b[39m     \u001b[38;5;66;03m# The first keyboard interrupt waits briefly for the child to\u001b[39;00m\n\u001b[32m   1268\u001b[39m     \u001b[38;5;66;03m# exit under the common assumption that it also received the ^C\u001b[39;00m\n\u001b[32m   1269\u001b[39m     \u001b[38;5;66;03m# generated SIGINT and will exit rapidly.\u001b[39;00m\n\u001b[32m   1270\u001b[39m     \u001b[38;5;28;01mif\u001b[39;00m timeout \u001b[38;5;129;01mis\u001b[39;00m \u001b[38;5;129;01mnot\u001b[39;00m \u001b[38;5;28;01mNone\u001b[39;00m:\n",
      "\u001b[36mFile \u001b[39m\u001b[32m~/.pyenv/versions/3.12.2/lib/python3.12/subprocess.py:2051\u001b[39m, in \u001b[36mPopen._wait\u001b[39m\u001b[34m(self, timeout)\u001b[39m\n\u001b[32m   2049\u001b[39m \u001b[38;5;28;01mif\u001b[39;00m \u001b[38;5;28mself\u001b[39m.returncode \u001b[38;5;129;01mis\u001b[39;00m \u001b[38;5;129;01mnot\u001b[39;00m \u001b[38;5;28;01mNone\u001b[39;00m:\n\u001b[32m   2050\u001b[39m     \u001b[38;5;28;01mbreak\u001b[39;00m  \u001b[38;5;66;03m# Another thread waited.\u001b[39;00m\n\u001b[32m-> \u001b[39m\u001b[32m2051\u001b[39m (pid, sts) = \u001b[38;5;28;43mself\u001b[39;49m\u001b[43m.\u001b[49m\u001b[43m_try_wait\u001b[49m\u001b[43m(\u001b[49m\u001b[32;43m0\u001b[39;49m\u001b[43m)\u001b[49m\n\u001b[32m   2052\u001b[39m \u001b[38;5;66;03m# Check the pid and loop as waitpid has been known to\u001b[39;00m\n\u001b[32m   2053\u001b[39m \u001b[38;5;66;03m# return 0 even without WNOHANG in odd situations.\u001b[39;00m\n\u001b[32m   2054\u001b[39m \u001b[38;5;66;03m# http://bugs.python.org/issue14396.\u001b[39;00m\n\u001b[32m   2055\u001b[39m \u001b[38;5;28;01mif\u001b[39;00m pid == \u001b[38;5;28mself\u001b[39m.pid:\n",
      "\u001b[36mFile \u001b[39m\u001b[32m~/.pyenv/versions/3.12.2/lib/python3.12/subprocess.py:2009\u001b[39m, in \u001b[36mPopen._try_wait\u001b[39m\u001b[34m(self, wait_flags)\u001b[39m\n\u001b[32m   2007\u001b[39m \u001b[38;5;250m\u001b[39m\u001b[33;03m\"\"\"All callers to this function MUST hold self._waitpid_lock.\"\"\"\u001b[39;00m\n\u001b[32m   2008\u001b[39m \u001b[38;5;28;01mtry\u001b[39;00m:\n\u001b[32m-> \u001b[39m\u001b[32m2009\u001b[39m     (pid, sts) = \u001b[43mos\u001b[49m\u001b[43m.\u001b[49m\u001b[43mwaitpid\u001b[49m\u001b[43m(\u001b[49m\u001b[38;5;28;43mself\u001b[39;49m\u001b[43m.\u001b[49m\u001b[43mpid\u001b[49m\u001b[43m,\u001b[49m\u001b[43m \u001b[49m\u001b[43mwait_flags\u001b[49m\u001b[43m)\u001b[49m\n\u001b[32m   2010\u001b[39m \u001b[38;5;28;01mexcept\u001b[39;00m \u001b[38;5;167;01mChildProcessError\u001b[39;00m:\n\u001b[32m   2011\u001b[39m     \u001b[38;5;66;03m# This happens if SIGCLD is set to be ignored or waiting\u001b[39;00m\n\u001b[32m   2012\u001b[39m     \u001b[38;5;66;03m# for child processes has otherwise been disabled for our\u001b[39;00m\n\u001b[32m   2013\u001b[39m     \u001b[38;5;66;03m# process.  This child is dead, we can't get the status.\u001b[39;00m\n\u001b[32m   2014\u001b[39m     pid = \u001b[38;5;28mself\u001b[39m.pid\n",
      "\u001b[31mKeyboardInterrupt\u001b[39m: "
     ]
    }
   ],
   "source": [
    "# Run the agent with mocked content layer\n",
    "\n",
    "from pathlib import Path\n",
    "# If the clarifying answers file was written above, prefer it; otherwise leave as None\n",
    "clarifying_file = Path('clarifying_answers.txt').resolve()\n",
    "clarifying_qa = str(clarifying_file) if clarifying_file.exists() else None\n",
    "\n",
    "options = {\n",
    "    'collection': None,\n",
    "    'limit': 3,\n",
    "    'max_depth': 1,\n",
    "    'editor_file': None,\n",
    "    # Use clarifying_qa if the file exists; set to None to allow interactive editing\n",
    "    'clarifying_qa': clarifying_qa,\n",
    "    'search_modes': ['semantic'],\n",
    "    'cache_path': None,\n",
    "    'models': {'fast': 'default', 'reasoning': 'default', 'embed': 'default'},\n",
    "    'parallel': False,\n",
    "    'verbose': True,\n",
    "}\n",
    "agent = GitHubAgent('What are the recent discussions about authentication failures?', options)\n",
    "result = agent.run()\n",
    "print('=== AGENT RUN RESULT ===')\n",
    "pprint(result)\n",
    "print('=== SHARED STATE ===')\n",
    "pprint(agent.shared)"
   ]
  },
  {
   "cell_type": "code",
   "execution_count": null,
   "id": "66530db3",
   "metadata": {},
   "outputs": [],
   "source": [
    "# Simple runtime checks (no external test files created)\n",
    "assert isinstance(result, dict), 'Agent result should be a dict'\n",
    "# The agent returns a structured final report placed in shared['final_report']\n",
    "assert 'num_conversations' in result, 'Result missing num_conversations key'\n",
    "print('Basic assertions passed: result appears to be a final report dict')"
   ]
  },
  {
   "cell_type": "code",
   "execution_count": null,
   "id": "64e54515",
   "metadata": {},
   "outputs": [],
   "source": [
    "# Save the result artifact for inspection\n",
    "import json\n",
    "out_path = Path('agent_test_output.json').resolve()\n",
    "with open(out_path, 'w', encoding='utf-8') as f:\n",
    "    json.dump(result, f, ensure_ascii=False, indent=2)\n",
    "print('Saved agent output to', out_path)"
   ]
  },
  {
   "cell_type": "markdown",
   "id": "086ba253",
   "metadata": {},
   "source": [
    "## Next steps / integration notes\n",
    "\n",
    "- To run the agent against real GitHub data, remove or replace the monkeypatch cell and set real `collection`, `cache_path` and credentials via environment variables (do not commit tokens).\n",
    "- If you want me to add optional assertions on `agent.shared` (for example `claim_verification`), tell me which keys you expect and I'll add them.\n",
    "- If anything in this offline run fails, paste the notebook output and I will debug the failing cell."
   ]
  }
 ],
 "metadata": {
  "kernelspec": {
   "display_name": "Python 3 (ipykernel)",
   "language": "python",
   "name": "python3"
  },
  "language_info": {
   "codemirror_mode": {
    "name": "ipython",
    "version": 3
   },
   "file_extension": ".py",
   "mimetype": "text/x-python",
   "name": "python",
   "nbconvert_exporter": "python",
   "pygments_lexer": "ipython3",
   "version": "3.12.2"
  }
 },
 "nbformat": 4,
 "nbformat_minor": 5
}
