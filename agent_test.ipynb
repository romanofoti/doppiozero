{
 "cells": [
  {
   "cell_type": "markdown",
   "id": "76b4e4dc",
   "metadata": {},
   "source": [
    "# GitHubAgent runtime test\n",
    "\n",
    "This notebook performs a runtime test of `doppiozero.agents.gh_deep_search.GitHubAgent`.\n",
    "By default the notebook will use your real LLM and content layer when available. To force deterministic offline behavior set `USE_MOCKS = True` in the mocking cell.\n",
    "\n",
    "Run the cells in order. The notebook saves a single `agent_test_output.json` artifact when complete."
   ]
  },
  {
   "cell_type": "code",
   "execution_count": 1,
   "id": "a096751a",
   "metadata": {},
   "outputs": [],
   "source": [
    "import types, json\n",
    "from dotenv import load_dotenv\n",
    "from pathlib import Path\n",
    "from pprint import pprint\n",
    "load_dotenv()\n",
    "from doppiozero.agents.gh_deep_search import GitHubAgent"
   ]
  },
  {
   "cell_type": "code",
   "execution_count": 2,
   "id": "26f2e2b3",
   "metadata": {},
   "outputs": [
    {
     "name": "stdout",
     "output_type": "stream",
     "text": [
      "Wrote clarifying answers to /Users/romanofoti/romanofoti/doppiozero/clarifying_answers.txt\n"
     ]
    }
   ],
   "source": [
    "clarifying_answers = '''Q: What is the main goal?\n",
    "A: Find recent authentication failure discussions across repos.\n",
    "\n",
    "Q: Are there specific repos to focus on?\n",
    "A: doppiozero and financial-planning.\n",
    "'''\n",
    "\n",
    "clarifying_qa = Path('clarifying_answers.txt').resolve()\n",
    "clarifying_qa.write_text(clarifying_answers, encoding='utf-8')\n",
    "print('Wrote clarifying answers to', clarifying_qa)"
   ]
  },
  {
   "cell_type": "markdown",
   "id": "15e01e4a",
   "metadata": {},
   "source": [
    "## Run the agent\n",
    "\n",
    "Instantiate `GitHubAgent` with lightweight options and run it."
   ]
  },
  {
   "cell_type": "code",
   "execution_count": 3,
   "id": "ee6f785f",
   "metadata": {},
   "outputs": [
    {
     "name": "stderr",
     "output_type": "stream",
     "text": [
      "2025-09-05 19:53:39,020 - doppiozero.agents.gh_deep_search - gh_deep_search.py  - run          - INFO     - === GITHUB CONVERSATIONS RESEARCH AGENT ===\n",
      "2025-09-05 19:53:39,021 - doppiozero.agents.gh_deep_search - gh_deep_search.py  - run          - INFO     - Request: What are the recent discussions about authentication failures?\n",
      "2025-09-05 19:53:39,021 - doppiozero.agents.gh_deep_search - gh_deep_search.py  - run          - INFO     - Collection: None\n",
      "2025-09-05 19:53:39,021 - doppiozero.agents.gh_deep_search - gh_deep_search.py  - run          - INFO     - Max results per search: 3\n",
      "2025-09-05 19:53:39,022 - doppiozero.agents.gh_deep_search - gh_deep_search.py  - run          - INFO     - Max deep research iterations: 1\n",
      "2025-09-05 19:53:39,022 - doppiozero.agents.gh_deep_search - gh_deep_search.py  - run          - INFO     - Fast model: default\n",
      "2025-09-05 19:53:39,023 - doppiozero.agents.gh_deep_search - gh_deep_search.py  - run          - INFO     - Reasoning model: default\n",
      "2025-09-05 19:53:39,023 - doppiozero.nodes.researcher - researcher.py      - prep         - INFO     - === INITIAL RESEARCH PHASE ===\n",
      "2025-09-05 19:53:39,023 - doppiozero.nodes.researcher - researcher.py      - prep         - INFO     - Starting initial semantic search for: What are the recent discussions about authentication failures?\n",
      "2025-09-05 19:53:39,024 - doppiozero.nodes.researcher - researcher.py      - exec         - INFO     - Executing initial semantic search and enriching results...\n",
      "2025-09-05 19:53:39,024 - doppiozero.nodes.researcher - researcher.py      - exec         - INFO     - Searching (pass 1): What are the recent discussions about authentication failures? (pass 1)\n",
      "2025-09-05 19:53:39,025 - doppiozero.clients.github - github.py          - __init__     - INFO     - Using GitHub API token ending with 8FMV\n",
      "2025-09-05 19:53:39,350 - doppiozero.nodes.researcher - researcher.py      - exec         - WARNING  - Search failed on pass 1 for query 'What are the recent discussions about authentication failures? (pass 1)': 401 {\"message\": \"Bad credentials\", \"documentation_url\": \"https://docs.github.com/rest\", \"status\": \"401\"}\n",
      "2025-09-05 19:53:39,355 - doppiozero.nodes.researcher - researcher.py      - exec         - INFO     - ✓ Initial research complete: 0 conversations collected\n",
      "2025-09-05 19:53:39,365 - doppiozero.nodes.researcher - researcher.py      - post         - INFO     - ✓ Initial research complete: 0 conversations collected\n",
      "2025-09-05 19:53:39,378 - doppiozero.nodes.clarifier - clarifier.py       - prep         - INFO     - === CLARIFYING QUESTIONS PHASE ===\n",
      "2025-09-05 19:53:48,526 - httpx      - _client.py         - _send_single_request - INFO     - HTTP Request: POST https://spamurai-eastus2.openai.azure.com/openai/deployments/gpt-5-mini/chat/completions?api-version=2024-12-01-preview \"HTTP/1.1 200 OK\"\n",
      "2025-09-05 19:53:48,547 - doppiozero.clients.llm - llm.py             - generate     - ERROR    - LLM request failed: mapping values are not allowed here\n",
      "  in \"<unicode string>\", line 2, column 36:\n",
      "    2. Which contexts should I focus on: enterprise identity providers  ... \n",
      "                                       ^\n",
      "Traceback (most recent call last):\n",
      "  File \"/Users/romanofoti/romanofoti/doppiozero/doppiozero/clients/llm.py\", line 195, in generate\n",
      "    result_dc = self._process_raw_output(response_dc)\n",
      "                ^^^^^^^^^^^^^^^^^^^^^^^^^^^^^^^^^^^^^\n",
      "  File \"/Users/romanofoti/romanofoti/doppiozero/doppiozero/clients/llm.py\", line 120, in _process_raw_output\n",
      "    response_dc = yaml.safe_load(yaml_str)\n",
      "                  ^^^^^^^^^^^^^^^^^^^^^^^^\n",
      "  File \"/Users/romanofoti/Library/Caches/pypoetry/virtualenvs/doppiozero-AQeo1sYh-py3.12/lib/python3.12/site-packages/yaml/__init__.py\", line 125, in safe_load\n",
      "    return load(stream, SafeLoader)\n",
      "           ^^^^^^^^^^^^^^^^^^^^^^^^\n",
      "  File \"/Users/romanofoti/Library/Caches/pypoetry/virtualenvs/doppiozero-AQeo1sYh-py3.12/lib/python3.12/site-packages/yaml/__init__.py\", line 81, in load\n",
      "    return loader.get_single_data()\n",
      "           ^^^^^^^^^^^^^^^^^^^^^^^^\n",
      "  File \"/Users/romanofoti/Library/Caches/pypoetry/virtualenvs/doppiozero-AQeo1sYh-py3.12/lib/python3.12/site-packages/yaml/constructor.py\", line 49, in get_single_data\n",
      "    node = self.get_single_node()\n",
      "           ^^^^^^^^^^^^^^^^^^^^^^\n",
      "  File \"/Users/romanofoti/Library/Caches/pypoetry/virtualenvs/doppiozero-AQeo1sYh-py3.12/lib/python3.12/site-packages/yaml/composer.py\", line 36, in get_single_node\n",
      "    document = self.compose_document()\n",
      "               ^^^^^^^^^^^^^^^^^^^^^^^\n",
      "  File \"/Users/romanofoti/Library/Caches/pypoetry/virtualenvs/doppiozero-AQeo1sYh-py3.12/lib/python3.12/site-packages/yaml/composer.py\", line 58, in compose_document\n",
      "    self.get_event()\n",
      "  File \"/Users/romanofoti/Library/Caches/pypoetry/virtualenvs/doppiozero-AQeo1sYh-py3.12/lib/python3.12/site-packages/yaml/parser.py\", line 118, in get_event\n",
      "    self.current_event = self.state()\n",
      "                         ^^^^^^^^^^^^\n",
      "  File \"/Users/romanofoti/Library/Caches/pypoetry/virtualenvs/doppiozero-AQeo1sYh-py3.12/lib/python3.12/site-packages/yaml/parser.py\", line 193, in parse_document_end\n",
      "    token = self.peek_token()\n",
      "            ^^^^^^^^^^^^^^^^^\n",
      "  File \"/Users/romanofoti/Library/Caches/pypoetry/virtualenvs/doppiozero-AQeo1sYh-py3.12/lib/python3.12/site-packages/yaml/scanner.py\", line 129, in peek_token\n",
      "    self.fetch_more_tokens()\n",
      "  File \"/Users/romanofoti/Library/Caches/pypoetry/virtualenvs/doppiozero-AQeo1sYh-py3.12/lib/python3.12/site-packages/yaml/scanner.py\", line 223, in fetch_more_tokens\n",
      "    return self.fetch_value()\n",
      "           ^^^^^^^^^^^^^^^^^^\n",
      "  File \"/Users/romanofoti/Library/Caches/pypoetry/virtualenvs/doppiozero-AQeo1sYh-py3.12/lib/python3.12/site-packages/yaml/scanner.py\", line 577, in fetch_value\n",
      "    raise ScannerError(None, None,\n",
      "yaml.scanner.ScannerError: mapping values are not allowed here\n",
      "  in \"<unicode string>\", line 2, column 36:\n",
      "    2. Which contexts should I focus on: enterprise identity providers  ... \n",
      "                                       ^\n",
      "2025-09-05 19:53:48,615 - doppiozero.nodes.clarifier - clarifier.py       - exec         - INFO     - Presenting clarifying questions to user...\n",
      "2025-09-05 19:53:48,620 - doppiozero.nodes.clarifier - clarifier.py       - post         - INFO     - Clarifications stored.\n",
      "2025-09-05 19:53:48,628 - doppiozero.nodes.planner - planner.py         - prep         - INFO     - === PLANNING PHASE ===\n",
      "2025-09-05 19:53:48,629 - doppiozero.nodes.planner - planner.py         - prep         - INFO     - === PLANNING PHASE (Iteration 1/1) ===\n",
      "2025-09-05 19:53:48,630 - doppiozero.nodes.planner - planner.py         - exec         - INFO     - Transforming queries into search plans...\n",
      "2025-09-05 19:53:48,631 - doppiozero.nodes.planner - planner.py         - post         - INFO     - ✓ Planning complete, generated 1 search plans\n",
      "2025-09-05 19:53:48,631 - doppiozero.nodes.retriever - retriever.py       - prep         - INFO     - === RETRIEVAL PHASE ===\n",
      "2025-09-05 19:53:48,632 - doppiozero.nodes.retriever - retriever.py       - exec         - INFO     - Executing search operations and retrieving data...\n",
      "2025-09-05 19:53:49,146 - httpx      - _client.py         - _send_single_request - INFO     - HTTP Request: POST https://spamurai-eastus2.openai.azure.com/openai/deployments/text-embedding-3-small/embeddings?api-version=2024-12-01-preview \"HTTP/1.1 404 DeploymentNotFound\"\n",
      "2025-09-05 19:53:49,150 - doppiozero.clients.llm - llm.py             - embed        - ERROR    - Embeddings request failed; falling back to stub embedding\n",
      "Traceback (most recent call last):\n",
      "  File \"/Users/romanofoti/romanofoti/doppiozero/doppiozero/clients/llm.py\", line 236, in embed\n",
      "    response_dc = self._call_openai_api(text, request_type=\"embed\", model=model_name)\n",
      "                  ^^^^^^^^^^^^^^^^^^^^^^^^^^^^^^^^^^^^^^^^^^^^^^^^^^^^^^^^^^^^^^^^^^^\n",
      "  File \"/Users/romanofoti/romanofoti/doppiozero/doppiozero/clients/llm.py\", line 159, in _call_openai_api\n",
      "    resp = client.embeddings.create(model=model_name, input=prompt).dict()\n",
      "           ^^^^^^^^^^^^^^^^^^^^^^^^^^^^^^^^^^^^^^^^^^^^^^^^^^^^^^^^\n",
      "  File \"/Users/romanofoti/Library/Caches/pypoetry/virtualenvs/doppiozero-AQeo1sYh-py3.12/lib/python3.12/site-packages/openai/resources/embeddings.py\", line 132, in create\n",
      "    return self._post(\n",
      "           ^^^^^^^^^^^\n",
      "  File \"/Users/romanofoti/Library/Caches/pypoetry/virtualenvs/doppiozero-AQeo1sYh-py3.12/lib/python3.12/site-packages/openai/_base_client.py\", line 1259, in post\n",
      "    return cast(ResponseT, self.request(cast_to, opts, stream=stream, stream_cls=stream_cls))\n",
      "                           ^^^^^^^^^^^^^^^^^^^^^^^^^^^^^^^^^^^^^^^^^^^^^^^^^^^^^^^^^^^^^^^^^\n",
      "  File \"/Users/romanofoti/Library/Caches/pypoetry/virtualenvs/doppiozero-AQeo1sYh-py3.12/lib/python3.12/site-packages/openai/_base_client.py\", line 1047, in request\n",
      "    raise self._make_status_error_from_response(err.response) from None\n",
      "openai.NotFoundError: Error code: 404 - {'error': {'code': 'DeploymentNotFound', 'message': 'The API deployment for this resource does not exist. If you created the deployment within the last 5 minutes, please wait a moment and try again.'}}\n",
      "2025-09-05 19:53:49,170 - doppiozero.clients.github - github.py          - __init__     - INFO     - Using GitHub API token ending with 8FMV\n",
      "2025-09-05 19:53:49,505 - doppiozero.contents - contents.py        - vector_search - ERROR    - GitHub fallback search failed: 401 {\"message\": \"Bad credentials\", \"documentation_url\": \"https://docs.github.com/rest\", \"status\": \"401\"}\n",
      "2025-09-05 19:53:49,510 - doppiozero.nodes.retriever - retriever.py       - post         - INFO     - Iteration 1: executed 1 queries; added 0 new unique conversations (total=0).\n",
      "2025-09-05 19:53:49,515 - doppiozero.nodes.reporter - reporter.py        - prep         - INFO     - === FINAL REPORT PHASE ===\n",
      "2025-09-05 19:53:49,530 - doppiozero.nodes.reporter - reporter.py        - prep         - INFO     - Generating final report from all gathered data...\n",
      "2025-09-05 19:53:49,533 - doppiozero.nodes.reporter - reporter.py        - prep         - INFO     - Research summary: 0 conversations analyzed, 2 queries used, 1 deep research iterations\n",
      "2025-09-05 19:54:07,528 - httpx      - _client.py         - _send_single_request - INFO     - HTTP Request: POST https://spamurai-eastus2.openai.azure.com/openai/deployments/gpt-5-mini/chat/completions?api-version=2024-12-01-preview \"HTTP/1.1 200 OK\"\n",
      "2025-09-05 19:54:07,532 - doppiozero.nodes.reporter - reporter.py        - post         - INFO     - Routing to claim verification before final output\n",
      "2025-09-05 19:54:07,533 - doppiozero.nodes.claim_verifier - claim_verifier.py  - prep         - INFO     - === CLAIM VERIFICATION PHASE ===\n",
      "2025-09-05 19:54:23,400 - httpx      - _client.py         - _send_single_request - INFO     - HTTP Request: POST https://spamurai-eastus2.openai.azure.com/openai/deployments/gpt-5-mini/chat/completions?api-version=2024-12-01-preview \"HTTP/1.1 200 OK\"\n",
      "2025-09-05 19:54:23,408 - doppiozero.nodes.claim_verifier - claim_verifier.py  - exec         - INFO     - Verifying 2 claims against evidence...\n",
      "2025-09-05 19:54:24,027 - httpx      - _client.py         - _send_single_request - INFO     - HTTP Request: POST https://spamurai-eastus2.openai.azure.com/openai/deployments/text-embedding-3-small/embeddings?api-version=2024-12-01-preview \"HTTP/1.1 404 DeploymentNotFound\"\n",
      "2025-09-05 19:54:24,029 - doppiozero.clients.llm - llm.py             - embed        - ERROR    - Embeddings request failed; falling back to stub embedding\n",
      "Traceback (most recent call last):\n",
      "  File \"/Users/romanofoti/romanofoti/doppiozero/doppiozero/clients/llm.py\", line 236, in embed\n",
      "    response_dc = self._call_openai_api(text, request_type=\"embed\", model=model_name)\n",
      "                  ^^^^^^^^^^^^^^^^^^^^^^^^^^^^^^^^^^^^^^^^^^^^^^^^^^^^^^^^^^^^^^^^^^^\n",
      "  File \"/Users/romanofoti/romanofoti/doppiozero/doppiozero/clients/llm.py\", line 159, in _call_openai_api\n",
      "    resp = client.embeddings.create(model=model_name, input=prompt).dict()\n",
      "           ^^^^^^^^^^^^^^^^^^^^^^^^^^^^^^^^^^^^^^^^^^^^^^^^^^^^^^^^\n",
      "  File \"/Users/romanofoti/Library/Caches/pypoetry/virtualenvs/doppiozero-AQeo1sYh-py3.12/lib/python3.12/site-packages/openai/resources/embeddings.py\", line 132, in create\n",
      "    return self._post(\n",
      "           ^^^^^^^^^^^\n",
      "  File \"/Users/romanofoti/Library/Caches/pypoetry/virtualenvs/doppiozero-AQeo1sYh-py3.12/lib/python3.12/site-packages/openai/_base_client.py\", line 1259, in post\n",
      "    return cast(ResponseT, self.request(cast_to, opts, stream=stream, stream_cls=stream_cls))\n",
      "                           ^^^^^^^^^^^^^^^^^^^^^^^^^^^^^^^^^^^^^^^^^^^^^^^^^^^^^^^^^^^^^^^^^\n",
      "  File \"/Users/romanofoti/Library/Caches/pypoetry/virtualenvs/doppiozero-AQeo1sYh-py3.12/lib/python3.12/site-packages/openai/_base_client.py\", line 1047, in request\n",
      "    raise self._make_status_error_from_response(err.response) from None\n",
      "openai.NotFoundError: Error code: 404 - {'error': {'code': 'DeploymentNotFound', 'message': 'The API deployment for this resource does not exist. If you created the deployment within the last 5 minutes, please wait a moment and try again.'}}\n",
      "2025-09-05 19:54:24,034 - doppiozero.clients.github - github.py          - __init__     - INFO     - Using GitHub API token ending with 8FMV\n",
      "2025-09-05 19:54:24,372 - doppiozero.contents - contents.py        - vector_search - ERROR    - GitHub fallback search failed: 401 {\"message\": \"Bad credentials\", \"documentation_url\": \"https://docs.github.com/rest\", \"status\": \"401\"}\n",
      "2025-09-05 19:54:24,905 - httpx      - _client.py         - _send_single_request - INFO     - HTTP Request: POST https://spamurai-eastus2.openai.azure.com/openai/deployments/text-embedding-3-small/embeddings?api-version=2024-12-01-preview \"HTTP/1.1 404 DeploymentNotFound\"\n",
      "2025-09-05 19:54:24,907 - doppiozero.clients.llm - llm.py             - embed        - ERROR    - Embeddings request failed; falling back to stub embedding\n",
      "Traceback (most recent call last):\n",
      "  File \"/Users/romanofoti/romanofoti/doppiozero/doppiozero/clients/llm.py\", line 236, in embed\n",
      "    response_dc = self._call_openai_api(text, request_type=\"embed\", model=model_name)\n",
      "                  ^^^^^^^^^^^^^^^^^^^^^^^^^^^^^^^^^^^^^^^^^^^^^^^^^^^^^^^^^^^^^^^^^^^\n",
      "  File \"/Users/romanofoti/romanofoti/doppiozero/doppiozero/clients/llm.py\", line 159, in _call_openai_api\n",
      "    resp = client.embeddings.create(model=model_name, input=prompt).dict()\n",
      "           ^^^^^^^^^^^^^^^^^^^^^^^^^^^^^^^^^^^^^^^^^^^^^^^^^^^^^^^^\n",
      "  File \"/Users/romanofoti/Library/Caches/pypoetry/virtualenvs/doppiozero-AQeo1sYh-py3.12/lib/python3.12/site-packages/openai/resources/embeddings.py\", line 132, in create\n",
      "    return self._post(\n",
      "           ^^^^^^^^^^^\n",
      "  File \"/Users/romanofoti/Library/Caches/pypoetry/virtualenvs/doppiozero-AQeo1sYh-py3.12/lib/python3.12/site-packages/openai/_base_client.py\", line 1259, in post\n",
      "    return cast(ResponseT, self.request(cast_to, opts, stream=stream, stream_cls=stream_cls))\n",
      "                           ^^^^^^^^^^^^^^^^^^^^^^^^^^^^^^^^^^^^^^^^^^^^^^^^^^^^^^^^^^^^^^^^^\n",
      "  File \"/Users/romanofoti/Library/Caches/pypoetry/virtualenvs/doppiozero-AQeo1sYh-py3.12/lib/python3.12/site-packages/openai/_base_client.py\", line 1047, in request\n",
      "    raise self._make_status_error_from_response(err.response) from None\n",
      "openai.NotFoundError: Error code: 404 - {'error': {'code': 'DeploymentNotFound', 'message': 'The API deployment for this resource does not exist. If you created the deployment within the last 5 minutes, please wait a moment and try again.'}}\n",
      "2025-09-05 19:54:24,911 - doppiozero.clients.github - github.py          - __init__     - INFO     - Using GitHub API token ending with 8FMV\n",
      "2025-09-05 19:54:25,240 - doppiozero.contents - contents.py        - vector_search - ERROR    - GitHub fallback search failed: 401 {\"message\": \"Bad credentials\", \"documentation_url\": \"https://docs.github.com/rest\", \"status\": \"401\"}\n",
      "2025-09-05 19:54:26,950 - httpx      - _client.py         - _send_single_request - INFO     - HTTP Request: POST https://spamurai-eastus2.openai.azure.com/openai/deployments/gpt-5-mini/chat/completions?api-version=2024-12-01-preview \"HTTP/1.1 200 OK\"\n",
      "2025-09-05 19:54:26,957 - doppiozero.nodes.claim_verifier - claim_verifier.py  - exec         - INFO     - ✗ Claim unsupported: Claim 1\n",
      "2025-09-05 19:54:27,497 - httpx      - _client.py         - _send_single_request - INFO     - HTTP Request: POST https://spamurai-eastus2.openai.azure.com/openai/deployments/text-embedding-3-small/embeddings?api-version=2024-12-01-preview \"HTTP/1.1 404 DeploymentNotFound\"\n",
      "2025-09-05 19:54:27,501 - doppiozero.clients.llm - llm.py             - embed        - ERROR    - Embeddings request failed; falling back to stub embedding\n",
      "Traceback (most recent call last):\n",
      "  File \"/Users/romanofoti/romanofoti/doppiozero/doppiozero/clients/llm.py\", line 236, in embed\n",
      "    response_dc = self._call_openai_api(text, request_type=\"embed\", model=model_name)\n",
      "                  ^^^^^^^^^^^^^^^^^^^^^^^^^^^^^^^^^^^^^^^^^^^^^^^^^^^^^^^^^^^^^^^^^^^\n",
      "  File \"/Users/romanofoti/romanofoti/doppiozero/doppiozero/clients/llm.py\", line 159, in _call_openai_api\n",
      "    resp = client.embeddings.create(model=model_name, input=prompt).dict()\n",
      "           ^^^^^^^^^^^^^^^^^^^^^^^^^^^^^^^^^^^^^^^^^^^^^^^^^^^^^^^^\n",
      "  File \"/Users/romanofoti/Library/Caches/pypoetry/virtualenvs/doppiozero-AQeo1sYh-py3.12/lib/python3.12/site-packages/openai/resources/embeddings.py\", line 132, in create\n",
      "    return self._post(\n",
      "           ^^^^^^^^^^^\n",
      "  File \"/Users/romanofoti/Library/Caches/pypoetry/virtualenvs/doppiozero-AQeo1sYh-py3.12/lib/python3.12/site-packages/openai/_base_client.py\", line 1259, in post\n",
      "    return cast(ResponseT, self.request(cast_to, opts, stream=stream, stream_cls=stream_cls))\n",
      "                           ^^^^^^^^^^^^^^^^^^^^^^^^^^^^^^^^^^^^^^^^^^^^^^^^^^^^^^^^^^^^^^^^^\n",
      "  File \"/Users/romanofoti/Library/Caches/pypoetry/virtualenvs/doppiozero-AQeo1sYh-py3.12/lib/python3.12/site-packages/openai/_base_client.py\", line 1047, in request\n",
      "    raise self._make_status_error_from_response(err.response) from None\n",
      "openai.NotFoundError: Error code: 404 - {'error': {'code': 'DeploymentNotFound', 'message': 'The API deployment for this resource does not exist. If you created the deployment within the last 5 minutes, please wait a moment and try again.'}}\n",
      "2025-09-05 19:54:27,509 - doppiozero.clients.github - github.py          - __init__     - INFO     - Using GitHub API token ending with 8FMV\n",
      "2025-09-05 19:54:27,934 - doppiozero.contents - contents.py        - vector_search - ERROR    - GitHub fallback search failed: 401 {\"message\": \"Bad credentials\", \"documentation_url\": \"https://docs.github.com/rest\", \"status\": \"401\"}\n",
      "2025-09-05 19:54:28,423 - httpx      - _client.py         - _send_single_request - INFO     - HTTP Request: POST https://spamurai-eastus2.openai.azure.com/openai/deployments/text-embedding-3-small/embeddings?api-version=2024-12-01-preview \"HTTP/1.1 404 DeploymentNotFound\"\n",
      "2025-09-05 19:54:28,428 - doppiozero.clients.llm - llm.py             - embed        - ERROR    - Embeddings request failed; falling back to stub embedding\n",
      "Traceback (most recent call last):\n",
      "  File \"/Users/romanofoti/romanofoti/doppiozero/doppiozero/clients/llm.py\", line 236, in embed\n",
      "    response_dc = self._call_openai_api(text, request_type=\"embed\", model=model_name)\n",
      "                  ^^^^^^^^^^^^^^^^^^^^^^^^^^^^^^^^^^^^^^^^^^^^^^^^^^^^^^^^^^^^^^^^^^^\n",
      "  File \"/Users/romanofoti/romanofoti/doppiozero/doppiozero/clients/llm.py\", line 159, in _call_openai_api\n",
      "    resp = client.embeddings.create(model=model_name, input=prompt).dict()\n",
      "           ^^^^^^^^^^^^^^^^^^^^^^^^^^^^^^^^^^^^^^^^^^^^^^^^^^^^^^^^\n",
      "  File \"/Users/romanofoti/Library/Caches/pypoetry/virtualenvs/doppiozero-AQeo1sYh-py3.12/lib/python3.12/site-packages/openai/resources/embeddings.py\", line 132, in create\n",
      "    return self._post(\n",
      "           ^^^^^^^^^^^\n",
      "  File \"/Users/romanofoti/Library/Caches/pypoetry/virtualenvs/doppiozero-AQeo1sYh-py3.12/lib/python3.12/site-packages/openai/_base_client.py\", line 1259, in post\n",
      "    return cast(ResponseT, self.request(cast_to, opts, stream=stream, stream_cls=stream_cls))\n",
      "                           ^^^^^^^^^^^^^^^^^^^^^^^^^^^^^^^^^^^^^^^^^^^^^^^^^^^^^^^^^^^^^^^^^\n",
      "  File \"/Users/romanofoti/Library/Caches/pypoetry/virtualenvs/doppiozero-AQeo1sYh-py3.12/lib/python3.12/site-packages/openai/_base_client.py\", line 1047, in request\n",
      "    raise self._make_status_error_from_response(err.response) from None\n",
      "openai.NotFoundError: Error code: 404 - {'error': {'code': 'DeploymentNotFound', 'message': 'The API deployment for this resource does not exist. If you created the deployment within the last 5 minutes, please wait a moment and try again.'}}\n",
      "2025-09-05 19:54:28,430 - doppiozero.clients.github - github.py          - __init__     - INFO     - Using GitHub API token ending with 8FMV\n",
      "2025-09-05 19:54:28,776 - doppiozero.contents - contents.py        - vector_search - ERROR    - GitHub fallback search failed: 401 {\"message\": \"Bad credentials\", \"documentation_url\": \"https://docs.github.com/rest\", \"status\": \"401\"}\n",
      "2025-09-05 19:54:31,693 - httpx      - _client.py         - _send_single_request - INFO     - HTTP Request: POST https://spamurai-eastus2.openai.azure.com/openai/deployments/gpt-5-mini/chat/completions?api-version=2024-12-01-preview \"HTTP/1.1 200 OK\"\n",
      "2025-09-05 19:54:31,697 - doppiozero.nodes.claim_verifier - claim_verifier.py  - exec         - INFO     - ✗ Claim unsupported: Claim 2\n",
      "2025-09-05 19:54:31,697 - doppiozero.nodes.claim_verifier - claim_verifier.py  - post         - INFO     - ✓ Claim verification complete: 2 claims checked.\n",
      "2025-09-05 19:54:31,698 - doppiozero.nodes.claim_verifier - claim_verifier.py  - post         - INFO     - Verification incomplete: 2 claims; retrying attempt 1/1.\n",
      "2025-09-05 19:54:31,699 - doppiozero.nodes.planner - planner.py         - prep         - INFO     - === PLANNING PHASE ===\n",
      "2025-09-05 19:54:31,703 - doppiozero.nodes.planner - planner.py         - prep         - INFO     - === PLANNING PHASE (Iteration 2/1) ===\n",
      "2025-09-05 19:54:31,707 - doppiozero.nodes.planner - planner.py         - prep         - INFO     - Focusing search on gathering evidence for 2 unsupported claims\n",
      "2025-09-05 19:54:40,297 - httpx      - _client.py         - _send_single_request - INFO     - HTTP Request: POST https://spamurai-eastus2.openai.azure.com/openai/deployments/gpt-5-mini/chat/completions?api-version=2024-12-01-preview \"HTTP/1.1 200 OK\"\n",
      "2025-09-05 19:54:40,302 - doppiozero.nodes.planner - planner.py         - prep         - INFO     - Generated claim verification search plan: {'query': 'Find recent discussions (issues, pull requests, and comments) about authentication failures across the repositories \\'doppiozero\\' and \\'financial-planning\\'. Include results containing keywords such as \"authentication failure\", \"auth failed\", \"login failed\", \"signin failed\", \"401\", \"unauthorized\", \"token expired\", \"invalid credentials\", \"SSO\", \"OAuth\", and \"JWT\".', 'created_after': '2025-06-01T00:00:00Z', 'created_before': '2025-09-05T23:59:59Z', 'order_by': 'created_desc'}\n",
      "2025-09-05 19:54:40,303 - doppiozero.nodes.planner - planner.py         - exec         - INFO     - Transforming queries into search plans...\n",
      "2025-09-05 19:54:40,305 - doppiozero.nodes.planner - planner.py         - post         - INFO     - ✓ Planning complete, generated 1 search plans\n",
      "2025-09-05 19:54:40,306 - doppiozero.nodes.retriever - retriever.py       - prep         - INFO     - === RETRIEVAL PHASE ===\n",
      "2025-09-05 19:54:40,320 - doppiozero.nodes.retriever - retriever.py       - exec         - INFO     - Executing search operations and retrieving data...\n",
      "2025-09-05 19:54:40,846 - httpx      - _client.py         - _send_single_request - INFO     - HTTP Request: POST https://spamurai-eastus2.openai.azure.com/openai/deployments/text-embedding-3-small/embeddings?api-version=2024-12-01-preview \"HTTP/1.1 404 DeploymentNotFound\"\n",
      "2025-09-05 19:54:40,851 - doppiozero.clients.llm - llm.py             - embed        - ERROR    - Embeddings request failed; falling back to stub embedding\n",
      "Traceback (most recent call last):\n",
      "  File \"/Users/romanofoti/romanofoti/doppiozero/doppiozero/clients/llm.py\", line 236, in embed\n",
      "    response_dc = self._call_openai_api(text, request_type=\"embed\", model=model_name)\n",
      "                  ^^^^^^^^^^^^^^^^^^^^^^^^^^^^^^^^^^^^^^^^^^^^^^^^^^^^^^^^^^^^^^^^^^^\n",
      "  File \"/Users/romanofoti/romanofoti/doppiozero/doppiozero/clients/llm.py\", line 159, in _call_openai_api\n",
      "    resp = client.embeddings.create(model=model_name, input=prompt).dict()\n",
      "           ^^^^^^^^^^^^^^^^^^^^^^^^^^^^^^^^^^^^^^^^^^^^^^^^^^^^^^^^\n",
      "  File \"/Users/romanofoti/Library/Caches/pypoetry/virtualenvs/doppiozero-AQeo1sYh-py3.12/lib/python3.12/site-packages/openai/resources/embeddings.py\", line 132, in create\n",
      "    return self._post(\n",
      "           ^^^^^^^^^^^\n",
      "  File \"/Users/romanofoti/Library/Caches/pypoetry/virtualenvs/doppiozero-AQeo1sYh-py3.12/lib/python3.12/site-packages/openai/_base_client.py\", line 1259, in post\n",
      "    return cast(ResponseT, self.request(cast_to, opts, stream=stream, stream_cls=stream_cls))\n",
      "                           ^^^^^^^^^^^^^^^^^^^^^^^^^^^^^^^^^^^^^^^^^^^^^^^^^^^^^^^^^^^^^^^^^\n",
      "  File \"/Users/romanofoti/Library/Caches/pypoetry/virtualenvs/doppiozero-AQeo1sYh-py3.12/lib/python3.12/site-packages/openai/_base_client.py\", line 1047, in request\n",
      "    raise self._make_status_error_from_response(err.response) from None\n",
      "openai.NotFoundError: Error code: 404 - {'error': {'code': 'DeploymentNotFound', 'message': 'The API deployment for this resource does not exist. If you created the deployment within the last 5 minutes, please wait a moment and try again.'}}\n",
      "2025-09-05 19:54:40,869 - doppiozero.clients.github - github.py          - __init__     - INFO     - Using GitHub API token ending with 8FMV\n",
      "2025-09-05 19:54:41,196 - doppiozero.contents - contents.py        - vector_search - ERROR    - GitHub fallback search failed: 401 {\"message\": \"Bad credentials\", \"documentation_url\": \"https://docs.github.com/rest\", \"status\": \"401\"}\n",
      "2025-09-05 19:54:41,202 - doppiozero.nodes.retriever - retriever.py       - post         - INFO     - Iteration 2: executed 1 queries; added 0 new unique conversations (total=0).\n",
      "2025-09-05 19:54:41,202 - doppiozero.nodes.reporter - reporter.py        - prep         - INFO     - === FINAL REPORT PHASE ===\n",
      "2025-09-05 19:54:41,208 - doppiozero.nodes.reporter - reporter.py        - prep         - INFO     - Generating final report from all gathered data...\n",
      "2025-09-05 19:54:41,222 - doppiozero.nodes.reporter - reporter.py        - prep         - INFO     - Research summary: 0 conversations analyzed, 3 queries used, 2 deep research iterations\n",
      "2025-09-05 19:54:58,097 - httpx      - _client.py         - _send_single_request - INFO     - HTTP Request: POST https://spamurai-eastus2.openai.azure.com/openai/deployments/gpt-5-mini/chat/completions?api-version=2024-12-01-preview \"HTTP/1.1 200 OK\"\n",
      "2025-09-05 19:54:58,101 - doppiozero.nodes.reporter - reporter.py        - post         - INFO     - === FINAL REPORT ===\n",
      "\n",
      "\n",
      "2025-09-05 19:54:58,103 - doppiozero.nodes.reporter - reporter.py        - post         - INFO     - {'id': 'chatcmpl-CCUvx7KKKEDI2VKBU007QJHgEO904', 'choices': [{'finish_reason': 'length', 'index': 0, 'logprobs': None, 'message': {'content': '', 'refusal': None, 'role': 'assistant', 'annotations': [], 'audio': None, 'function_call': None, 'tool_calls': None}, 'content_filter_results': {}}], 'created': 1757094881, 'model': 'gpt-5-mini-2025-08-07', 'object': 'chat.completion', 'service_tier': None, 'system_fingerprint': None, 'usage': {'completion_tokens': 1024, 'prompt_tokens': 153, 'total_tokens': 1177, 'completion_tokens_details': {'accepted_prediction_tokens': 0, 'audio_tokens': 0, 'reasoning_tokens': 1024, 'rejected_prediction_tokens': 0}, 'prompt_tokens_details': {'audio_tokens': 0, 'cached_tokens': 0}}, 'prompt_filter_results': [{'prompt_index': 0, 'content_filter_results': {'hate': {'filtered': False, 'severity': 'safe'}, 'jailbreak': {'filtered': False, 'detected': False}, 'self_harm': {'filtered': False, 'severity': 'safe'}, 'sexual': {'filtered': False, 'severity': 'safe'}, 'violence': {'filtered': False, 'severity': 'safe'}}}]}\n",
      "2025-09-05 19:54:58,109 - doppiozero.nodes.reporter - reporter.py        - post         - INFO     - \n",
      "\n",
      "---\n",
      "\n",
      "\n",
      "2025-09-05 19:54:58,120 - doppiozero.nodes.reporter - reporter.py        - post         - INFO     - **Note**: The following 2 claims could not be fully verified against the available evidence:\n",
      "2025-09-05 19:54:58,120 - doppiozero.nodes.reporter - reporter.py        - post         - INFO     - 1. Claim 1\n",
      "2025-09-05 19:54:58,120 - doppiozero.nodes.reporter - reporter.py        - post         - INFO     - 2. Claim 2\n",
      "2025-09-05 19:54:58,121 - doppiozero.nodes.reporter - reporter.py        - post         - INFO     - \n",
      "\n",
      "✓ Research complete! Total conversations analyzed: 0, 2 claims verified (0 supported, 2 unsupported)\n",
      "2025-09-05 19:54:58,121 - doppiozero.nodes.end - end.py             - exec         - INFO     - End node: terminating workflow and returning results.\n"
     ]
    },
    {
     "name": "stdout",
     "output_type": "stream",
     "text": [
      "=== AGENT RUN RESULT ===\n",
      "{'claims_verified': 0,\n",
      " 'draft': \"{'id': 'chatcmpl-CCUvx7KKKEDI2VKBU007QJHgEO904', 'choices': \"\n",
      "          \"[{'finish_reason': 'length', 'index': 0, 'logprobs': None, \"\n",
      "          \"'message': {'content': '', 'refusal': None, 'role': 'assistant', \"\n",
      "          \"'annotations': [], 'audio': None, 'function_call': None, \"\n",
      "          \"'tool_calls': None}, 'content_filter_results': {}}], 'created': \"\n",
      "          \"1757094881, 'model': 'gpt-5-mini-2025-08-07', 'object': \"\n",
      "          \"'chat.completion', 'service_tier': None, 'system_fingerprint': \"\n",
      "          \"None, 'usage': {'completion_tokens': 1024, 'prompt_tokens': 153, \"\n",
      "          \"'total_tokens': 1177, 'completion_tokens_details': \"\n",
      "          \"{'accepted_prediction_tokens': 0, 'audio_tokens': 0, \"\n",
      "          \"'reasoning_tokens': 1024, 'rejected_prediction_tokens': 0}, \"\n",
      "          \"'prompt_tokens_details': {'audio_tokens': 0, 'cached_tokens': 0}}, \"\n",
      "          \"'prompt_filter_results': [{'prompt_index': 0, \"\n",
      "          \"'content_filter_results': {'hate': {'filtered': False, 'severity': \"\n",
      "          \"'safe'}, 'jailbreak': {'filtered': False, 'detected': False}, \"\n",
      "          \"'self_harm': {'filtered': False, 'severity': 'safe'}, 'sexual': \"\n",
      "          \"{'filtered': False, 'severity': 'safe'}, 'violence': {'filtered': \"\n",
      "          \"False, 'severity': 'safe'}}}]}\",\n",
      " 'num_conversations': 0,\n",
      " 'unsupported_claims': ['Claim 1', 'Claim 2']}\n",
      "=== SHARED STATE ===\n",
      "{'cache_path': None,\n",
      " 'claim_verification': {'details': [{'claim': 'Claim 1',\n",
      "                                     'evidence': [],\n",
      "                                     'reasoning': 'no_support_found',\n",
      "                                     'status': 'unsupported'},\n",
      "                                    {'claim': 'Claim 2',\n",
      "                                     'evidence': [],\n",
      "                                     'reasoning': 'no_support_found',\n",
      "                                     'status': 'unsupported'}],\n",
      "                        'insufficient_claims': [],\n",
      "                        'supported_claims': [],\n",
      "                        'total_claims': 2,\n",
      "                        'unsupported_claims': ['Claim 1', 'Claim 2'],\n",
      "                        'verification_errors': 0},\n",
      " 'claim_verification_completed': True,\n",
      " 'clarifications': 'Q: What is the main goal?\\n'\n",
      "                   'A: Find recent authentication failure discussions across '\n",
      "                   'repos.\\n'\n",
      "                   '\\n'\n",
      "                   'Q: Are there specific repos to focus on?\\n'\n",
      "                   'A: doppiozero and financial-planning.\\n',\n",
      " 'clarifying_qa': PosixPath('/Users/romanofoti/romanofoti/doppiozero/clarifying_answers.txt'),\n",
      " 'collection': None,\n",
      " 'current_depth': 2,\n",
      " 'current_query': {'created_after': '2025-06-01T00:00:00Z',\n",
      "                   'created_before': '2025-09-05T23:59:59Z',\n",
      "                   'order_by': 'created_desc',\n",
      "                   'query': 'Find recent discussions (issues, pull requests, '\n",
      "                            'and comments) about authentication failures '\n",
      "                            \"across the repositories 'doppiozero' and \"\n",
      "                            \"'financial-planning'. Include results containing \"\n",
      "                            'keywords such as \"authentication failure\", \"auth '\n",
      "                            'failed\", \"login failed\", \"signin failed\", \"401\", '\n",
      "                            '\"unauthorized\", \"token expired\", \"invalid '\n",
      "                            'credentials\", \"SSO\", \"OAuth\", and \"JWT\".'},\n",
      " 'done': False,\n",
      " 'draft_answer': \"{'id': 'chatcmpl-CCUvx7KKKEDI2VKBU007QJHgEO904', 'choices': \"\n",
      "                 \"[{'finish_reason': 'length', 'index': 0, 'logprobs': None, \"\n",
      "                 \"'message': {'content': '', 'refusal': None, 'role': \"\n",
      "                 \"'assistant', 'annotations': [], 'audio': None, \"\n",
      "                 \"'function_call': None, 'tool_calls': None}, \"\n",
      "                 \"'content_filter_results': {}}], 'created': 1757094881, \"\n",
      "                 \"'model': 'gpt-5-mini-2025-08-07', 'object': \"\n",
      "                 \"'chat.completion', 'service_tier': None, \"\n",
      "                 \"'system_fingerprint': None, 'usage': {'completion_tokens': \"\n",
      "                 \"1024, 'prompt_tokens': 153, 'total_tokens': 1177, \"\n",
      "                 \"'completion_tokens_details': {'accepted_prediction_tokens': \"\n",
      "                 \"0, 'audio_tokens': 0, 'reasoning_tokens': 1024, \"\n",
      "                 \"'rejected_prediction_tokens': 0}, 'prompt_tokens_details': \"\n",
      "                 \"{'audio_tokens': 0, 'cached_tokens': 0}}, \"\n",
      "                 \"'prompt_filter_results': [{'prompt_index': 0, \"\n",
      "                 \"'content_filter_results': {'hate': {'filtered': False, \"\n",
      "                 \"'severity': 'safe'}, 'jailbreak': {'filtered': False, \"\n",
      "                 \"'detected': False}, 'self_harm': {'filtered': False, \"\n",
      "                 \"'severity': 'safe'}, 'sexual': {'filtered': False, \"\n",
      "                 \"'severity': 'safe'}, 'violence': {'filtered': False, \"\n",
      "                 \"'severity': 'safe'}}}]}\",\n",
      " 'editor_file': None,\n",
      " 'final_report': {'claims_verified': 0,\n",
      "                  'draft': \"{'id': 'chatcmpl-CCUvx7KKKEDI2VKBU007QJHgEO904', \"\n",
      "                           \"'choices': [{'finish_reason': 'length', 'index': \"\n",
      "                           \"0, 'logprobs': None, 'message': {'content': '', \"\n",
      "                           \"'refusal': None, 'role': 'assistant', \"\n",
      "                           \"'annotations': [], 'audio': None, 'function_call': \"\n",
      "                           \"None, 'tool_calls': None}, \"\n",
      "                           \"'content_filter_results': {}}], 'created': \"\n",
      "                           \"1757094881, 'model': 'gpt-5-mini-2025-08-07', \"\n",
      "                           \"'object': 'chat.completion', 'service_tier': None, \"\n",
      "                           \"'system_fingerprint': None, 'usage': \"\n",
      "                           \"{'completion_tokens': 1024, 'prompt_tokens': 153, \"\n",
      "                           \"'total_tokens': 1177, 'completion_tokens_details': \"\n",
      "                           \"{'accepted_prediction_tokens': 0, 'audio_tokens': \"\n",
      "                           \"0, 'reasoning_tokens': 1024, \"\n",
      "                           \"'rejected_prediction_tokens': 0}, \"\n",
      "                           \"'prompt_tokens_details': {'audio_tokens': 0, \"\n",
      "                           \"'cached_tokens': 0}}, 'prompt_filter_results': \"\n",
      "                           \"[{'prompt_index': 0, 'content_filter_results': \"\n",
      "                           \"{'hate': {'filtered': False, 'severity': 'safe'}, \"\n",
      "                           \"'jailbreak': {'filtered': False, 'detected': \"\n",
      "                           \"False}, 'self_harm': {'filtered': False, \"\n",
      "                           \"'severity': 'safe'}, 'sexual': {'filtered': False, \"\n",
      "                           \"'severity': 'safe'}, 'violence': {'filtered': \"\n",
      "                           \"False, 'severity': 'safe'}}}]}\",\n",
      "                  'num_conversations': 0,\n",
      "                  'unsupported_claims': ['Claim 1', 'Claim 2']},\n",
      " 'max_depth': 1,\n",
      " 'memory': {'hits': [],\n",
      "            'notes': ['Iteration 1: executed 1 queries; added 0 new unique '\n",
      "                      'conversations (total=0).',\n",
      "                      'Iteration 2: executed 1 queries; added 0 new unique '\n",
      "                      'conversations (total=0).'],\n",
      "            'search_queries': ['What are the recent discussions about '\n",
      "                               'authentication failures?',\n",
      "                               'What are the recent discussions about '\n",
      "                               'authentication failures?',\n",
      "                               'Find recent discussions (issues, pull '\n",
      "                               'requests, and comments) about authentication '\n",
      "                               \"failures across the repositories 'doppiozero' \"\n",
      "                               \"and 'financial-planning'. Include results \"\n",
      "                               'containing keywords such as \"authentication '\n",
      "                               'failure\", \"auth failed\", \"login failed\", '\n",
      "                               '\"signin failed\", \"401\", \"unauthorized\", \"token '\n",
      "                               'expired\", \"invalid credentials\", \"SSO\", '\n",
      "                               '\"OAuth\", and \"JWT\".']},\n",
      " 'models': {'embed': 'default', 'fast': 'default', 'reasoning': 'default'},\n",
      " 'next_search_plans': [{'created_after': '2025-06-01T00:00:00Z',\n",
      "                        'created_before': '2025-09-05T23:59:59Z',\n",
      "                        'order_by': 'created_desc',\n",
      "                        'query': 'Find recent discussions (issues, pull '\n",
      "                                 'requests, and comments) about authentication '\n",
      "                                 'failures across the repositories '\n",
      "                                 \"'doppiozero' and 'financial-planning'. \"\n",
      "                                 'Include results containing keywords such as '\n",
      "                                 '\"authentication failure\", \"auth failed\", '\n",
      "                                 '\"login failed\", \"signin failed\", \"401\", '\n",
      "                                 '\"unauthorized\", \"token expired\", \"invalid '\n",
      "                                 'credentials\", \"SSO\", \"OAuth\", and \"JWT\".',\n",
      "                        'tool': 'semantic'}],\n",
      " 'parallel': False,\n",
      " 'request': 'What are the recent discussions about authentication failures?',\n",
      " 'script_dir': 'scripts',\n",
      " 'search_modes': ['semantic'],\n",
      " 'top_k': 3,\n",
      " 'unsupported_claims': ['Claim 1', 'Claim 2'],\n",
      " 'verbose': True,\n",
      " 'verification_attempts': 1}\n"
     ]
    },
    {
     "name": "stderr",
     "output_type": "stream",
     "text": [
      "2025-09-04 15:46:20,239 - doppiozero.agents.gh_deep_search - gh_deep_search.py  - run          - INFO     - Max deep research iterations: 1\n"
     ]
    },
    {
     "name": "stderr",
     "output_type": "stream",
     "text": [
      "2025-09-04 15:46:20,239 - doppiozero.agents.gh_deep_search - gh_deep_search.py  - run          - INFO     - Fast model: default\n"
     ]
    },
    {
     "name": "stderr",
     "output_type": "stream",
     "text": [
      "2025-09-04 15:46:20,239 - doppiozero.agents.gh_deep_search - gh_deep_search.py  - run          - INFO     - Reasoning model: default\n"
     ]
    },
    {
     "name": "stderr",
     "output_type": "stream",
     "text": [
      "2025-09-04 15:46:20,239 - doppiozero.nodes.researcher - researcher.py      - prep         - INFO     - === INITIAL RESEARCH PHASE ===\n"
     ]
    },
    {
     "name": "stderr",
     "output_type": "stream",
     "text": [
      "2025-09-04 15:46:20,240 - doppiozero.nodes.researcher - researcher.py      - prep         - INFO     - Starting initial semantic search for: What are the recent discussions about authentication failures?\n"
     ]
    },
    {
     "name": "stderr",
     "output_type": "stream",
     "text": [
      "2025-09-04 15:46:20,240 - doppiozero.nodes.researcher - researcher.py      - exec         - INFO     - Executing initial semantic search and enriching results...\n"
     ]
    },
    {
     "name": "stderr",
     "output_type": "stream",
     "text": [
      "2025-09-04 15:46:20,240 - doppiozero.nodes.researcher - researcher.py      - exec         - INFO     - Searching (pass 1): What are the recent discussions about authentication failures? (pass 1)\n"
     ]
    },
    {
     "name": "stderr",
     "output_type": "stream",
     "text": [
      "2025-09-04 15:46:20,240 - doppiozero.nodes.researcher - researcher.py      - exec         - INFO     - Fetching conversation: https://example.com/convo/0\n"
     ]
    },
    {
     "name": "stderr",
     "output_type": "stream",
     "text": [
      "2025-09-04 15:46:20,241 - doppiozero.nodes.researcher - researcher.py      - exec         - INFO     - Fetching conversation: https://example.com/convo/1\n"
     ]
    },
    {
     "name": "stderr",
     "output_type": "stream",
     "text": [
      "2025-09-04 15:46:20,241 - doppiozero.nodes.researcher - researcher.py      - exec         - INFO     - Fetching conversation: https://example.com/convo/2\n"
     ]
    },
    {
     "name": "stderr",
     "output_type": "stream",
     "text": [
      "2025-09-04 15:46:20,241 - doppiozero.nodes.researcher - researcher.py      - exec         - INFO     - ✓ Initial research complete: 3 conversations collected\n"
     ]
    },
    {
     "name": "stderr",
     "output_type": "stream",
     "text": [
      "2025-09-04 15:46:20,241 - doppiozero.nodes.researcher - researcher.py      - post         - INFO     - ✓ Initial research complete: 3 conversations collected\n"
     ]
    },
    {
     "name": "stderr",
     "output_type": "stream",
     "text": [
      "2025-09-04 15:46:20,241 - doppiozero.nodes.clarifier - clarifier.py       - prep         - INFO     - === CLARIFYING QUESTIONS PHASE ===\n"
     ]
    },
    {
     "name": "stderr",
     "output_type": "stream",
     "text": [
      "2025-09-04 15:46:20,242 - doppiozero.nodes.clarifier - clarifier.py       - exec         - INFO     - Presenting clarifying questions to user...\n"
     ]
    },
    {
     "name": "stderr",
     "output_type": "stream",
     "text": [
      "2025-09-04 15:46:20,242 - doppiozero.nodes.clarifier - clarifier.py       - post         - INFO     - Clarifications stored.\n"
     ]
    },
    {
     "name": "stderr",
     "output_type": "stream",
     "text": [
      "2025-09-04 15:46:20,243 - doppiozero.nodes.planner - planner.py         - prep         - INFO     - === PLANNING PHASE ===\n"
     ]
    },
    {
     "name": "stderr",
     "output_type": "stream",
     "text": [
      "2025-09-04 15:46:20,243 - doppiozero.nodes.planner - planner.py         - prep         - INFO     - === PLANNING PHASE (Iteration 1/1) ===\n"
     ]
    },
    {
     "name": "stderr",
     "output_type": "stream",
     "text": [
      "2025-09-04 15:46:20,243 - doppiozero.nodes.planner - planner.py         - exec         - INFO     - Transforming queries into search plans...\n"
     ]
    },
    {
     "name": "stderr",
     "output_type": "stream",
     "text": [
      "2025-09-04 15:46:20,243 - doppiozero.nodes.planner - planner.py         - post         - INFO     - ✓ Planning complete, generated 1 search plans\n"
     ]
    },
    {
     "name": "stderr",
     "output_type": "stream",
     "text": [
      "2025-09-04 15:46:20,244 - doppiozero.nodes.retriever - retriever.py       - prep         - INFO     - === RETRIEVAL PHASE ===\n"
     ]
    },
    {
     "name": "stderr",
     "output_type": "stream",
     "text": [
      "2025-09-04 15:46:20,244 - doppiozero.nodes.retriever - retriever.py       - exec         - INFO     - Executing search operations and retrieving data...\n"
     ]
    },
    {
     "name": "stderr",
     "output_type": "stream",
     "text": [
      "2025-09-04 15:46:20,244 - doppiozero.nodes.retriever - retriever.py       - post         - INFO     - Added 5 new conversations to memory.\n"
     ]
    },
    {
     "name": "stderr",
     "output_type": "stream",
     "text": [
      "2025-09-04 15:46:20,244 - doppiozero.nodes.reporter - reporter.py        - prep         - INFO     - === FINAL REPORT PHASE ===\n"
     ]
    },
    {
     "name": "stderr",
     "output_type": "stream",
     "text": [
      "2025-09-04 15:46:20,244 - doppiozero.nodes.reporter - reporter.py        - prep         - INFO     - Generating final report from all gathered data...\n"
     ]
    },
    {
     "name": "stderr",
     "output_type": "stream",
     "text": [
      "2025-09-04 15:46:20,244 - doppiozero.nodes.reporter - reporter.py        - prep         - INFO     - Research summary: 8 conversations analyzed, 2 queries used, 1 deep research iterations\n"
     ]
    },
    {
     "name": "stderr",
     "output_type": "stream",
     "text": [
      "2025-09-04 15:46:20,245 - doppiozero.nodes.reporter - reporter.py        - post         - INFO     - Routing to claim verification before final output\n"
     ]
    },
    {
     "name": "stderr",
     "output_type": "stream",
     "text": [
      "2025-09-04 15:46:20,245 - doppiozero.nodes.claim_verifier - claim_verifier.py  - prep         - INFO     - === CLAIM VERIFICATION PHASE ===\n"
     ]
    },
    {
     "name": "stderr",
     "output_type": "stream",
     "text": [
      "2025-09-04 15:46:20,246 - doppiozero.nodes.claim_verifier - claim_verifier.py  - exec         - INFO     - Verifying 2 claims against evidence...\n"
     ]
    },
    {
     "name": "stderr",
     "output_type": "stream",
     "text": [
      "2025-09-04 15:46:20,246 - doppiozero.nodes.claim_verifier - claim_verifier.py  - exec         - INFO     - ✗ Claim unsupported: Claim 1\n"
     ]
    },
    {
     "name": "stderr",
     "output_type": "stream",
     "text": [
      "2025-09-04 15:46:20,246 - doppiozero.nodes.claim_verifier - claim_verifier.py  - exec         - INFO     - ✗ Claim unsupported: Claim 2\n"
     ]
    },
    {
     "name": "stderr",
     "output_type": "stream",
     "text": [
      "2025-09-04 15:46:20,247 - doppiozero.nodes.claim_verifier - claim_verifier.py  - post         - INFO     - ✓ Claim verification complete: 2 claims checked.\n"
     ]
    },
    {
     "name": "stderr",
     "output_type": "stream",
     "text": [
      "2025-09-04 15:46:20,247 - doppiozero.nodes.claim_verifier - claim_verifier.py  - post         - INFO     - Verification incomplete: 2 claims; retrying attempt 1/1.\n"
     ]
    },
    {
     "name": "stderr",
     "output_type": "stream",
     "text": [
      "2025-09-04 15:46:20,247 - doppiozero.nodes.planner - planner.py         - prep         - INFO     - === PLANNING PHASE ===\n"
     ]
    },
    {
     "name": "stderr",
     "output_type": "stream",
     "text": [
      "2025-09-04 15:46:20,247 - doppiozero.nodes.planner - planner.py         - prep         - INFO     - === PLANNING PHASE (Iteration 2/1) ===\n"
     ]
    },
    {
     "name": "stderr",
     "output_type": "stream",
     "text": [
      "2025-09-04 15:46:20,248 - doppiozero.nodes.planner - planner.py         - prep         - INFO     - Focusing search on gathering evidence for 2 unsupported claims\n"
     ]
    },
    {
     "name": "stderr",
     "output_type": "stream",
     "text": [
      "2025-09-04 15:46:20,248 - doppiozero.nodes.planner - planner.py         - prep         - INFO     - Generated claim verification search plan: {}\n"
     ]
    },
    {
     "name": "stderr",
     "output_type": "stream",
     "text": [
      "2025-09-04 15:46:20,248 - doppiozero.nodes.planner - planner.py         - exec         - INFO     - Transforming queries into search plans...\n"
     ]
    },
    {
     "name": "stderr",
     "output_type": "stream",
     "text": [
      "2025-09-04 15:46:20,248 - doppiozero.nodes.planner - planner.py         - post         - INFO     - ✓ Planning complete, generated 1 search plans\n"
     ]
    },
    {
     "name": "stderr",
     "output_type": "stream",
     "text": [
      "2025-09-04 15:46:20,248 - doppiozero.nodes.retriever - retriever.py       - prep         - INFO     - === RETRIEVAL PHASE ===\n"
     ]
    },
    {
     "name": "stderr",
     "output_type": "stream",
     "text": [
      "2025-09-04 15:46:20,248 - doppiozero.nodes.retriever - retriever.py       - exec         - INFO     - Executing search operations and retrieving data...\n"
     ]
    },
    {
     "name": "stderr",
     "output_type": "stream",
     "text": [
      "2025-09-04 15:46:20,249 - doppiozero.nodes.retriever - retriever.py       - post         - INFO     - Added 5 new conversations to memory.\n"
     ]
    },
    {
     "name": "stderr",
     "output_type": "stream",
     "text": [
      "2025-09-04 15:46:20,249 - doppiozero.nodes.reporter - reporter.py        - prep         - INFO     - === FINAL REPORT PHASE ===\n"
     ]
    },
    {
     "name": "stderr",
     "output_type": "stream",
     "text": [
      "2025-09-04 15:46:20,249 - doppiozero.nodes.reporter - reporter.py        - prep         - INFO     - Generating final report from all gathered data...\n"
     ]
    },
    {
     "name": "stderr",
     "output_type": "stream",
     "text": [
      "2025-09-04 15:46:20,249 - doppiozero.nodes.reporter - reporter.py        - prep         - INFO     - Research summary: 13 conversations analyzed, 3 queries used, 2 deep research iterations\n"
     ]
    },
    {
     "name": "stderr",
     "output_type": "stream",
     "text": [
      "2025-09-04 15:46:20,250 - doppiozero.nodes.reporter - reporter.py        - post         - INFO     - === FINAL REPORT ===\n",
      "\n",
      "\n"
     ]
    },
    {
     "name": "stderr",
     "output_type": "stream",
     "text": [
      "2025-09-04 15:46:20,250 - doppiozero.nodes.reporter - reporter.py        - post         - INFO     - {}\n"
     ]
    },
    {
     "name": "stderr",
     "output_type": "stream",
     "text": [
      "2025-09-04 15:46:20,250 - doppiozero.nodes.reporter - reporter.py        - post         - INFO     - \n",
      "\n",
      "---\n",
      "\n",
      "\n"
     ]
    },
    {
     "name": "stderr",
     "output_type": "stream",
     "text": [
      "2025-09-04 15:46:20,250 - doppiozero.nodes.reporter - reporter.py        - post         - INFO     - **Note**: The following 2 claims could not be fully verified against the available evidence:\n"
     ]
    },
    {
     "name": "stderr",
     "output_type": "stream",
     "text": [
      "2025-09-04 15:46:20,250 - doppiozero.nodes.reporter - reporter.py        - post         - INFO     - 1. Claim 1\n"
     ]
    },
    {
     "name": "stderr",
     "output_type": "stream",
     "text": [
      "2025-09-04 15:46:20,250 - doppiozero.nodes.reporter - reporter.py        - post         - INFO     - 2. Claim 2\n"
     ]
    },
    {
     "name": "stderr",
     "output_type": "stream",
     "text": [
      "2025-09-04 15:46:20,251 - doppiozero.nodes.reporter - reporter.py        - post         - INFO     - \n",
      "\n",
      "✓ Research complete! Total conversations analyzed: 13, 2 claims verified (0 supported, 2 unsupported)\n"
     ]
    },
    {
     "name": "stderr",
     "output_type": "stream",
     "text": [
      "2025-09-04 15:46:20,251 - doppiozero.nodes.end - end.py             - exec         - INFO     - End node: terminating workflow and returning results.\n"
     ]
    },
    {
     "name": "stdout",
     "output_type": "stream",
     "text": [
      "=== AGENT RUN RESULT ===\n",
      "{'claims_verified': 0,\n",
      " 'draft': '{}',\n",
      " 'num_conversations': 13,\n",
      " 'unsupported_claims': ['Claim 1', 'Claim 2']}\n",
      "=== SHARED STATE ===\n",
      "{'cache_path': None,\n",
      " 'claim_verification': {'details': [{'claim': 'Claim 1',\n",
      "                                     'evidence': [{'score': 1.0,\n",
      "                                                   'snippet': 'Summary of '\n",
      "                                                              'Claim 1 #0',\n",
      "                                                   'source': 'https://example.com/convo/0'},\n",
      "                                                  {'score': 0.9,\n",
      "                                                   'snippet': 'Summary of '\n",
      "                                                              'Claim 1 #1',\n",
      "                                                   'source': 'https://example.com/convo/1'},\n",
      "                                                  {'score': 0.8,\n",
      "                                                   'snippet': 'Summary of '\n",
      "                                                              'Claim 1 #2',\n",
      "                                                   'source': 'https://example.com/convo/2'},\n",
      "                                                  {'score': 0.7,\n",
      "                                                   'snippet': 'Summary of '\n",
      "                                                              'Claim 1 #3',\n",
      "                                                   'source': 'https://example.com/convo/3'},\n",
      "                                                  {'score': 0.6,\n",
      "                                                   'snippet': 'Summary of '\n",
      "                                                              'Claim 1 #4',\n",
      "                                                   'source': 'https://example.com/convo/4'}],\n",
      "                                     'reasoning': 'no_support_found',\n",
      "                                     'status': 'unsupported'},\n",
      "                                    {'claim': 'Claim 2',\n",
      "                                     'evidence': [{'score': 1.0,\n",
      "                                                   'snippet': 'Summary of '\n",
      "                                                              'Claim 2 #0',\n",
      "                                                   'source': 'https://example.com/convo/0'},\n",
      "                                                  {'score': 0.9,\n",
      "                                                   'snippet': 'Summary of '\n",
      "                                                              'Claim 2 #1',\n",
      "                                                   'source': 'https://example.com/convo/1'},\n",
      "                                                  {'score': 0.8,\n",
      "                                                   'snippet': 'Summary of '\n",
      "                                                              'Claim 2 #2',\n",
      "                                                   'source': 'https://example.com/convo/2'},\n",
      "                                                  {'score': 0.7,\n",
      "                                                   'snippet': 'Summary of '\n",
      "                                                              'Claim 2 #3',\n",
      "                                                   'source': 'https://example.com/convo/3'},\n",
      "                                                  {'score': 0.6,\n",
      "                                                   'snippet': 'Summary of '\n",
      "                                                              'Claim 2 #4',\n",
      "                                                   'source': 'https://example.com/convo/4'}],\n",
      "                                     'reasoning': 'no_support_found',\n",
      "                                     'status': 'unsupported'}],\n",
      "                        'insufficient_claims': [],\n",
      "                        'supported_claims': [],\n",
      "                        'total_claims': 2,\n",
      "                        'unsupported_claims': ['Claim 1', 'Claim 2'],\n",
      "                        'verification_errors': 0},\n",
      " 'claim_verification_completed': True,\n",
      " 'clarifications': 'Q: What is the main goal?\\n'\n",
      "                   'A: Find recent authentication failure discussions across '\n",
      "                   'repos.\\n'\n",
      "                   '\\n'\n",
      "                   'Q: Are there specific repos to focus on?\\n'\n",
      "                   'A: doppiozero and financial-planning.\\n',\n",
      " 'clarifying_qa': '/Users/romanofoti/romanofoti/doppiozero/clarifying_answers.txt',\n",
      " 'collection': None,\n",
      " 'current_depth': 2,\n",
      " 'current_query': {},\n",
      " 'done': False,\n",
      " 'draft_answer': '{}',\n",
      " 'editor_file': None,\n",
      " 'final_report': {'claims_verified': 0,\n",
      "                  'draft': '{}',\n",
      "                  'num_conversations': 13,\n",
      "                  'unsupported_claims': ['Claim 1', 'Claim 2']},\n",
      " 'max_depth': 1,\n",
      " 'memory': {'hits': [{'conversation': {'messages': [{'author': 'alice',\n",
      "                                                     'text': 'Initial issue '\n",
      "                                                             'description.'},\n",
      "                                                    {'author': 'bob',\n",
      "                                                     'text': 'Follow-up '\n",
      "                                                             'discussion.'}],\n",
      "                                       'url': 'https://example.com/convo/0'},\n",
      "                      'score': 1.0,\n",
      "                      'summary': 'Summary for https://example.com/convo/0 (no '\n",
      "                                 'prompt provided)',\n",
      "                      'url': 'https://example.com/convo/0'},\n",
      "                     {'conversation': {'messages': [{'author': 'alice',\n",
      "                                                     'text': 'Initial issue '\n",
      "                                                             'description.'},\n",
      "                                                    {'author': 'bob',\n",
      "                                                     'text': 'Follow-up '\n",
      "                                                             'discussion.'}],\n",
      "                                       'url': 'https://example.com/convo/1'},\n",
      "                      'score': 0.9,\n",
      "                      'summary': 'Summary for https://example.com/convo/1 (no '\n",
      "                                 'prompt provided)',\n",
      "                      'url': 'https://example.com/convo/1'},\n",
      "                     {'conversation': {'messages': [{'author': 'alice',\n",
      "                                                     'text': 'Initial issue '\n",
      "                                                             'description.'},\n",
      "                                                    {'author': 'bob',\n",
      "                                                     'text': 'Follow-up '\n",
      "                                                             'discussion.'}],\n",
      "                                       'url': 'https://example.com/convo/2'},\n",
      "                      'score': 0.8,\n",
      "                      'summary': 'Summary for https://example.com/convo/2 (no '\n",
      "                                 'prompt provided)',\n",
      "                      'url': 'https://example.com/convo/2'},\n",
      "                     {'score': 1.0,\n",
      "                      'summary': 'Summary of What are the recent discussions '\n",
      "                                 'about authentication failures? #0',\n",
      "                      'url': 'https://example.com/convo/0'},\n",
      "                     {'score': 0.9,\n",
      "                      'summary': 'Summary of What are the recent discussions '\n",
      "                                 'about authentication failures? #1',\n",
      "                      'url': 'https://example.com/convo/1'},\n",
      "                     {'score': 0.8,\n",
      "                      'summary': 'Summary of What are the recent discussions '\n",
      "                                 'about authentication failures? #2',\n",
      "                      'url': 'https://example.com/convo/2'},\n",
      "                     {'score': 0.7,\n",
      "                      'summary': 'Summary of What are the recent discussions '\n",
      "                                 'about authentication failures? #3',\n",
      "                      'url': 'https://example.com/convo/3'},\n",
      "                     {'score': 0.6,\n",
      "                      'summary': 'Summary of What are the recent discussions '\n",
      "                                 'about authentication failures? #4',\n",
      "                      'url': 'https://example.com/convo/4'},\n",
      "                     {'score': 1.0,\n",
      "                      'summary': 'Summary of {} #0',\n",
      "                      'url': 'https://example.com/convo/0'},\n",
      "                     {'score': 0.9,\n",
      "                      'summary': 'Summary of {} #1',\n",
      "                      'url': 'https://example.com/convo/1'},\n",
      "                     {'score': 0.8,\n",
      "                      'summary': 'Summary of {} #2',\n",
      "                      'url': 'https://example.com/convo/2'},\n",
      "                     {'score': 0.7,\n",
      "                      'summary': 'Summary of {} #3',\n",
      "                      'url': 'https://example.com/convo/3'},\n",
      "                     {'score': 0.6,\n",
      "                      'summary': 'Summary of {} #4',\n",
      "                      'url': 'https://example.com/convo/4'}],\n",
      "            'notes': [],\n",
      "            'search_queries': ['What are the recent discussions about '\n",
      "                               'authentication failures?',\n",
      "                               'What are the recent discussions about '\n",
      "                               'authentication failures?',\n",
      "                               '{}']},\n",
      " 'models': {'embed': 'default', 'fast': 'default', 'reasoning': 'default'},\n",
      " 'next_search_plans': [{'query': '{}', 'tool': 'semantic'}],\n",
      " 'parallel': False,\n",
      " 'request': 'What are the recent discussions about authentication failures?',\n",
      " 'script_dir': 'scripts',\n",
      " 'search_modes': ['semantic'],\n",
      " 'top_k': 3,\n",
      " 'unsupported_claims': ['Claim 1', 'Claim 2'],\n",
      " 'verbose': True,\n",
      " 'verification_attempts': 1}\n"
     ]
    }
   ],
   "source": [
    "options = {\n",
    "    'collection': None,\n",
    "    'limit': 3,\n",
    "    'max_depth': 1,\n",
    "    'editor_file': None,\n",
    "    'clarifying_qa': clarifying_qa,\n",
    "    'search_modes': ['semantic'],\n",
    "    'cache_path': None,\n",
    "    'models': {'fast': 'default', 'reasoning': 'default', 'embed': 'default'},\n",
    "    'parallel': False,\n",
    "    'verbose': True,\n",
    "}\n",
    "agent = GitHubAgent('What are the recent discussions about authentication failures?', options)\n",
    "result = agent.run()\n",
    "print('=== AGENT RUN RESULT ===')\n",
    "pprint(result)\n",
    "print('=== SHARED STATE ===')\n",
    "pprint(agent.shared)"
   ]
  },
  {
   "cell_type": "code",
   "execution_count": 4,
   "id": "66530db3",
   "metadata": {},
   "outputs": [
    {
     "name": "stdout",
     "output_type": "stream",
     "text": [
      "Basic assertions passed: result appears to be a final report dict\n"
     ]
    }
   ],
   "source": [
    "# Simple runtime checks (no external test files created)\n",
    "assert isinstance(result, dict), 'Agent result should be a dict'\n",
    "# The agent returns a structured final report placed in shared['final_report']\n",
    "assert 'num_conversations' in result, 'Result missing num_conversations key'\n",
    "print('Basic assertions passed: result appears to be a final report dict')"
   ]
  },
  {
   "cell_type": "code",
   "execution_count": 5,
   "id": "64e54515",
   "metadata": {},
   "outputs": [
    {
     "name": "stdout",
     "output_type": "stream",
     "text": [
      "Saved agent output to /Users/romanofoti/romanofoti/doppiozero/agent_test_output.json\n"
     ]
    }
   ],
   "source": [
    "# Save the result artifact for inspection\n",
    "import json\n",
    "out_path = Path('agent_test_output.json').resolve()\n",
    "with open(out_path, 'w', encoding='utf-8') as f:\n",
    "    json.dump(result, f, ensure_ascii=False, indent=2)\n",
    "print('Saved agent output to', out_path)"
   ]
  },
  {
   "cell_type": "code",
   "execution_count": null,
   "id": "69e90052-0420-4c00-9a59-a876dcc41d7c",
   "metadata": {},
   "outputs": [],
   "source": []
  }
 ],
 "metadata": {
  "kernelspec": {
   "display_name": "Python 3 (ipykernel)",
   "language": "python",
   "name": "python3"
  },
  "language_info": {
   "codemirror_mode": {
    "name": "ipython",
    "version": 3
   },
   "file_extension": ".py",
   "mimetype": "text/x-python",
   "name": "python",
   "nbconvert_exporter": "python",
   "pygments_lexer": "ipython3",
   "version": "3.12.2"
  }
 },
 "nbformat": 4,
 "nbformat_minor": 5
}
