{
 "cells": [
  {
   "cell_type": "code",
   "execution_count": 1,
   "id": "c2200829-eac3-4cdb-8c23-e76e29351ef1",
   "metadata": {},
   "outputs": [],
   "source": [
    "from doppiozero.agents.gh_deep_search import GitHubAgent"
   ]
  },
  {
   "cell_type": "code",
   "execution_count": null,
   "id": "8e47333a-b6db-41f3-bccd-22a930f6cb7e",
   "metadata": {},
   "outputs": [],
   "source": [
    "options = {\n",
    "    \"collection\": False,\n",
    "    \"limit\": 5,\n",
    "    \"max_depth\": 2,\n",
    "    \"editor_file\": \"./editor_tmp.txt\",\n",
    "    \"clarifying_qa\": args.clarifying_qa,\n",
    "    \"search_modes\": args.search_modes.split(\",\") if args.search_modes else None,\n",
    "    \"cache_path\": args.cache_path,\n",
    "    \"models\": {\"fast\": args.fast_model, \"reasoning\": args.reasoning_model},\n",
    "    \"parallel\": False,\n",
    "    \"verbose\": True,\n",
    "}"
   ]
  },
  {
   "cell_type": "code",
   "execution_count": null,
   "id": "8277b06a-e031-40a1-a3a6-03c168799fdb",
   "metadata": {},
   "outputs": [],
   "source": [
    "agent = GitHubAgent("
   ]
  },
  {
   "cell_type": "code",
   "execution_count": null,
   "id": "48cc389f-513f-486d-85eb-50cb3589fc80",
   "metadata": {},
   "outputs": [],
   "source": []
  }
 ],
 "metadata": {
  "kernelspec": {
   "display_name": "Python 3 (ipykernel)",
   "language": "python",
   "name": "python3"
  },
  "language_info": {
   "codemirror_mode": {
    "name": "ipython",
    "version": 3
   },
   "file_extension": ".py",
   "mimetype": "text/x-python",
   "name": "python",
   "nbconvert_exporter": "python",
   "pygments_lexer": "ipython3",
   "version": "3.12.2"
  }
 },
 "nbformat": 4,
 "nbformat_minor": 5
}
